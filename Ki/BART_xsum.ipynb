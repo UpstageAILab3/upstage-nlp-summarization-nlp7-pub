{
 "cells": [
  {
   "cell_type": "code",
   "execution_count": 1,
   "metadata": {},
   "outputs": [],
   "source": [
    "import pandas as pd\n",
    "import os\n",
    "import re\n",
    "import json\n",
    "import yaml\n",
    "from glob import glob\n",
    "from tqdm import tqdm\n",
    "from pprint import pprint\n",
    "import torch\n",
    "import pytorch_lightning as pl\n",
    "from rouge import Rouge\n",
    "\n",
    "from torch.utils.data import Dataset , DataLoader\n",
    "from transformers import AutoTokenizer, BartForConditionalGeneration, BartConfig\n",
    "from transformers import Seq2SeqTrainingArguments, Seq2SeqTrainer\n",
    "from transformers import Trainer, TrainingArguments\n",
    "from transformers import EarlyStoppingCallback\n",
    "\n",
    "import wandb "
   ]
  },
  {
   "cell_type": "code",
   "execution_count": 2,
   "metadata": {},
   "outputs": [],
   "source": [
    "tokenizer = AutoTokenizer.from_pretrained(\"knkarthick/MEETING-SUMMARY-BART-LARGE-XSUM-SAMSUM-DIALOGSUM\")"
   ]
  },
  {
   "cell_type": "code",
   "execution_count": 3,
   "metadata": {},
   "outputs": [],
   "source": [
    "config_data = {\n",
    "    \"general\": {\n",
    "        \"data_path\": \"../data/\", \n",
    "        \"model_name\": \"knkarthick/MEETING-SUMMARY-BART-LARGE-XSUM-SAMSUM-DIALOGSUM\",\n",
    "        \"output_dir\": \"./\" \n",
    "    },\n",
    "    \"tokenizer\": {\n",
    "        \"encoder_max_len\": 512,\n",
    "        \"decoder_max_len\": 100,\n",
    "        \"bos_token\": f\"{tokenizer.bos_token}\",\n",
    "        \"eos_token\": f\"{tokenizer.eos_token}\",\n",
    "        \"special_tokens\": ['#Person1#', '#Person2#', '#Person3#', '#PhoneNumber#', '#Address#', '#PassportNumber#']\n",
    "    },\n",
    "    \"training\": {\n",
    "        \"overwrite_output_dir\": True,\n",
    "        \"num_train_epochs\": 12,\n",
    "        \"learning_rate\": 2.7239932412675317e-05,\n",
    "        \"per_device_train_batch_size\": 4,\n",
    "        \"per_device_eval_batch_size\": 8,\n",
    "        \"warmup_ratio\": 0.2534231630584237,\n",
    "        \"weight_decay\": 0.01,\n",
    "        \"lr_scheduler_type\": 'linear',\n",
    "        \"optim\": 'adamw_hf',\n",
    "        \"gradient_accumulation_steps\": 1,\n",
    "        \"evaluation_strategy\": 'epoch',\n",
    "        \"save_strategy\": 'epoch',\n",
    "        \"save_total_limit\": 5,\n",
    "        \"fp16\": True,\n",
    "        \"load_best_model_at_end\": True,\n",
    "        \"seed\": 42,\n",
    "        \"logging_dir\": \"./logs\",\n",
    "        \"logging_strategy\": \"epoch\",\n",
    "        \"predict_with_generate\": True,\n",
    "        \"generation_max_length\": 100,\n",
    "        \"do_train\": True,\n",
    "        \"do_eval\": True,\n",
    "        \"early_stopping_patience\": 3,\n",
    "        \"early_stopping_threshold\": 0.001,\n",
    "        \"report_to\": \"wandb\"\n",
    "    },\n",
    "\n",
    "    \"wandb\": {\n",
    "        \"entity\": \"legendki\",\n",
    "        \"project\": \"NLP-Summarization\",\n",
    "        \"name\": \"BART-LARGE-XSUM-SAMSUM-DIALOGSUM\",\n",
    "    },\n",
    "    \"inference\": {\n",
    "        \"ckt_path\": \"model ckt path\", \n",
    "        \"result_path\": \"./prediction/\",\n",
    "        \"no_repeat_ngram_size\": 2,\n",
    "        \"early_stopping\": True,\n",
    "        \"generate_max_length\": 100,\n",
    "        \"num_beams\": 4,\n",
    "        \"batch_size\" : 32,\n",
    "        \"remove_tokens\": ['<usr>', f\"{tokenizer.bos_token}\", f\"{tokenizer.eos_token}\", f\"{tokenizer.pad_token}\"]\n",
    "    }\n",
    "}"
   ]
  },
  {
   "cell_type": "code",
   "execution_count": 4,
   "metadata": {},
   "outputs": [],
   "source": [
    "config_path = \"./config.yaml\"\n",
    "with open(config_path, \"w\") as file:\n",
    "    yaml.dump(config_data, file, allow_unicode=True)\n",
    "    \n",
    "config_path = \"./config.yaml\"\n",
    "with open(config_path, \"r\") as file:\n",
    "    loaded_config = yaml.safe_load(file)"
   ]
  },
  {
   "cell_type": "code",
   "execution_count": 5,
   "metadata": {},
   "outputs": [
    {
     "name": "stdout",
     "output_type": "stream",
     "text": [
      "{'general': {'data_path': '../data/',\n",
      "             'model_name': 'knkarthick/MEETING-SUMMARY-BART-LARGE-XSUM-SAMSUM-DIALOGSUM',\n",
      "             'output_dir': './'},\n",
      " 'inference': {'batch_size': 32,\n",
      "               'ckt_path': 'model ckt path',\n",
      "               'early_stopping': True,\n",
      "               'generate_max_length': 100,\n",
      "               'no_repeat_ngram_size': 2,\n",
      "               'num_beams': 4,\n",
      "               'remove_tokens': ['<usr>', '<s>', '</s>', '<pad>'],\n",
      "               'result_path': './prediction/'},\n",
      " 'tokenizer': {'bos_token': '<s>',\n",
      "               'decoder_max_len': 100,\n",
      "               'encoder_max_len': 512,\n",
      "               'eos_token': '</s>',\n",
      "               'special_tokens': ['#Person1#',\n",
      "                                  '#Person2#',\n",
      "                                  '#Person3#',\n",
      "                                  '#PhoneNumber#',\n",
      "                                  '#Address#',\n",
      "                                  '#PassportNumber#']},\n",
      " 'training': {'do_eval': True,\n",
      "              'do_train': True,\n",
      "              'early_stopping_patience': 3,\n",
      "              'early_stopping_threshold': 0.001,\n",
      "              'evaluation_strategy': 'epoch',\n",
      "              'fp16': True,\n",
      "              'generation_max_length': 100,\n",
      "              'gradient_accumulation_steps': 1,\n",
      "              'learning_rate': 2.7239932412675317e-05,\n",
      "              'load_best_model_at_end': True,\n",
      "              'logging_dir': './logs',\n",
      "              'logging_strategy': 'epoch',\n",
      "              'lr_scheduler_type': 'linear',\n",
      "              'num_train_epochs': 12,\n",
      "              'optim': 'adamw_hf',\n",
      "              'overwrite_output_dir': True,\n",
      "              'per_device_eval_batch_size': 8,\n",
      "              'per_device_train_batch_size': 4,\n",
      "              'predict_with_generate': True,\n",
      "              'report_to': 'wandb',\n",
      "              'save_strategy': 'epoch',\n",
      "              'save_total_limit': 5,\n",
      "              'seed': 42,\n",
      "              'warmup_ratio': 0.2534231630584237,\n",
      "              'weight_decay': 0.01},\n",
      " 'wandb': {'entity': 'legendki',\n",
      "           'name': 'BART-LARGE-XSUM-SAMSUM-DIALOGSUM',\n",
      "           'project': 'NLP-Summarization'}}\n"
     ]
    }
   ],
   "source": [
    "pprint(loaded_config)\n",
    "loaded_config['general']\n",
    "loaded_config['tokenizer']\n",
    "data_path = loaded_config['general']['data_path']"
   ]
  },
  {
   "cell_type": "code",
   "execution_count": 6,
   "metadata": {},
   "outputs": [
    {
     "data": {
      "text/html": [
       "<div>\n",
       "<style scoped>\n",
       "    .dataframe tbody tr th:only-of-type {\n",
       "        vertical-align: middle;\n",
       "    }\n",
       "\n",
       "    .dataframe tbody tr th {\n",
       "        vertical-align: top;\n",
       "    }\n",
       "\n",
       "    .dataframe thead th {\n",
       "        text-align: right;\n",
       "    }\n",
       "</style>\n",
       "<table border=\"1\" class=\"dataframe\">\n",
       "  <thead>\n",
       "    <tr style=\"text-align: right;\">\n",
       "      <th></th>\n",
       "      <th>fname</th>\n",
       "      <th>dialogue</th>\n",
       "      <th>summary</th>\n",
       "      <th>topic</th>\n",
       "      <th>translated_dialogue</th>\n",
       "      <th>translated_summary</th>\n",
       "    </tr>\n",
       "  </thead>\n",
       "  <tbody>\n",
       "    <tr>\n",
       "      <th>12452</th>\n",
       "      <td>train_12455</td>\n",
       "      <td>#Person1#: 실례합니다. 맨체스터 출신의 그린 씨이신가요?\\n#Person2...</td>\n",
       "      <td>탄 링은 흰머리와 수염으로 쉽게 인식되는 그린 씨를 만나 호텔로 데려갈 예정입니다....</td>\n",
       "      <td>누군가를 태우다</td>\n",
       "      <td>#Person1#: Excuse me. Are you Mr. Green from M...</td>\n",
       "      <td>Tan Ling is going to meet Mr. Green, who is ea...</td>\n",
       "    </tr>\n",
       "    <tr>\n",
       "      <th>12453</th>\n",
       "      <td>train_12456</td>\n",
       "      <td>#Person1#: 이윙 씨가 우리가 컨퍼런스 센터에 오후 4시에 도착해야 한다고 ...</td>\n",
       "      <td>#Person1#과 #Person2#는 이윙 씨가 늦지 않도록 요청했기 때문에 컨퍼...</td>\n",
       "      <td>컨퍼런스 센터</td>\n",
       "      <td>#Person1#: Mr. Ewing said we should be at the ...</td>\n",
       "      <td>#Person1# and #Person2# planned to take the su...</td>\n",
       "    </tr>\n",
       "    <tr>\n",
       "      <th>12454</th>\n",
       "      <td>train_12457</td>\n",
       "      <td>#Person1#: 오늘 어떻게 도와드릴까요?\\n#Person2#: 차를 빌리고 싶...</td>\n",
       "      <td>#Person2#는 #Person1#의 도움으로 5일 동안 소형 차를 빌립니다.</td>\n",
       "      <td>차 렌트</td>\n",
       "      <td>#Person1#: How can I help you today?\\n#Person2...</td>\n",
       "      <td>#Person2# rents a compact car for five days wi...</td>\n",
       "    </tr>\n",
       "    <tr>\n",
       "      <th>12455</th>\n",
       "      <td>train_12458</td>\n",
       "      <td>#Person1#: 오늘 좀 행복해 보이지 않아. 무슨 일 있어?\\n#Person2...</td>\n",
       "      <td>#Person2#의 엄마가 일자리를 잃었다. #Person2#는 엄마가 우울해하지 ...</td>\n",
       "      <td>실직</td>\n",
       "      <td>#Person1#: You don't look very happy today. Is...</td>\n",
       "      <td>#Person2#'s mom lost her job. #Person2# doesn'...</td>\n",
       "    </tr>\n",
       "    <tr>\n",
       "      <th>12456</th>\n",
       "      <td>train_12459</td>\n",
       "      <td>#Person1#: 엄마, 다음 토요일에 이 삼촌네 가족을 방문하기 위해 비행기를 ...</td>\n",
       "      <td>#Person1#은 다음 토요일에 이 삼촌네를 방문할 때 가방을 어떻게 싸야 할지 ...</td>\n",
       "      <td>짐 싸기</td>\n",
       "      <td>#Person1#: Mom, we're flying to visit my Uncle...</td>\n",
       "      <td>#Person1# asks #Person2# for advice on how to ...</td>\n",
       "    </tr>\n",
       "  </tbody>\n",
       "</table>\n",
       "</div>"
      ],
      "text/plain": [
       "             fname                                           dialogue  \\\n",
       "12452  train_12455  #Person1#: 실례합니다. 맨체스터 출신의 그린 씨이신가요?\\n#Person2...   \n",
       "12453  train_12456  #Person1#: 이윙 씨가 우리가 컨퍼런스 센터에 오후 4시에 도착해야 한다고 ...   \n",
       "12454  train_12457  #Person1#: 오늘 어떻게 도와드릴까요?\\n#Person2#: 차를 빌리고 싶...   \n",
       "12455  train_12458  #Person1#: 오늘 좀 행복해 보이지 않아. 무슨 일 있어?\\n#Person2...   \n",
       "12456  train_12459  #Person1#: 엄마, 다음 토요일에 이 삼촌네 가족을 방문하기 위해 비행기를 ...   \n",
       "\n",
       "                                                 summary     topic  \\\n",
       "12452  탄 링은 흰머리와 수염으로 쉽게 인식되는 그린 씨를 만나 호텔로 데려갈 예정입니다....  누군가를 태우다   \n",
       "12453  #Person1#과 #Person2#는 이윙 씨가 늦지 않도록 요청했기 때문에 컨퍼...   컨퍼런스 센터   \n",
       "12454       #Person2#는 #Person1#의 도움으로 5일 동안 소형 차를 빌립니다.      차 렌트   \n",
       "12455  #Person2#의 엄마가 일자리를 잃었다. #Person2#는 엄마가 우울해하지 ...        실직   \n",
       "12456  #Person1#은 다음 토요일에 이 삼촌네를 방문할 때 가방을 어떻게 싸야 할지 ...      짐 싸기   \n",
       "\n",
       "                                     translated_dialogue  \\\n",
       "12452  #Person1#: Excuse me. Are you Mr. Green from M...   \n",
       "12453  #Person1#: Mr. Ewing said we should be at the ...   \n",
       "12454  #Person1#: How can I help you today?\\n#Person2...   \n",
       "12455  #Person1#: You don't look very happy today. Is...   \n",
       "12456  #Person1#: Mom, we're flying to visit my Uncle...   \n",
       "\n",
       "                                      translated_summary  \n",
       "12452  Tan Ling is going to meet Mr. Green, who is ea...  \n",
       "12453  #Person1# and #Person2# planned to take the su...  \n",
       "12454  #Person2# rents a compact car for five days wi...  \n",
       "12455  #Person2#'s mom lost her job. #Person2# doesn'...  \n",
       "12456  #Person1# asks #Person2# for advice on how to ...  "
      ]
     },
     "execution_count": 6,
     "metadata": {},
     "output_type": "execute_result"
    }
   ],
   "source": [
    "train_df = pd.read_csv(os.path.join(data_path,'train_translated.csv'))\n",
    "train_df.tail()"
   ]
  },
  {
   "cell_type": "code",
   "execution_count": 7,
   "metadata": {},
   "outputs": [
    {
     "data": {
      "text/html": [
       "<div>\n",
       "<style scoped>\n",
       "    .dataframe tbody tr th:only-of-type {\n",
       "        vertical-align: middle;\n",
       "    }\n",
       "\n",
       "    .dataframe tbody tr th {\n",
       "        vertical-align: top;\n",
       "    }\n",
       "\n",
       "    .dataframe thead th {\n",
       "        text-align: right;\n",
       "    }\n",
       "</style>\n",
       "<table border=\"1\" class=\"dataframe\">\n",
       "  <thead>\n",
       "    <tr style=\"text-align: right;\">\n",
       "      <th></th>\n",
       "      <th>fname</th>\n",
       "      <th>dialogue</th>\n",
       "      <th>summary</th>\n",
       "      <th>topic</th>\n",
       "      <th>translated_dialogue</th>\n",
       "      <th>translated_summary</th>\n",
       "    </tr>\n",
       "  </thead>\n",
       "  <tbody>\n",
       "    <tr>\n",
       "      <th>494</th>\n",
       "      <td>dev_495</td>\n",
       "      <td>#Person1#: 이제 새해가 되어서 새로운 시작을 하려고 결심했어. \\r\\n#P...</td>\n",
       "      <td>#Person1#은 새해에 금연을 하고 커밍아웃하기로 결정했습니다. #Person2...</td>\n",
       "      <td>새해</td>\n",
       "      <td>#Person1#: Now that it's a new year, I've deci...</td>\n",
       "      <td>#Person1# has decided to quit smoking and come...</td>\n",
       "    </tr>\n",
       "    <tr>\n",
       "      <th>495</th>\n",
       "      <td>dev_496</td>\n",
       "      <td>#Person1#: 너, 조랑 결혼했지? \\r\\n#Person2#: 조? 무슨 말인...</td>\n",
       "      <td>#Person1#은 #Person2#가 조와 결혼했다고 생각했다. #Person2#...</td>\n",
       "      <td>사랑에 빠지다</td>\n",
       "      <td>#Person1#: You, you married Joe, right? \\r\\n#P...</td>\n",
       "      <td>#Person1# thought #Person2# was married to Joe...</td>\n",
       "    </tr>\n",
       "    <tr>\n",
       "      <th>496</th>\n",
       "      <td>dev_497</td>\n",
       "      <td>#Person1#: 무엇을 도와드릴까요, 부인?\\r\\n#Person2#: 몇 주 동...</td>\n",
       "      <td>#Person2#의 차에서 이상한 소리가 납니다. #Person1#는 브레이크를 교...</td>\n",
       "      <td>소음</td>\n",
       "      <td>#Person1#: What can I do for you, ma'am?\\r\\n#P...</td>\n",
       "      <td>There is a strange noise coming from #Person2#...</td>\n",
       "    </tr>\n",
       "    <tr>\n",
       "      <th>497</th>\n",
       "      <td>dev_498</td>\n",
       "      <td>#Person1#: 안녕하세요, 아마존 고객 서비스입니다. 무엇을 도와드릴까요?\\n...</td>\n",
       "      <td>#Person2#님이 아마존 고객 서비스에 전화하여 아마존에서 받은 책에 한 페이지...</td>\n",
       "      <td>빠진 페이지</td>\n",
       "      <td>#Person1#: Hello, this is Amazon customer serv...</td>\n",
       "      <td>#Person2# calls Amazon customer service to say...</td>\n",
       "    </tr>\n",
       "    <tr>\n",
       "      <th>498</th>\n",
       "      <td>dev_499</td>\n",
       "      <td>#Person1#: 여름이 다 되어간다는 게 믿기지 않아.\\r\\n#Person2#:...</td>\n",
       "      <td>#Person2#는 #Person1#에게 여름 휴가 동안 파티를 도와주는 회사에서 ...</td>\n",
       "      <td>여름 휴가</td>\n",
       "      <td>#Person1#: I can't believe it's almost the end...</td>\n",
       "      <td>#Person2# tells #Person1# that he will be work...</td>\n",
       "    </tr>\n",
       "  </tbody>\n",
       "</table>\n",
       "</div>"
      ],
      "text/plain": [
       "       fname                                           dialogue  \\\n",
       "494  dev_495  #Person1#: 이제 새해가 되어서 새로운 시작을 하려고 결심했어. \\r\\n#P...   \n",
       "495  dev_496  #Person1#: 너, 조랑 결혼했지? \\r\\n#Person2#: 조? 무슨 말인...   \n",
       "496  dev_497  #Person1#: 무엇을 도와드릴까요, 부인?\\r\\n#Person2#: 몇 주 동...   \n",
       "497  dev_498  #Person1#: 안녕하세요, 아마존 고객 서비스입니다. 무엇을 도와드릴까요?\\n...   \n",
       "498  dev_499  #Person1#: 여름이 다 되어간다는 게 믿기지 않아.\\r\\n#Person2#:...   \n",
       "\n",
       "                                               summary    topic  \\\n",
       "494  #Person1#은 새해에 금연을 하고 커밍아웃하기로 결정했습니다. #Person2...       새해   \n",
       "495  #Person1#은 #Person2#가 조와 결혼했다고 생각했다. #Person2#...  사랑에 빠지다   \n",
       "496  #Person2#의 차에서 이상한 소리가 납니다. #Person1#는 브레이크를 교...       소음   \n",
       "497  #Person2#님이 아마존 고객 서비스에 전화하여 아마존에서 받은 책에 한 페이지...   빠진 페이지   \n",
       "498  #Person2#는 #Person1#에게 여름 휴가 동안 파티를 도와주는 회사에서 ...    여름 휴가   \n",
       "\n",
       "                                   translated_dialogue  \\\n",
       "494  #Person1#: Now that it's a new year, I've deci...   \n",
       "495  #Person1#: You, you married Joe, right? \\r\\n#P...   \n",
       "496  #Person1#: What can I do for you, ma'am?\\r\\n#P...   \n",
       "497  #Person1#: Hello, this is Amazon customer serv...   \n",
       "498  #Person1#: I can't believe it's almost the end...   \n",
       "\n",
       "                                    translated_summary  \n",
       "494  #Person1# has decided to quit smoking and come...  \n",
       "495  #Person1# thought #Person2# was married to Joe...  \n",
       "496  There is a strange noise coming from #Person2#...  \n",
       "497  #Person2# calls Amazon customer service to say...  \n",
       "498  #Person2# tells #Person1# that he will be work...  "
      ]
     },
     "execution_count": 7,
     "metadata": {},
     "output_type": "execute_result"
    }
   ],
   "source": [
    "val_df = pd.read_csv(os.path.join(data_path,'dev_translated.csv'))\n",
    "val_df.tail()"
   ]
  },
  {
   "cell_type": "code",
   "execution_count": 8,
   "metadata": {},
   "outputs": [],
   "source": [
    "class Preprocess:\n",
    "    def __init__(self,\n",
    "            bos_token: str,\n",
    "            eos_token: str,\n",
    "        ) -> None:\n",
    "\n",
    "        self.bos_token = bos_token\n",
    "        self.eos_token = eos_token\n",
    "\n",
    "    @staticmethod\n",
    "    def make_set_as_df(file_path, is_train = True):\n",
    "        if is_train:\n",
    "            df = pd.read_csv(file_path)\n",
    "            train_df = df[['fname','translated_dialogue','translated_summary']]\n",
    "            return train_df\n",
    "        else:\n",
    "            df = pd.read_csv(file_path)\n",
    "            test_df = df[['fname','translated_dialogue']]\n",
    "            return test_df\n",
    "\n",
    "    def make_input(self, dataset,is_test = False):\n",
    "        if is_test:\n",
    "            encoder_input = dataset['translated_dialogue']\n",
    "            decoder_input = [self.bos_token] * len(dataset['translated_dialogue'])\n",
    "            return encoder_input.tolist(), list(decoder_input)\n",
    "        else:\n",
    "            encoder_input = dataset['translated_dialogue']\n",
    "            decoder_input = dataset['translated_summary'].apply(lambda x : self.bos_token + str(x))\n",
    "            decoder_output = dataset['translated_summary'].apply(lambda x : str(x) + self.eos_token)\n",
    "            return encoder_input.tolist(), decoder_input.tolist(), decoder_output.tolist()"
   ]
  },
  {
   "cell_type": "code",
   "execution_count": 9,
   "metadata": {},
   "outputs": [],
   "source": [
    "class DatasetForTrain(Dataset):\n",
    "    def __init__(self, encoder_input, decoder_input, labels, len):\n",
    "        self.encoder_input = encoder_input\n",
    "        self.decoder_input = decoder_input\n",
    "        self.labels = labels\n",
    "        self.len = len\n",
    "\n",
    "    def __getitem__(self, idx):\n",
    "        item = {key: val[idx].clone().detach() for key, val in self.encoder_input.items()}\n",
    "        item2 = {key: val[idx].clone().detach() for key, val in self.decoder_input.items()} \n",
    "        item2['decoder_input_ids'] = item2['input_ids']\n",
    "        item2['decoder_attention_mask'] = item2['attention_mask']\n",
    "        item2.pop('input_ids')\n",
    "        item2.pop('attention_mask')\n",
    "        item.update(item2)\n",
    "        item['labels'] = self.labels['input_ids'][idx]\n",
    "        return item\n",
    "\n",
    "    def __len__(self):\n",
    "        return self.len\n",
    "    \n",
    "\n",
    "class DatasetForVal(Dataset):\n",
    "    def __init__(self, encoder_input, decoder_input, labels, len):\n",
    "        self.encoder_input = encoder_input\n",
    "        self.decoder_input = decoder_input\n",
    "        self.labels = labels\n",
    "        self.len = len\n",
    "\n",
    "    def __getitem__(self, idx):\n",
    "        item = {key: val[idx].clone().detach() for key, val in self.encoder_input.items()} \n",
    "        item2 = {key: val[idx].clone().detach() for key, val in self.decoder_input.items()} \n",
    "        item2['decoder_input_ids'] = item2['input_ids']\n",
    "        item2['decoder_attention_mask'] = item2['attention_mask']\n",
    "        item2.pop('input_ids')\n",
    "        item2.pop('attention_mask')\n",
    "        item.update(item2) \n",
    "        item['labels'] = self.labels['input_ids'][idx]\n",
    "        return item\n",
    "\n",
    "    def __len__(self):\n",
    "        return self.len\n",
    "\n",
    "class DatasetForInference(Dataset):\n",
    "    def __init__(self, encoder_input, test_id, len):\n",
    "        self.encoder_input = encoder_input\n",
    "        self.test_id = test_id\n",
    "        self.len = len\n",
    "\n",
    "    def __getitem__(self, idx):\n",
    "        item = {key: val[idx].clone().detach() for key, val in self.encoder_input.items()}\n",
    "        item['ID'] = self.test_id[idx]\n",
    "        return item\n",
    "\n",
    "    def __len__(self):\n",
    "        return self.len"
   ]
  },
  {
   "cell_type": "code",
   "execution_count": 10,
   "metadata": {},
   "outputs": [],
   "source": [
    "def prepare_train_dataset(config, preprocessor, data_path, tokenizer):\n",
    "    train_file_path = os.path.join(data_path,'train_translated.csv')\n",
    "    val_file_path = os.path.join(data_path,'dev_translated.csv')\n",
    "\n",
    "    train_data = preprocessor.make_set_as_df(train_file_path)\n",
    "    val_data = preprocessor.make_set_as_df(val_file_path)\n",
    "\n",
    "    print('-'*150)\n",
    "    print(f'train_data:\\n {train_data[\"translated_dialogue\"][0]}')\n",
    "    print(f'train_label:\\n {train_data[\"translated_summary\"][0]}')\n",
    "\n",
    "    print('-'*150)\n",
    "    print(f'val_data:\\n {val_data[\"translated_dialogue\"][0]}')\n",
    "    print(f'val_label:\\n {val_data[\"translated_summary\"][0]}')\n",
    "\n",
    "    encoder_input_train , decoder_input_train, decoder_output_train = preprocessor.make_input(train_data)\n",
    "    encoder_input_val , decoder_input_val, decoder_output_val = preprocessor.make_input(val_data)\n",
    "    print('-'*10, 'Load data complete', '-'*10,)\n",
    "\n",
    "    tokenized_encoder_inputs = tokenizer(encoder_input_train, return_tensors=\"pt\", padding=True,\n",
    "                            add_special_tokens=True, truncation=True, max_length=config['tokenizer']['encoder_max_len'], return_token_type_ids=False)\n",
    "    tokenized_decoder_inputs = tokenizer(decoder_input_train, return_tensors=\"pt\", padding=True,\n",
    "                        add_special_tokens=True, truncation=True, max_length=config['tokenizer']['decoder_max_len'], return_token_type_ids=False)\n",
    "    tokenized_decoder_ouputs = tokenizer(decoder_output_train, return_tensors=\"pt\", padding=True,\n",
    "                        add_special_tokens=True, truncation=True, max_length=config['tokenizer']['decoder_max_len'], return_token_type_ids=False)\n",
    "\n",
    "    train_inputs_dataset = DatasetForTrain(tokenized_encoder_inputs, tokenized_decoder_inputs, tokenized_decoder_ouputs,len(encoder_input_train))\n",
    "\n",
    "    val_tokenized_encoder_inputs = tokenizer(encoder_input_val, return_tensors=\"pt\", padding=True,\n",
    "                        add_special_tokens=True, truncation=True, max_length=config['tokenizer']['encoder_max_len'], return_token_type_ids=False)\n",
    "    val_tokenized_decoder_inputs = tokenizer(decoder_input_val, return_tensors=\"pt\", padding=True,\n",
    "                        add_special_tokens=True, truncation=True, max_length=config['tokenizer']['decoder_max_len'], return_token_type_ids=False)\n",
    "    val_tokenized_decoder_ouputs = tokenizer(decoder_output_val, return_tensors=\"pt\", padding=True,\n",
    "                        add_special_tokens=True, truncation=True, max_length=config['tokenizer']['decoder_max_len'], return_token_type_ids=False)\n",
    "\n",
    "    val_inputs_dataset = DatasetForVal(val_tokenized_encoder_inputs, val_tokenized_decoder_inputs, val_tokenized_decoder_ouputs,len(encoder_input_val))\n",
    "\n",
    "    print('-'*10, 'Make dataset complete', '-'*10,)\n",
    "    return train_inputs_dataset, val_inputs_dataset"
   ]
  },
  {
   "cell_type": "code",
   "execution_count": 11,
   "metadata": {},
   "outputs": [],
   "source": [
    "def compute_metrics(config,tokenizer,pred):\n",
    "    rouge = Rouge()\n",
    "    predictions = pred.predictions\n",
    "    labels = pred.label_ids\n",
    "\n",
    "    predictions[predictions == -100] = tokenizer.pad_token_id\n",
    "    labels[labels == -100] = tokenizer.pad_token_id\n",
    "\n",
    "    decoded_preds = tokenizer.batch_decode(predictions, clean_up_tokenization_spaces=True)\n",
    "    labels = tokenizer.batch_decode(labels, clean_up_tokenization_spaces=True)\n",
    "\n",
    "    replaced_predictions = decoded_preds.copy()\n",
    "    replaced_labels = labels.copy()\n",
    "    remove_tokens = config['inference']['remove_tokens']\n",
    "    for token in remove_tokens:\n",
    "        replaced_predictions = [sentence.replace(token,\" \") for sentence in replaced_predictions]\n",
    "        replaced_labels = [sentence.replace(token,\" \") for sentence in replaced_labels]\n",
    "\n",
    "    print('-'*150)\n",
    "    print(f\"PRED: {replaced_predictions[0]}\")\n",
    "    print(f\"GOLD: {replaced_labels[0]}\")\n",
    "    print('-'*150)\n",
    "    print(f\"PRED: {replaced_predictions[1]}\")\n",
    "    print(f\"GOLD: {replaced_labels[1]}\")\n",
    "    print('-'*150)\n",
    "    print(f\"PRED: {replaced_predictions[2]}\")\n",
    "    print(f\"GOLD: {replaced_labels[2]}\")\n",
    "\n",
    "    results = rouge.get_scores(replaced_predictions, replaced_labels,avg=True)\n",
    "\n",
    "    result = {key: value[\"f\"] for key, value in results.items()}\n",
    "    return result"
   ]
  },
  {
   "cell_type": "code",
   "execution_count": 12,
   "metadata": {},
   "outputs": [],
   "source": [
    "def load_trainer_for_train(config,generate_model,tokenizer,train_inputs_dataset,val_inputs_dataset):\n",
    "    print('-'*10, 'Make training arguments', '-'*10,)\n",
    "    training_args = Seq2SeqTrainingArguments(\n",
    "                output_dir=config['general']['output_dir'], \n",
    "                overwrite_output_dir=config['training']['overwrite_output_dir'],\n",
    "                num_train_epochs=config['training']['num_train_epochs'],  \n",
    "                learning_rate=config['training']['learning_rate'], \n",
    "                per_device_train_batch_size=config['training']['per_device_train_batch_size'], \n",
    "                per_device_eval_batch_size=config['training']['per_device_eval_batch_size'],\n",
    "                warmup_ratio=config['training']['warmup_ratio'], \n",
    "                weight_decay=config['training']['weight_decay'],  \n",
    "                lr_scheduler_type=config['training']['lr_scheduler_type'],\n",
    "                optim =config['training']['optim'],\n",
    "                gradient_accumulation_steps=config['training']['gradient_accumulation_steps'],\n",
    "                evaluation_strategy=config['training']['evaluation_strategy'],\n",
    "                save_strategy =config['training']['save_strategy'],\n",
    "                save_total_limit=config['training']['save_total_limit'],\n",
    "                fp16=config['training']['fp16'],\n",
    "                load_best_model_at_end=config['training']['load_best_model_at_end'],\n",
    "                seed=config['training']['seed'],\n",
    "                logging_dir=config['training']['logging_dir'],\n",
    "                logging_strategy=config['training']['logging_strategy'],\n",
    "                predict_with_generate=config['training']['predict_with_generate'], \n",
    "                generation_max_length=config['training']['generation_max_length'],\n",
    "                do_train=config['training']['do_train'],\n",
    "                do_eval=config['training']['do_eval'],\n",
    "                report_to=config['training']['report_to'] \n",
    "            )\n",
    "\n",
    "    wandb.init(\n",
    "        entity=config['wandb']['entity'],\n",
    "        project=config['wandb']['project'],\n",
    "        name=config['wandb']['name'],\n",
    "    )\n",
    "\n",
    "    os.environ[\"WANDB_LOG_MODEL\"]=\"end\"\n",
    "    os.environ[\"WANDB_WATCH\"]=\"false\"\n",
    "\n",
    "    MyCallback = EarlyStoppingCallback(\n",
    "        early_stopping_patience=config['training']['early_stopping_patience'],\n",
    "        early_stopping_threshold=config['training']['early_stopping_threshold']\n",
    "    )\n",
    "    print('-'*10, 'Make training arguments complete', '-'*10,)\n",
    "    print('-'*10, 'Make trainer', '-'*10,)\n",
    "\n",
    "    trainer = Seq2SeqTrainer(\n",
    "        model=generate_model, \n",
    "        args=training_args,\n",
    "        train_dataset=train_inputs_dataset,\n",
    "        eval_dataset=val_inputs_dataset,\n",
    "        compute_metrics = lambda pred: compute_metrics(config,tokenizer, pred),\n",
    "        callbacks = [MyCallback]\n",
    "    )\n",
    "    print('-'*10, 'Make trainer complete', '-'*10,)\n",
    "\n",
    "    return trainer"
   ]
  },
  {
   "cell_type": "code",
   "execution_count": 13,
   "metadata": {},
   "outputs": [],
   "source": [
    "def load_tokenizer_and_model_for_train(config,device):\n",
    "    print('-'*10, 'Load tokenizer & model', '-'*10,)\n",
    "    print('-'*10, f'Model Name : {config[\"general\"][\"model_name\"]}', '-'*10,)\n",
    "    model_name = config['general']['model_name']\n",
    "    bart_config = BartConfig().from_pretrained(model_name)\n",
    "    tokenizer = AutoTokenizer.from_pretrained(model_name)\n",
    "    generate_model = BartForConditionalGeneration.from_pretrained(config['general']['model_name'],config=bart_config)\n",
    "\n",
    "    special_tokens_dict={'additional_special_tokens':config['tokenizer']['special_tokens']}\n",
    "    tokenizer.add_special_tokens(special_tokens_dict)\n",
    "\n",
    "    generate_model.resize_token_embeddings(len(tokenizer)) \n",
    "    generate_model.to(device)\n",
    "    print(generate_model.config)\n",
    "\n",
    "    print('-'*10, 'Load tokenizer & model complete', '-'*10,)\n",
    "    return generate_model , tokenizer"
   ]
  },
  {
   "cell_type": "code",
   "execution_count": 14,
   "metadata": {},
   "outputs": [],
   "source": [
    "def main(config):\n",
    "    device = torch.device('cuda:0' if torch.cuda.is_available()  else 'cpu')\n",
    "    print('-'*10, f'device : {device}', '-'*10,)\n",
    "    print(torch.__version__)\n",
    "\n",
    "    generate_model , tokenizer = load_tokenizer_and_model_for_train(config,device)\n",
    "    print('-'*10,\"tokenizer special tokens : \",tokenizer.special_tokens_map,'-'*10)\n",
    "\n",
    "    preprocessor = Preprocess(config['tokenizer']['bos_token'], config['tokenizer']['eos_token']) # decoder_start_token: str, eos_token: str\n",
    "    data_path = config['general']['data_path']\n",
    "    train_inputs_dataset, val_inputs_dataset = prepare_train_dataset(config,preprocessor, data_path, tokenizer)\n",
    "\n",
    "    trainer = load_trainer_for_train(config, generate_model,tokenizer,train_inputs_dataset,val_inputs_dataset)\n",
    "    trainer.train()  \n",
    "\n",
    "    wandb.finish()"
   ]
  },
  {
   "cell_type": "code",
   "execution_count": 15,
   "metadata": {},
   "outputs": [
    {
     "name": "stdout",
     "output_type": "stream",
     "text": [
      "---------- device : cuda:0 ----------\n",
      "2.1.0\n",
      "---------- Load tokenizer & model ----------\n",
      "---------- Model Name : knkarthick/MEETING-SUMMARY-BART-LARGE-XSUM-SAMSUM-DIALOGSUM ----------\n",
      "BartConfig {\n",
      "  \"_name_or_path\": \"knkarthick/MEETING-SUMMARY-BART-LARGE-XSUM-SAMSUM-DIALOGSUM\",\n",
      "  \"_num_labels\": 3,\n",
      "  \"activation_dropout\": 0.0,\n",
      "  \"activation_function\": \"gelu\",\n",
      "  \"add_bias_logits\": false,\n",
      "  \"add_final_layer_norm\": false,\n",
      "  \"architectures\": [\n",
      "    \"BartForConditionalGeneration\"\n",
      "  ],\n",
      "  \"attention_dropout\": 0.0,\n",
      "  \"bos_token_id\": 0,\n",
      "  \"classif_dropout\": 0.0,\n",
      "  \"classifier_dropout\": 0.0,\n",
      "  \"d_model\": 1024,\n",
      "  \"decoder_attention_heads\": 16,\n",
      "  \"decoder_ffn_dim\": 4096,\n",
      "  \"decoder_layerdrop\": 0.0,\n",
      "  \"decoder_layers\": 12,\n",
      "  \"decoder_start_token_id\": 2,\n",
      "  \"dropout\": 0.1,\n",
      "  \"early_stopping\": true,\n",
      "  \"encoder_attention_heads\": 16,\n",
      "  \"encoder_ffn_dim\": 4096,\n",
      "  \"encoder_layerdrop\": 0.0,\n",
      "  \"encoder_layers\": 12,\n",
      "  \"eos_token_id\": 2,\n",
      "  \"eos_token_ids\": [\n",
      "    2\n",
      "  ],\n",
      "  \"forced_eos_token_id\": 2,\n",
      "  \"gradient_checkpointing\": false,\n",
      "  \"id2label\": {\n",
      "    \"0\": \"LABEL_0\",\n",
      "    \"1\": \"LABEL_1\",\n",
      "    \"2\": \"LABEL_2\"\n",
      "  },\n",
      "  \"init_std\": 0.02,\n",
      "  \"is_encoder_decoder\": true,\n",
      "  \"label2id\": {\n",
      "    \"LABEL_0\": 0,\n",
      "    \"LABEL_1\": 1,\n",
      "    \"LABEL_2\": 2\n",
      "  },\n",
      "  \"max_length\": 62,\n",
      "  \"max_position_embeddings\": 1024,\n",
      "  \"min_length\": 11,\n",
      "  \"model_type\": \"bart\",\n",
      "  \"no_repeat_ngram_size\": 3,\n",
      "  \"normalize_before\": false,\n",
      "  \"normalize_embedding\": true,\n",
      "  \"num_beams\": 6,\n",
      "  \"num_hidden_layers\": 12,\n",
      "  \"output_past\": true,\n",
      "  \"pad_token_id\": 1,\n",
      "  \"prefix\": \" \",\n",
      "  \"replacing_rate\": 0,\n",
      "  \"scale_embedding\": false,\n",
      "  \"static_position_embeddings\": false,\n",
      "  \"student_decoder_layers\": null,\n",
      "  \"student_encoder_layers\": null,\n",
      "  \"task_specific_params\": {},\n",
      "  \"torch_dtype\": \"float32\",\n",
      "  \"transformers_version\": \"4.35.2\",\n",
      "  \"use_cache\": true,\n",
      "  \"vocab_size\": 50271\n",
      "}\n",
      "\n",
      "---------- Load tokenizer & model complete ----------\n",
      "---------- tokenizer special tokens :  {'bos_token': '<s>', 'eos_token': '</s>', 'unk_token': '<unk>', 'sep_token': '</s>', 'pad_token': '<pad>', 'cls_token': '<s>', 'mask_token': '<mask>', 'additional_special_tokens': ['#PassportNumber#', '#Person2#', '#Address#', '#Person1#', '#PhoneNumber#', '#Person3#']} ----------\n",
      "------------------------------------------------------------------------------------------------------------------------------------------------------\n",
      "train_data:\n",
      " #Person1#: Hello, Mr. Smith. I'm Dr. Hawkins. Why are you here today?\n",
      "#Person2#: I thought it would be a good idea to have a checkup.\n",
      "#Person1#: That's right, you haven't had one in five years. You should have one every year.\n",
      "#Person2#: I know. But if nothing is wrong, why should I go to see a doctor?\n",
      "#Person1#: The best way to avoid serious illness is to catch these early. So for your own good, come at least once a year.\n",
      "#Person2#: I see.\n",
      "#Person1#: Look here. Your eyes and ears seem to be fine. Take a deep breath. Do you smoke, Mr. Smith?\n",
      "#Person2#: Yes.\n",
      "#Person1#: As you know, smoking is the main cause of lung cancer and heart disease. You really should quit.\n",
      "#Person2#: I've tried hundreds of times, but I find it hard to break the habit.\n",
      "#Person1#: We have classes and medicines that can help. I'll give you more information before you leave.\n",
      "#Person2#: OK, thank you, doctor.\n",
      "train_label:\n",
      " Mr. Smith is having a physical exam, and Dr. Hawkins recommends that he have a physical exam every year. Dr. Hawkins will give Mr. Smith information about classes and medications that can help him quit smoking.\n",
      "------------------------------------------------------------------------------------------------------------------------------------------------------\n",
      "val_data:\n",
      " #Person1#: Hello, how are you today?\n",
      "#Person2#: I'm having a little trouble breathing lately.\n",
      "#Person1#: Have you been sick with anything lately, like a cold?\n",
      "#Person2#: No, it's not a cold. It just feels like my chest is heavy every time I breathe.\n",
      "#Person1#: Do you have any known allergies?\n",
      "#Person2#: No, I don't have any known allergies.\n",
      "#Person1#: Does this happen all the time, or is it mostly when you are active?\n",
      "#Person2#: It happens a lot when I exercise.\n",
      "#Person1#: I'm going to send you to a pulmonologist to get checked for asthma.\n",
      "#Person2#: Thank you for helping me, doctor.\n",
      "val_label:\n",
      " #Person2# has difficulty breathing. The doctor asks #Person1# about this, and will send #Person2# to a lung specialist.\n",
      "---------- Load data complete ----------\n"
     ]
    },
    {
     "name": "stderr",
     "output_type": "stream",
     "text": [
      "Failed to detect the name of this notebook, you can set it manually with the WANDB_NOTEBOOK_NAME environment variable to enable code saving.\n"
     ]
    },
    {
     "name": "stdout",
     "output_type": "stream",
     "text": [
      "---------- Make dataset complete ----------\n",
      "---------- Make training arguments ----------\n"
     ]
    },
    {
     "name": "stderr",
     "output_type": "stream",
     "text": [
      "\u001b[34m\u001b[1mwandb\u001b[0m: Currently logged in as: \u001b[33mrmadyd0314\u001b[0m (\u001b[33mlegendki\u001b[0m). Use \u001b[1m`wandb login --relogin`\u001b[0m to force relogin\n"
     ]
    },
    {
     "data": {
      "text/html": [
       "wandb version 0.17.9 is available!  To upgrade, please run:\n",
       " $ pip install wandb --upgrade"
      ],
      "text/plain": [
       "<IPython.core.display.HTML object>"
      ]
     },
     "metadata": {},
     "output_type": "display_data"
    },
    {
     "data": {
      "text/html": [
       "Tracking run with wandb version 0.16.1"
      ],
      "text/plain": [
       "<IPython.core.display.HTML object>"
      ]
     },
     "metadata": {},
     "output_type": "display_data"
    },
    {
     "data": {
      "text/html": [
       "Run data is saved locally in <code>/home/upstage-nlp-summarization-nlp7/code/wandb/run-20240907_040936-p39iwok3</code>"
      ],
      "text/plain": [
       "<IPython.core.display.HTML object>"
      ]
     },
     "metadata": {},
     "output_type": "display_data"
    },
    {
     "data": {
      "text/html": [
       "Syncing run <strong><a href='https://wandb.ai/legendki/NLP-Summarization/runs/p39iwok3' target=\"_blank\">BART-LARGE-XSUM-SAMSUM-DIALOGSUM</a></strong> to <a href='https://wandb.ai/legendki/NLP-Summarization' target=\"_blank\">Weights & Biases</a> (<a href='https://wandb.me/run' target=\"_blank\">docs</a>)<br/>"
      ],
      "text/plain": [
       "<IPython.core.display.HTML object>"
      ]
     },
     "metadata": {},
     "output_type": "display_data"
    },
    {
     "data": {
      "text/html": [
       " View project at <a href='https://wandb.ai/legendki/NLP-Summarization' target=\"_blank\">https://wandb.ai/legendki/NLP-Summarization</a>"
      ],
      "text/plain": [
       "<IPython.core.display.HTML object>"
      ]
     },
     "metadata": {},
     "output_type": "display_data"
    },
    {
     "data": {
      "text/html": [
       " View run at <a href='https://wandb.ai/legendki/NLP-Summarization/runs/p39iwok3' target=\"_blank\">https://wandb.ai/legendki/NLP-Summarization/runs/p39iwok3</a>"
      ],
      "text/plain": [
       "<IPython.core.display.HTML object>"
      ]
     },
     "metadata": {},
     "output_type": "display_data"
    },
    {
     "name": "stderr",
     "output_type": "stream",
     "text": [
      "Detected kernel version 5.4.0, which is below the recommended minimum of 5.5.0; this can cause the process to hang. It is recommended to upgrade the kernel to the minimum version or higher.\n"
     ]
    },
    {
     "name": "stdout",
     "output_type": "stream",
     "text": [
      "---------- Make training arguments complete ----------\n",
      "---------- Make trainer ----------\n",
      "---------- Make trainer complete ----------\n"
     ]
    },
    {
     "name": "stderr",
     "output_type": "stream",
     "text": [
      "/opt/conda/lib/python3.10/site-packages/transformers/optimization.py:411: FutureWarning: This implementation of AdamW is deprecated and will be removed in a future version. Use the PyTorch implementation torch.optim.AdamW instead, or set `no_deprecation_warning=True` to disable this warning\n",
      "  warnings.warn(\n"
     ]
    },
    {
     "data": {
      "text/html": [
       "\n",
       "    <div>\n",
       "      \n",
       "      <progress value='12460' max='37380' style='width:300px; height:20px; vertical-align: middle;'></progress>\n",
       "      [12460/37380 40:03 < 1:20:08, 5.18 it/s, Epoch 4/12]\n",
       "    </div>\n",
       "    <table border=\"1\" class=\"dataframe\">\n",
       "  <thead>\n",
       " <tr style=\"text-align: left;\">\n",
       "      <th>Epoch</th>\n",
       "      <th>Training Loss</th>\n",
       "      <th>Validation Loss</th>\n",
       "      <th>Rouge-1</th>\n",
       "      <th>Rouge-2</th>\n",
       "      <th>Rouge-l</th>\n",
       "    </tr>\n",
       "  </thead>\n",
       "  <tbody>\n",
       "    <tr>\n",
       "      <td>1</td>\n",
       "      <td>1.345000</td>\n",
       "      <td>0.492696</td>\n",
       "      <td>0.496252</td>\n",
       "      <td>0.212064</td>\n",
       "      <td>0.465547</td>\n",
       "    </tr>\n",
       "    <tr>\n",
       "      <td>2</td>\n",
       "      <td>0.360700</td>\n",
       "      <td>0.518918</td>\n",
       "      <td>0.482701</td>\n",
       "      <td>0.197970</td>\n",
       "      <td>0.446882</td>\n",
       "    </tr>\n",
       "    <tr>\n",
       "      <td>3</td>\n",
       "      <td>0.305100</td>\n",
       "      <td>0.554917</td>\n",
       "      <td>0.475083</td>\n",
       "      <td>0.190306</td>\n",
       "      <td>0.439825</td>\n",
       "    </tr>\n",
       "    <tr>\n",
       "      <td>4</td>\n",
       "      <td>0.243700</td>\n",
       "      <td>0.550260</td>\n",
       "      <td>0.475856</td>\n",
       "      <td>0.182316</td>\n",
       "      <td>0.440986</td>\n",
       "    </tr>\n",
       "  </tbody>\n",
       "</table><p>"
      ],
      "text/plain": [
       "<IPython.core.display.HTML object>"
      ]
     },
     "metadata": {},
     "output_type": "display_data"
    },
    {
     "name": "stdout",
     "output_type": "stream",
     "text": [
      "------------------------------------------------------------------------------------------------------------------------------------------------------\n",
      "PRED:   #Person2# has been having trouble breathing lately. #Person1# will send #Person2# to a pulmonologist to check for asthma.                                                                          \n",
      "GOLD:  #Person2# has difficulty breathing. The doctor asks #Person1# about this, and will send #Person2# to a lung specialist.                                                            \n",
      "------------------------------------------------------------------------------------------------------------------------------------------------------\n",
      "PRED:     #Person1# and Jimmy are going to meet at the gym at 3:30 p.m. to work out. #Person1# wants to work on arms and abs, but Jimmy is following a weekly schedule.                                                        \n",
      "GOLD:  #Person1# suggests to Jimmy that they go to the gym and convinces him to work out his arms and stomach.                                                             \n",
      "------------------------------------------------------------------------------------------------------------------------------------------------------\n",
      "PRED:     #Person1# wants to stop eating unhealthy food. #Person2# tells #Person1# that they eat fruit, vegetables, and chicken.                                                                         \n",
      "GOLD:  #Person1# is planning to stop eating unhealthy food, and #Person2# shares his healthy recipes with #Person1#.                                                               \n",
      "------------------------------------------------------------------------------------------------------------------------------------------------------\n",
      "PRED:     #Person2# has been having trouble breathing lately. #Person1# will send #Person2# to a pulmonologist to get checked for asthma.                                                                   \n",
      "GOLD:  #Person2# has difficulty breathing. The doctor asks #Person1# about this, and will send #Person2# to a lung specialist.                                                            \n",
      "------------------------------------------------------------------------------------------------------------------------------------------------------\n",
      "PRED:     #Person1# and Jimmy are going to work out later. They are meeting at the gym at 3:30 to work on arms and abs.                                                                 \n",
      "GOLD:  #Person1# suggests to Jimmy that they go to the gym and convinces him to work out his arms and stomach.                                                             \n",
      "------------------------------------------------------------------------------------------------------------------------------------------------------\n",
      "PRED:     #Person1# needs to stop eating unhealthy food. #Person2# tells #Person1# that #Person2# eats fruit, vegetables, and chicken.                                                                    \n",
      "GOLD:  #Person1# is planning to stop eating unhealthy food, and #Person2# shares his healthy recipes with #Person1#.                                                               \n",
      "------------------------------------------------------------------------------------------------------------------------------------------------------\n",
      "PRED:     #Person2# tells #Person1# that they have been having trouble breathing lately. #Person1# will send #Person2# to a pulmonologist to check for asthma.                                                                   \n",
      "GOLD:  #Person2# has difficulty breathing. The doctor asks #Person1# about this, and will send #Person2# to a lung specialist.                                                            \n",
      "------------------------------------------------------------------------------------------------------------------------------------------------------\n",
      "PRED:     #Person1# and Jimmy are going to work out. #Person1# wants to work on arms and abs, but Jimmy is following a weekly schedule.                                                                     \n",
      "GOLD:  #Person1# suggests to Jimmy that they go to the gym and convinces him to work out his arms and stomach.                                                             \n",
      "------------------------------------------------------------------------------------------------------------------------------------------------------\n",
      "PRED:     #Person2# tells #Person1# that they have started eating healthy food. #Person2# mainly eats fruits, vegetables, and chicken.                                                                         \n",
      "GOLD:  #Person1# is planning to stop eating unhealthy food, and #Person2# shares his healthy recipes with #Person1#.                                                               \n",
      "------------------------------------------------------------------------------------------------------------------------------------------------------\n",
      "PRED:   #Person2# has been having trouble breathing lately. #Person1# will send #Person2# to a pulmonologist to check for asthma.                                                                          \n",
      "GOLD:  #Person2# has difficulty breathing. The doctor asks #Person1# about this, and will send #Person2# to a lung specialist.                                                            \n",
      "------------------------------------------------------------------------------------------------------------------------------------------------------\n",
      "PRED:  #Person1# wants to work out with Jimmy. Jimmy thinks #Person1# is messing up his weekly schedule. They decide to meet at the gym at 3:30.                                                                    \n",
      "GOLD:  #Person1# suggests to Jimmy that they go to the gym and convinces him to work out his arms and stomach.                                                             \n",
      "------------------------------------------------------------------------------------------------------------------------------------------------------\n",
      "PRED:     #Person2# told #Person1# that #Person2# has started eating healthy food like fruit, vegetables, and chicken. #Person1# thinks that sounds healthier.                                                                     \n",
      "GOLD:  #Person1# is planning to stop eating unhealthy food, and #Person2# shares his healthy recipes with #Person1#.                                                               \n"
     ]
    },
    {
     "name": "stderr",
     "output_type": "stream",
     "text": [
      "There were missing keys in the checkpoint model loaded: ['model.encoder.embed_tokens.weight', 'model.decoder.embed_tokens.weight', 'lm_head.weight'].\n",
      "Detected kernel version 5.4.0, which is below the recommended minimum of 5.5.0; this can cause the process to hang. It is recommended to upgrade the kernel to the minimum version or higher.\n"
     ]
    },
    {
     "data": {
      "application/vnd.jupyter.widget-view+json": {
       "model_id": "0b5ecfe39d5b49189e1d67707c2a2297",
       "version_major": 2,
       "version_minor": 0
      },
      "text/plain": [
       "VBox(children=(Label(value='1550.164 MB of 1550.164 MB uploaded\\r'), FloatProgress(value=1.0, max=1.0)))"
      ]
     },
     "metadata": {},
     "output_type": "display_data"
    },
    {
     "name": "stderr",
     "output_type": "stream",
     "text": [
      "wandb: WARNING Source type is set to 'repo' but some required information is missing from the environment. A job will not be created from this run. See https://docs.wandb.ai/guides/launch/create-job\n"
     ]
    },
    {
     "data": {
      "text/html": [
       "<style>\n",
       "    table.wandb td:nth-child(1) { padding: 0 10px; text-align: left ; width: auto;} td:nth-child(2) {text-align: left ; width: 100%}\n",
       "    .wandb-row { display: flex; flex-direction: row; flex-wrap: wrap; justify-content: flex-start; width: 100% }\n",
       "    .wandb-col { display: flex; flex-direction: column; flex-basis: 100%; flex: 1; padding: 10px; }\n",
       "    </style>\n",
       "<div class=\"wandb-row\"><div class=\"wandb-col\"><h3>Run history:</h3><br/><table class=\"wandb\"><tr><td>eval/loss</td><td>▁▄█▇</td></tr><tr><td>eval/rouge-1</td><td>█▄▁▁</td></tr><tr><td>eval/rouge-2</td><td>█▅▃▁</td></tr><tr><td>eval/rouge-l</td><td>█▃▁▁</td></tr><tr><td>eval/runtime</td><td>▅▅█▁</td></tr><tr><td>eval/samples_per_second</td><td>▄▄▁█</td></tr><tr><td>eval/steps_per_second</td><td>▄▄▁█</td></tr><tr><td>train/epoch</td><td>▁▁▃▃▆▆███</td></tr><tr><td>train/global_step</td><td>▁▁▃▃▆▆███</td></tr><tr><td>train/learning_rate</td><td>▁▄█▇</td></tr><tr><td>train/loss</td><td>█▂▁▁</td></tr><tr><td>train/total_flos</td><td>▁</td></tr><tr><td>train/train_loss</td><td>▁</td></tr><tr><td>train/train_runtime</td><td>▁</td></tr><tr><td>train/train_samples_per_second</td><td>▁</td></tr><tr><td>train/train_steps_per_second</td><td>▁</td></tr></table><br/></div><div class=\"wandb-col\"><h3>Run summary:</h3><br/><table class=\"wandb\"><tr><td>eval/loss</td><td>0.55026</td></tr><tr><td>eval/rouge-1</td><td>0.47586</td></tr><tr><td>eval/rouge-2</td><td>0.18232</td></tr><tr><td>eval/rouge-l</td><td>0.44099</td></tr><tr><td>eval/runtime</td><td>78.268</td></tr><tr><td>eval/samples_per_second</td><td>6.376</td></tr><tr><td>eval/steps_per_second</td><td>0.805</td></tr><tr><td>train/epoch</td><td>4.0</td></tr><tr><td>train/global_step</td><td>12460</td></tr><tr><td>train/learning_rate</td><td>2e-05</td></tr><tr><td>train/loss</td><td>0.2437</td></tr><tr><td>train/total_flos</td><td>5.399124405701837e+16</td></tr><tr><td>train/train_loss</td><td>0.56361</td></tr><tr><td>train/train_runtime</td><td>2397.1301</td></tr><tr><td>train/train_samples_per_second</td><td>62.36</td></tr><tr><td>train/train_steps_per_second</td><td>15.594</td></tr></table><br/></div></div>"
      ],
      "text/plain": [
       "<IPython.core.display.HTML object>"
      ]
     },
     "metadata": {},
     "output_type": "display_data"
    },
    {
     "data": {
      "text/html": [
       " View run <strong style=\"color:#cdcd00\">BART-LARGE-XSUM-SAMSUM-DIALOGSUM</strong> at: <a href='https://wandb.ai/legendki/NLP-Summarization/runs/p39iwok3' target=\"_blank\">https://wandb.ai/legendki/NLP-Summarization/runs/p39iwok3</a><br/>Synced 6 W&B file(s), 0 media file(s), 4 artifact file(s) and 0 other file(s)"
      ],
      "text/plain": [
       "<IPython.core.display.HTML object>"
      ]
     },
     "metadata": {},
     "output_type": "display_data"
    },
    {
     "data": {
      "text/html": [
       "Find logs at: <code>./wandb/run-20240907_040936-p39iwok3/logs</code>"
      ],
      "text/plain": [
       "<IPython.core.display.HTML object>"
      ]
     },
     "metadata": {},
     "output_type": "display_data"
    }
   ],
   "source": [
    "if __name__ == \"__main__\":\n",
    "    main(loaded_config)"
   ]
  },
  {
   "cell_type": "code",
   "execution_count": 16,
   "metadata": {},
   "outputs": [],
   "source": [
    "loaded_config['inference']['ckt_path'] = \"./checkpoint-9345\""
   ]
  },
  {
   "cell_type": "code",
   "execution_count": 17,
   "metadata": {},
   "outputs": [],
   "source": [
    "def prepare_test_dataset(config,preprocessor, tokenizer):\n",
    "\n",
    "    test_file_path = os.path.join(config['general']['data_path'],'test_translated.csv')\n",
    "\n",
    "    test_data = preprocessor.make_set_as_df(test_file_path,is_train=False)\n",
    "    test_id = test_data['fname']\n",
    "\n",
    "    print('-'*150)\n",
    "    print(f'test_data:\\n{test_data[\"translated_dialogue\"][0]}')\n",
    "    print('-'*150)\n",
    "\n",
    "    encoder_input_test , decoder_input_test = preprocessor.make_input(test_data,is_test=True)\n",
    "    print('-'*10, 'Load data complete', '-'*10,)\n",
    "\n",
    "    test_tokenized_encoder_inputs = tokenizer(encoder_input_test, return_tensors=\"pt\", padding=True,\n",
    "                    add_special_tokens=True, truncation=True, max_length=config['tokenizer']['encoder_max_len'], return_token_type_ids=False,)\n",
    "    test_tokenized_decoder_inputs = tokenizer(decoder_input_test, return_tensors=\"pt\", padding=True,\n",
    "                    add_special_tokens=True, truncation=True, max_length=config['tokenizer']['decoder_max_len'], return_token_type_ids=False,)\n",
    "\n",
    "    test_encoder_inputs_dataset = DatasetForInference(test_tokenized_encoder_inputs, test_id, len(encoder_input_test))\n",
    "    print('-'*10, 'Make dataset complete', '-'*10,)\n",
    "\n",
    "    return test_data, test_encoder_inputs_dataset"
   ]
  },
  {
   "cell_type": "code",
   "execution_count": 18,
   "metadata": {},
   "outputs": [],
   "source": [
    "def load_tokenizer_and_model_for_test(config,device):\n",
    "    print('-'*10, 'Load tokenizer & model', '-'*10,)\n",
    "\n",
    "    model_name = config['general']['model_name']\n",
    "    ckt_path = config['inference']['ckt_path']\n",
    "    print('-'*10, f'Model Name : {model_name}', '-'*10,)\n",
    "    tokenizer = AutoTokenizer.from_pretrained(model_name)\n",
    "    special_tokens_dict = {'additional_special_tokens': config['tokenizer']['special_tokens']}\n",
    "    tokenizer.add_special_tokens(special_tokens_dict)\n",
    "\n",
    "    generate_model = BartForConditionalGeneration.from_pretrained(ckt_path)\n",
    "    generate_model.resize_token_embeddings(len(tokenizer))\n",
    "    generate_model.to(device)\n",
    "    print('-'*10, 'Load tokenizer & model complete', '-'*10,)\n",
    "\n",
    "    return generate_model , tokenizer"
   ]
  },
  {
   "cell_type": "code",
   "execution_count": 20,
   "metadata": {},
   "outputs": [],
   "source": [
    "def inference(config):\n",
    "    device = torch.device('cuda:0' if torch.cuda.is_available()  else 'cpu')\n",
    "    print('-'*10, f'device : {device}', '-'*10,)\n",
    "    print(torch.__version__)\n",
    "\n",
    "    generate_model , tokenizer = load_tokenizer_and_model_for_test(config,device)\n",
    "\n",
    "    data_path = config['general']['data_path']\n",
    "    preprocessor = Preprocess(config['tokenizer']['bos_token'], config['tokenizer']['eos_token'])\n",
    "\n",
    "    test_data, test_encoder_inputs_dataset = prepare_test_dataset(config,preprocessor, tokenizer)\n",
    "    dataloader = DataLoader(test_encoder_inputs_dataset, batch_size=config['inference']['batch_size'])\n",
    "\n",
    "    summary = []\n",
    "    text_ids = []\n",
    "    with torch.no_grad():\n",
    "        for item in tqdm(dataloader):\n",
    "            text_ids.extend(item['ID'])\n",
    "            generated_ids = generate_model.generate(input_ids=item['input_ids'].to('cuda:0'),\n",
    "                            no_repeat_ngram_size=config['inference']['no_repeat_ngram_size'],\n",
    "                            early_stopping=config['inference']['early_stopping'],\n",
    "                            max_length=config['inference']['generate_max_length'],\n",
    "                            num_beams=config['inference']['num_beams'],\n",
    "                        )\n",
    "            for ids in generated_ids:\n",
    "                result = tokenizer.decode(ids)\n",
    "                summary.append(result)\n",
    "\n",
    "    remove_tokens = config['inference']['remove_tokens']\n",
    "    preprocessed_summary = summary.copy()\n",
    "    for token in remove_tokens:\n",
    "        preprocessed_summary = [sentence.replace(token,\" \") for sentence in preprocessed_summary]\n",
    "\n",
    "    output = pd.DataFrame(\n",
    "        {\n",
    "            \"fname\": test_data['fname'],\n",
    "            \"summary\" : preprocessed_summary,\n",
    "        }\n",
    "    )\n",
    "    result_path = config['inference']['result_path']\n",
    "    if not os.path.exists(result_path):\n",
    "        os.makedirs(result_path)\n",
    "    output.to_csv(os.path.join(result_path, \"tuned_bart_xsum.csv\"), index=False)\n",
    "\n",
    "    return output"
   ]
  },
  {
   "cell_type": "code",
   "execution_count": 21,
   "metadata": {},
   "outputs": [
    {
     "name": "stdout",
     "output_type": "stream",
     "text": [
      "---------- device : cuda:0 ----------\n",
      "2.1.0\n",
      "---------- Load tokenizer & model ----------\n",
      "---------- Model Name : knkarthick/MEETING-SUMMARY-BART-LARGE-XSUM-SAMSUM-DIALOGSUM ----------\n",
      "---------- Load tokenizer & model complete ----------\n",
      "------------------------------------------------------------------------------------------------------------------------------------------------------\n",
      "test_data:\n",
      "#Person1#: Mr. Derson, please take down dictation.\n",
      "#Person2#: Yes, Mr. President...\n",
      "#Person1#: This is to be an internal memo to all employees by this afternoon. Are you ready?\n",
      "#Person2#: Yes, Mr. President. You may begin.\n",
      "#Person1#: Attention all employees... effective immediately, all office communications are to be limited to email correspondence and official memos. The use of instant message programs by employees during working hours is strictly prohibited.\n",
      "#Person2#: Mr. President, does this apply only to internal communications? Or is there a restriction on external communications as well?\n",
      "#Person1#: This is to apply to all communications, not only between employees within this office.\n",
      "#Person2#: But Mr. President, many employees are using instant messages to communicate with clients.\n",
      "#Person1#: They will have to change their method of communication. I do not want anyone in this office using instant messages. It wastes too much time! Now, please continue with the memo. Where did we leave off?\n",
      "#Person2#: This applies to internal and external communications.\n",
      "#Person1#: That is correct. Any employee who continues to use instant messages will first be warned and placed on job suspension. On a second offense, the employee will be subject to termination. Any questions about this new policy may be directed to the department heads.\n",
      "#Person2#: Is that all, sir?\n",
      "#Person1#: Yes. Please type and distribute this memo to all employees before 4:00 p.m.\n",
      "------------------------------------------------------------------------------------------------------------------------------------------------------\n",
      "---------- Load data complete ----------\n",
      "---------- Make dataset complete ----------\n"
     ]
    },
    {
     "name": "stderr",
     "output_type": "stream",
     "text": [
      "100%|██████████| 16/16 [00:42<00:00,  2.67s/it]\n"
     ]
    }
   ],
   "source": [
    "if __name__ == \"__main__\":\n",
    "    output = inference(loaded_config)"
   ]
  },
  {
   "cell_type": "code",
   "execution_count": 22,
   "metadata": {},
   "outputs": [],
   "source": [
    "from openai import OpenAI\n",
    "import pandas as pd"
   ]
  },
  {
   "cell_type": "code",
   "execution_count": 23,
   "metadata": {},
   "outputs": [
    {
     "name": "stdout",
     "output_type": "stream",
     "text": [
      "saved to output_.csv.\n"
     ]
    }
   ],
   "source": [
    "client = OpenAI(\n",
    "    api_key=\"API_KEY\", \n",
    "    base_url=\"https://api.upstage.ai/v1/solar\"\n",
    ")\n",
    "\n",
    "def translate_text(text):\n",
    "    try:\n",
    "        response = client.chat.completions.create(\n",
    "            model=\"solar-1-mini-translate-enko\",\n",
    "            messages=[\n",
    "                {\n",
    "                    \"role\": \"user\",\n",
    "                    \"content\": \"#Person2#'s mom lost her job. #Person2# doesn't want her mom to be depressed. #Person1# suggests #Person2# look for job leads on the internet.\"\n",
    "                },\n",
    "                {\n",
    "                    \"role\": \"assistant\",\n",
    "                    \"content\": \"#Person2#의 엄마가 일자리를 잃었다. #Person2#는 엄마가 우울해하지 않기를 바란다. #Person1#은 #Person2#에게 인터넷에서 일자리 정보를 찾아보는 것을 제안한다.\"\n",
    "                },\n",
    "                {\n",
    "                    \"role\": \"user\",\n",
    "                    \"content\": \"#Person1# asks #Person2# for advice on how to pack a bag for a visit to this uncle's house next Saturday.\"\n",
    "                },\n",
    "                {\n",
    "                    \"role\": \"assistant\",\n",
    "                    \"content\": \"#Person1#은 다음 토요일에 이 삼촌네를 방문할 때 가방을 어떻게 싸야 할지 #Person2#에게 조언을 구합니다.\"\n",
    "                },\n",
    "                {\n",
    "                    \"role\": \"user\",\n",
    "                    \"content\": \"데이브는 #Person2#가 그가 웹트래커에서 일하고 있다는 것을 추론할 수 있다는 사실에 놀란다.\"\n",
    "                },\n",
    "                {\n",
    "                    \"role\": \"assistant\",\n",
    "                    \"content\": \"Dave is surprised that #Person2# can deduce that he is working for WebTracker.\"\n",
    "                },\n",
    "                {\n",
    "                    \"role\": \"user\",\n",
    "                    \"content\": \"Bill tells #Person1# that he found out his roommate is Brain Locker.\"\n",
    "                },\n",
    "                {\n",
    "                    \"role\": \"assistant\",\n",
    "                    \"content\": \"빌은 #Person1#에게 자신의 룸메이트가 브래인 로커라는 것을 알게 되었다고 말한다.\"\n",
    "                },\n",
    "                {\n",
    "                    \"role\": \"user\",\n",
    "                    \"content\": text\n",
    "                }\n",
    "            ],\n",
    "            stream=False  \n",
    "        )\n",
    "        return response.choices[0].message.content\n",
    "    except Exception as e:\n",
    "        print(f\"Error translating text: {e}\")\n",
    "        return None\n",
    "\n",
    "df = pd.read_csv(\"./prediction/tuned_bart_xsum.csv\") \n",
    "\n",
    "df[\"translated_summary\"] = df[\"summary\"].apply(translate_text)\n",
    "\n",
    "df.to_csv(\"kor_tuned_bart_xsum.csv\", index=False)\n",
    "print(\"saved to output_.csv.\")"
   ]
  },
  {
   "cell_type": "code",
   "execution_count": 25,
   "metadata": {},
   "outputs": [
    {
     "data": {
      "text/html": [
       "<div>\n",
       "<style scoped>\n",
       "    .dataframe tbody tr th:only-of-type {\n",
       "        vertical-align: middle;\n",
       "    }\n",
       "\n",
       "    .dataframe tbody tr th {\n",
       "        vertical-align: top;\n",
       "    }\n",
       "\n",
       "    .dataframe thead th {\n",
       "        text-align: right;\n",
       "    }\n",
       "</style>\n",
       "<table border=\"1\" class=\"dataframe\">\n",
       "  <thead>\n",
       "    <tr style=\"text-align: right;\">\n",
       "      <th></th>\n",
       "      <th>fname</th>\n",
       "      <th>summary</th>\n",
       "    </tr>\n",
       "  </thead>\n",
       "  <tbody>\n",
       "    <tr>\n",
       "      <th>0</th>\n",
       "      <td>test_0</td>\n",
       "      <td>데슨 씨는 #Person1#에게 근무 시간 동안 직원들의 인스턴트 메시징 사용이...</td>\n",
       "    </tr>\n",
       "    <tr>\n",
       "      <th>1</th>\n",
       "      <td>test_1</td>\n",
       "      <td>#Person2#는 교통 체증에 갇혀 있다. #Person1#은 대중교통을 이용하...</td>\n",
       "    </tr>\n",
       "    <tr>\n",
       "      <th>2</th>\n",
       "      <td>test_2</td>\n",
       "      <td>#Person1#은 케이트에게 마샤와 히어로가 이혼했다고 말하지만, 케이트는 ...</td>\n",
       "    </tr>\n",
       "    <tr>\n",
       "      <th>3</th>\n",
       "      <td>test_3</td>\n",
       "      <td>#Person1#은 브라이언의 생일 파티에 참석한다. 브라이언은 #Person1...</td>\n",
       "    </tr>\n",
       "    <tr>\n",
       "      <th>4</th>\n",
       "      <td>test_4</td>\n",
       "      <td>#Person1#과 #Person2#는 올림픽 공원을 구경하고 있다. #Pers...</td>\n",
       "    </tr>\n",
       "  </tbody>\n",
       "</table>\n",
       "</div>"
      ],
      "text/plain": [
       "    fname                                            summary\n",
       "0  test_0    데슨 씨는 #Person1#에게 근무 시간 동안 직원들의 인스턴트 메시징 사용이...\n",
       "1  test_1   #Person2#는 교통 체증에 갇혀 있다. #Person1#은 대중교통을 이용하...\n",
       "2  test_2     #Person1#은 케이트에게 마샤와 히어로가 이혼했다고 말하지만, 케이트는 ...\n",
       "3  test_3    #Person1#은 브라이언의 생일 파티에 참석한다. 브라이언은 #Person1...\n",
       "4  test_4    #Person1#과 #Person2#는 올림픽 공원을 구경하고 있다. #Pers..."
      ]
     },
     "execution_count": 25,
     "metadata": {},
     "output_type": "execute_result"
    }
   ],
   "source": [
    "translated_df = pd.read_csv(\"kor_tuned_bart_xsum.csv\")\n",
    "translated_df = translated_df.drop(\"summary\", axis=1)\n",
    "translated_df.rename(columns={\"translated_summary\": \"summary\"}, inplace=True)\n",
    "translated_df.head()"
   ]
  },
  {
   "cell_type": "code",
   "execution_count": 26,
   "metadata": {},
   "outputs": [],
   "source": [
    "translated_df.to_csv(\"kor_tuned_bart_xsum.csv\", index=False)"
   ]
  },
  {
   "cell_type": "code",
   "execution_count": 15,
   "metadata": {},
   "outputs": [
    {
     "name": "stderr",
     "output_type": "stream",
     "text": [
      "[I 2024-09-06 04:53:56,600] A new study created in memory with name: no-name-08c06ed1-f57d-4f1c-8734-27d3d8021fff\n",
      "/tmp/ipykernel_58261/1742311384.py:4: FutureWarning: suggest_loguniform has been deprecated in v3.0.0. This feature will be removed in v6.0.0. See https://github.com/optuna/optuna/releases/tag/v3.0.0. Use suggest_float(..., log=True) instead.\n",
      "  config_data['training']['learning_rate'] = trial.suggest_loguniform('learning_rate', 1e-5, 1e-4)\n"
     ]
    },
    {
     "name": "stdout",
     "output_type": "stream",
     "text": [
      "Running on: cuda:0\n",
      "---------- Load tokenizer & model ----------\n",
      "---------- Model Name : knkarthick/MEETING-SUMMARY-BART-LARGE-XSUM-SAMSUM-DIALOGSUM ----------\n",
      "BartConfig {\n",
      "  \"_name_or_path\": \"knkarthick/MEETING-SUMMARY-BART-LARGE-XSUM-SAMSUM-DIALOGSUM\",\n",
      "  \"_num_labels\": 3,\n",
      "  \"activation_dropout\": 0.0,\n",
      "  \"activation_function\": \"gelu\",\n",
      "  \"add_bias_logits\": false,\n",
      "  \"add_final_layer_norm\": false,\n",
      "  \"architectures\": [\n",
      "    \"BartForConditionalGeneration\"\n",
      "  ],\n",
      "  \"attention_dropout\": 0.0,\n",
      "  \"bos_token_id\": 0,\n",
      "  \"classif_dropout\": 0.0,\n",
      "  \"classifier_dropout\": 0.0,\n",
      "  \"d_model\": 1024,\n",
      "  \"decoder_attention_heads\": 16,\n",
      "  \"decoder_ffn_dim\": 4096,\n",
      "  \"decoder_layerdrop\": 0.0,\n",
      "  \"decoder_layers\": 12,\n",
      "  \"decoder_start_token_id\": 2,\n",
      "  \"dropout\": 0.1,\n",
      "  \"early_stopping\": true,\n",
      "  \"encoder_attention_heads\": 16,\n",
      "  \"encoder_ffn_dim\": 4096,\n",
      "  \"encoder_layerdrop\": 0.0,\n",
      "  \"encoder_layers\": 12,\n",
      "  \"eos_token_id\": 2,\n",
      "  \"eos_token_ids\": [\n",
      "    2\n",
      "  ],\n",
      "  \"forced_eos_token_id\": 2,\n",
      "  \"gradient_checkpointing\": false,\n",
      "  \"id2label\": {\n",
      "    \"0\": \"LABEL_0\",\n",
      "    \"1\": \"LABEL_1\",\n",
      "    \"2\": \"LABEL_2\"\n",
      "  },\n",
      "  \"init_std\": 0.02,\n",
      "  \"is_encoder_decoder\": true,\n",
      "  \"label2id\": {\n",
      "    \"LABEL_0\": 0,\n",
      "    \"LABEL_1\": 1,\n",
      "    \"LABEL_2\": 2\n",
      "  },\n",
      "  \"max_length\": 62,\n",
      "  \"max_position_embeddings\": 1024,\n",
      "  \"min_length\": 11,\n",
      "  \"model_type\": \"bart\",\n",
      "  \"no_repeat_ngram_size\": 3,\n",
      "  \"normalize_before\": false,\n",
      "  \"normalize_embedding\": true,\n",
      "  \"num_beams\": 6,\n",
      "  \"num_hidden_layers\": 12,\n",
      "  \"output_past\": true,\n",
      "  \"pad_token_id\": 1,\n",
      "  \"prefix\": \" \",\n",
      "  \"replacing_rate\": 0,\n",
      "  \"scale_embedding\": false,\n",
      "  \"static_position_embeddings\": false,\n",
      "  \"student_decoder_layers\": null,\n",
      "  \"student_encoder_layers\": null,\n",
      "  \"task_specific_params\": {},\n",
      "  \"torch_dtype\": \"float32\",\n",
      "  \"transformers_version\": \"4.35.2\",\n",
      "  \"use_cache\": true,\n",
      "  \"vocab_size\": 50271\n",
      "}\n",
      "\n",
      "---------- Load tokenizer & model complete ----------\n",
      "Model and Tokenizer Loaded.\n",
      "------------------------------------------------------------------------------------------------------------------------------------------------------\n",
      "train_data:\n",
      " #Person1#: Hello, Mr. Smith. I'm Dr. Hawkins. Why are you here today?\n",
      "#Person2#: I thought it would be a good idea to have a checkup.\n",
      "#Person1#: That's right, you haven't had one in five years. You should have one every year.\n",
      "#Person2#: I know. But if nothing is wrong, why should I go to see a doctor?\n",
      "#Person1#: The best way to avoid serious illness is to catch these early. So for your own good, come at least once a year.\n",
      "#Person2#: I see.\n",
      "#Person1#: Look here. Your eyes and ears seem to be fine. Take a deep breath. Do you smoke, Mr. Smith?\n",
      "#Person2#: Yes.\n",
      "#Person1#: As you know, smoking is the main cause of lung cancer and heart disease. You really should quit.\n",
      "#Person2#: I've tried hundreds of times, but I find it hard to break the habit.\n",
      "#Person1#: We have classes and medicines that can help. I'll give you more information before you leave.\n",
      "#Person2#: OK, thank you, doctor.\n",
      "train_label:\n",
      " Mr. Smith is having a physical exam, and Dr. Hawkins recommends that he have a physical exam every year. Dr. Hawkins will give Mr. Smith information about classes and medications that can help him quit smoking.\n",
      "------------------------------------------------------------------------------------------------------------------------------------------------------\n",
      "val_data:\n",
      " #Person1#: Hello, how are you today?\n",
      "#Person2#: I'm having a little trouble breathing lately.\n",
      "#Person1#: Have you been sick with anything lately, like a cold?\n",
      "#Person2#: No, it's not a cold. It just feels like my chest is heavy every time I breathe.\n",
      "#Person1#: Do you have any known allergies?\n",
      "#Person2#: No, I don't have any known allergies.\n",
      "#Person1#: Does this happen all the time, or is it mostly when you are active?\n",
      "#Person2#: It happens a lot when I exercise.\n",
      "#Person1#: I'm going to send you to a pulmonologist to get checked for asthma.\n",
      "#Person2#: Thank you for helping me, doctor.\n",
      "val_label:\n",
      " #Person2# has difficulty breathing. The doctor asks #Person1# about this, and will send #Person2# to a lung specialist.\n",
      "---------- Load data complete ----------\n"
     ]
    },
    {
     "name": "stderr",
     "output_type": "stream",
     "text": [
      "Failed to detect the name of this notebook, you can set it manually with the WANDB_NOTEBOOK_NAME environment variable to enable code saving.\n"
     ]
    },
    {
     "name": "stdout",
     "output_type": "stream",
     "text": [
      "---------- Make dataset complete ----------\n",
      "---------- Make training arguments ----------\n"
     ]
    },
    {
     "name": "stderr",
     "output_type": "stream",
     "text": [
      "\u001b[34m\u001b[1mwandb\u001b[0m: Currently logged in as: \u001b[33mrmadyd0314\u001b[0m (\u001b[33mlegendki\u001b[0m). Use \u001b[1m`wandb login --relogin`\u001b[0m to force relogin\n"
     ]
    },
    {
     "data": {
      "text/html": [
       "wandb version 0.17.9 is available!  To upgrade, please run:\n",
       " $ pip install wandb --upgrade"
      ],
      "text/plain": [
       "<IPython.core.display.HTML object>"
      ]
     },
     "metadata": {},
     "output_type": "display_data"
    },
    {
     "data": {
      "text/html": [
       "Tracking run with wandb version 0.16.1"
      ],
      "text/plain": [
       "<IPython.core.display.HTML object>"
      ]
     },
     "metadata": {},
     "output_type": "display_data"
    },
    {
     "data": {
      "text/html": [
       "Run data is saved locally in <code>/home/upstage-nlp-summarization-nlp7/code/wandb/run-20240906_045406-xnsnuke1</code>"
      ],
      "text/plain": [
       "<IPython.core.display.HTML object>"
      ]
     },
     "metadata": {},
     "output_type": "display_data"
    },
    {
     "data": {
      "text/html": [
       "Syncing run <strong><a href='https://wandb.ai/legendki/NLP-Summarization/runs/xnsnuke1' target=\"_blank\">BART-LARGE-XSUM-SAMSUM-DIALOGSUM</a></strong> to <a href='https://wandb.ai/legendki/NLP-Summarization' target=\"_blank\">Weights & Biases</a> (<a href='https://wandb.me/run' target=\"_blank\">docs</a>)<br/>"
      ],
      "text/plain": [
       "<IPython.core.display.HTML object>"
      ]
     },
     "metadata": {},
     "output_type": "display_data"
    },
    {
     "data": {
      "text/html": [
       " View project at <a href='https://wandb.ai/legendki/NLP-Summarization' target=\"_blank\">https://wandb.ai/legendki/NLP-Summarization</a>"
      ],
      "text/plain": [
       "<IPython.core.display.HTML object>"
      ]
     },
     "metadata": {},
     "output_type": "display_data"
    },
    {
     "data": {
      "text/html": [
       " View run at <a href='https://wandb.ai/legendki/NLP-Summarization/runs/xnsnuke1' target=\"_blank\">https://wandb.ai/legendki/NLP-Summarization/runs/xnsnuke1</a>"
      ],
      "text/plain": [
       "<IPython.core.display.HTML object>"
      ]
     },
     "metadata": {},
     "output_type": "display_data"
    },
    {
     "name": "stderr",
     "output_type": "stream",
     "text": [
      "Detected kernel version 5.4.0, which is below the recommended minimum of 5.5.0; this can cause the process to hang. It is recommended to upgrade the kernel to the minimum version or higher.\n"
     ]
    },
    {
     "name": "stdout",
     "output_type": "stream",
     "text": [
      "---------- Make training arguments complete ----------\n",
      "---------- Make trainer ----------\n",
      "---------- Make trainer complete ----------\n"
     ]
    },
    {
     "name": "stderr",
     "output_type": "stream",
     "text": [
      "/opt/conda/lib/python3.10/site-packages/transformers/optimization.py:411: FutureWarning: This implementation of AdamW is deprecated and will be removed in a future version. Use the PyTorch implementation torch.optim.AdamW instead, or set `no_deprecation_warning=True` to disable this warning\n",
      "  warnings.warn(\n"
     ]
    },
    {
     "data": {
      "text/html": [
       "\n",
       "    <div>\n",
       "      \n",
       "      <progress value='12460' max='37380' style='width:300px; height:20px; vertical-align: middle;'></progress>\n",
       "      [12460/37380 40:00 < 1:20:01, 5.19 it/s, Epoch 4/12]\n",
       "    </div>\n",
       "    <table border=\"1\" class=\"dataframe\">\n",
       "  <thead>\n",
       " <tr style=\"text-align: left;\">\n",
       "      <th>Epoch</th>\n",
       "      <th>Training Loss</th>\n",
       "      <th>Validation Loss</th>\n",
       "      <th>Rouge-1</th>\n",
       "      <th>Rouge-2</th>\n",
       "      <th>Rouge-l</th>\n",
       "    </tr>\n",
       "  </thead>\n",
       "  <tbody>\n",
       "    <tr>\n",
       "      <td>1</td>\n",
       "      <td>1.351200</td>\n",
       "      <td>0.487923</td>\n",
       "      <td>0.492711</td>\n",
       "      <td>0.206867</td>\n",
       "      <td>0.462027</td>\n",
       "    </tr>\n",
       "    <tr>\n",
       "      <td>2</td>\n",
       "      <td>0.360400</td>\n",
       "      <td>0.530458</td>\n",
       "      <td>0.484143</td>\n",
       "      <td>0.195717</td>\n",
       "      <td>0.446923</td>\n",
       "    </tr>\n",
       "    <tr>\n",
       "      <td>3</td>\n",
       "      <td>0.305600</td>\n",
       "      <td>0.564500</td>\n",
       "      <td>0.472936</td>\n",
       "      <td>0.188335</td>\n",
       "      <td>0.437402</td>\n",
       "    </tr>\n",
       "    <tr>\n",
       "      <td>4</td>\n",
       "      <td>0.243800</td>\n",
       "      <td>0.554378</td>\n",
       "      <td>0.480704</td>\n",
       "      <td>0.191542</td>\n",
       "      <td>0.445830</td>\n",
       "    </tr>\n",
       "  </tbody>\n",
       "</table><p>"
      ],
      "text/plain": [
       "<IPython.core.display.HTML object>"
      ]
     },
     "metadata": {},
     "output_type": "display_data"
    },
    {
     "name": "stdout",
     "output_type": "stream",
     "text": [
      "------------------------------------------------------------------------------------------------------------------------------------------------------\n",
      "PRED:     #Person2# has been having trouble breathing lately. #Person1# will send #Person2# to a pulmonologist to check for asthma.                                                                        \n",
      "GOLD:  #Person2# has difficulty breathing. The doctor asks #Person1# about this, and will send #Person2# to a lung specialist.                                                            \n",
      "------------------------------------------------------------------------------------------------------------------------------------------------------\n",
      "PRED:    #Person1# and Jimmy are going to meet at the gym at 3:30 p.m. to work out. #Person1# wants to work on arms and abs, but Jimmy is following a weekly schedule. So they will do legs on Friday.                                                 \n",
      "GOLD:  #Person1# suggests to Jimmy that they go to the gym and convinces him to work out his arms and stomach.                                                             \n",
      "------------------------------------------------------------------------------------------------------------------------------------------------------\n",
      "PRED:     #Person1# wants to stop eating unhealthy food. #Person2# tells #Person1# that #Person2# mainly eats fruit, vegetables, and chicken.                                                                       \n",
      "GOLD:  #Person1# is planning to stop eating unhealthy food, and #Person2# shares his healthy recipes with #Person1#.                                                               \n",
      "------------------------------------------------------------------------------------------------------------------------------------------------------\n",
      "PRED:     #Person2# has been having trouble breathing lately. #Person1# is going to send #Person2# to a pulmonologist to get checked for asthma.                                                                    \n",
      "GOLD:  #Person2# has difficulty breathing. The doctor asks #Person1# about this, and will send #Person2# to a lung specialist.                                                            \n",
      "------------------------------------------------------------------------------------------------------------------------------------------------------\n",
      "PRED:     #Person1# suggests to Jimmy that they go to the gym at 3:30 to work on arms and abs, but Jimmy is following a weekly schedule. They will do legs on Friday.                                                           \n",
      "GOLD:  #Person1# suggests to Jimmy that they go to the gym and convinces him to work out his arms and stomach.                                                             \n",
      "------------------------------------------------------------------------------------------------------------------------------------------------------\n",
      "PRED:    #Person1# needs to stop eating unhealthy food. #Person2# tells #Person1# that #Person2# eats fruit, vegetables, and chicken.                                                                        \n",
      "GOLD:  #Person1# is planning to stop eating unhealthy food, and #Person2# shares his healthy recipes with #Person1#.                                                               \n",
      "------------------------------------------------------------------------------------------------------------------------------------------------------\n",
      "PRED:     #Person2# tells #Person1# that they have been having trouble breathing lately. #Person1# asks for more information and decides to send #Person2# to a pulmonologist to check for asthma.                                                             \n",
      "GOLD:  #Person2# has difficulty breathing. The doctor asks #Person1# about this, and will send #Person2# to a lung specialist.                                                            \n",
      "------------------------------------------------------------------------------------------------------------------------------------------------------\n",
      "PRED:     #Person1# and Jimmy are going to work out later. #Person1# wants to work on arms and abs, but Jimmy doesn't because he's following a weekly schedule.                                                                \n",
      "GOLD:  #Person1# suggests to Jimmy that they go to the gym and convinces him to work out his arms and stomach.                                                             \n",
      "------------------------------------------------------------------------------------------------------------------------------------------------------\n",
      "PRED:     #Person1# and #Person2# talk about the type of food they eat. #Person2# tells #Person1# that they have started eating healthier food.                                                                      \n",
      "GOLD:  #Person1# is planning to stop eating unhealthy food, and #Person2# shares his healthy recipes with #Person1#.                                                               \n",
      "------------------------------------------------------------------------------------------------------------------------------------------------------\n",
      "PRED:     #Person2# has been having trouble breathing lately. #Person1# asked about #Person2#'s symptoms and decided to send #Person2# to a pulmonologist to get checked for asthma.                                                               \n",
      "GOLD:  #Person2# has difficulty breathing. The doctor asks #Person1# about this, and will send #Person2# to a lung specialist.                                                            \n",
      "------------------------------------------------------------------------------------------------------------------------------------------------------\n",
      "PRED:     #Person1# and Jimmy are going to work out later. #Person1# wants to work on arms and abs, but Jimmy is following a weekly schedule. They decide to do legs on Friday.                                                            \n",
      "GOLD:  #Person1# suggests to Jimmy that they go to the gym and convinces him to work out his arms and stomach.                                                             \n",
      "------------------------------------------------------------------------------------------------------------------------------------------------------\n",
      "PRED:     #Person1# wants to eat healthy food. #Person2# tells #Person1# that #Person2# has started eating healthier food recently, fruit, vegetables and chicken.                                                                    \n",
      "GOLD:  #Person1# is planning to stop eating unhealthy food, and #Person2# shares his healthy recipes with #Person1#.                                                               \n"
     ]
    },
    {
     "name": "stderr",
     "output_type": "stream",
     "text": [
      "There were missing keys in the checkpoint model loaded: ['model.encoder.embed_tokens.weight', 'model.decoder.embed_tokens.weight', 'lm_head.weight'].\n",
      "Detected kernel version 5.4.0, which is below the recommended minimum of 5.5.0; this can cause the process to hang. It is recommended to upgrade the kernel to the minimum version or higher.\n"
     ]
    },
    {
     "data": {
      "text/html": [
       "\n",
       "    <div>\n",
       "      \n",
       "      <progress value='63' max='63' style='width:300px; height:20px; vertical-align: middle;'></progress>\n",
       "      [63/63 01:21]\n",
       "    </div>\n",
       "    "
      ],
      "text/plain": [
       "<IPython.core.display.HTML object>"
      ]
     },
     "metadata": {},
     "output_type": "display_data"
    },
    {
     "name": "stdout",
     "output_type": "stream",
     "text": [
      "------------------------------------------------------------------------------------------------------------------------------------------------------\n",
      "PRED:     #Person2# has been having trouble breathing lately. #Person1# will send #Person2# to a pulmonologist to check for asthma.                                                                        \n",
      "GOLD:  #Person2# has difficulty breathing. The doctor asks #Person1# about this, and will send #Person2# to a lung specialist.                                                            \n",
      "------------------------------------------------------------------------------------------------------------------------------------------------------\n",
      "PRED:    #Person1# and Jimmy are going to meet at the gym at 3:30 p.m. to work out. #Person1# wants to work on arms and abs, but Jimmy is following a weekly schedule. So they will do legs on Friday.                                                 \n",
      "GOLD:  #Person1# suggests to Jimmy that they go to the gym and convinces him to work out his arms and stomach.                                                             \n",
      "------------------------------------------------------------------------------------------------------------------------------------------------------\n",
      "PRED:     #Person1# wants to stop eating unhealthy food. #Person2# tells #Person1# that #Person2# mainly eats fruit, vegetables, and chicken.                                                                       \n",
      "GOLD:  #Person1# is planning to stop eating unhealthy food, and #Person2# shares his healthy recipes with #Person1#.                                                               \n"
     ]
    },
    {
     "name": "stderr",
     "output_type": "stream",
     "text": [
      "[I 2024-09-06 05:35:33,768] Trial 0 finished with value: 0.0 and parameters: {'learning_rate': 2.7239932412675317e-05, 'per_device_train_batch_size': 4, 'num_train_epochs': 12, 'warmup_ratio': 0.2534231630584237, 'optim': 'adamw_hf', 'gradient_accumulation_steps': 1, 'lr_scheduler_type': 'linear', 'fp16': True}. Best is trial 0 with value: 0.0.\n",
      "/tmp/ipykernel_58261/1742311384.py:4: FutureWarning: suggest_loguniform has been deprecated in v3.0.0. This feature will be removed in v6.0.0. See https://github.com/optuna/optuna/releases/tag/v3.0.0. Use suggest_float(..., log=True) instead.\n",
      "  config_data['training']['learning_rate'] = trial.suggest_loguniform('learning_rate', 1e-5, 1e-4)\n"
     ]
    },
    {
     "name": "stdout",
     "output_type": "stream",
     "text": [
      "Running on: cuda:0\n",
      "---------- Load tokenizer & model ----------\n",
      "---------- Model Name : knkarthick/MEETING-SUMMARY-BART-LARGE-XSUM-SAMSUM-DIALOGSUM ----------\n",
      "BartConfig {\n",
      "  \"_name_or_path\": \"knkarthick/MEETING-SUMMARY-BART-LARGE-XSUM-SAMSUM-DIALOGSUM\",\n",
      "  \"_num_labels\": 3,\n",
      "  \"activation_dropout\": 0.0,\n",
      "  \"activation_function\": \"gelu\",\n",
      "  \"add_bias_logits\": false,\n",
      "  \"add_final_layer_norm\": false,\n",
      "  \"architectures\": [\n",
      "    \"BartForConditionalGeneration\"\n",
      "  ],\n",
      "  \"attention_dropout\": 0.0,\n",
      "  \"bos_token_id\": 0,\n",
      "  \"classif_dropout\": 0.0,\n",
      "  \"classifier_dropout\": 0.0,\n",
      "  \"d_model\": 1024,\n",
      "  \"decoder_attention_heads\": 16,\n",
      "  \"decoder_ffn_dim\": 4096,\n",
      "  \"decoder_layerdrop\": 0.0,\n",
      "  \"decoder_layers\": 12,\n",
      "  \"decoder_start_token_id\": 2,\n",
      "  \"dropout\": 0.1,\n",
      "  \"early_stopping\": true,\n",
      "  \"encoder_attention_heads\": 16,\n",
      "  \"encoder_ffn_dim\": 4096,\n",
      "  \"encoder_layerdrop\": 0.0,\n",
      "  \"encoder_layers\": 12,\n",
      "  \"eos_token_id\": 2,\n",
      "  \"eos_token_ids\": [\n",
      "    2\n",
      "  ],\n",
      "  \"forced_eos_token_id\": 2,\n",
      "  \"gradient_checkpointing\": false,\n",
      "  \"id2label\": {\n",
      "    \"0\": \"LABEL_0\",\n",
      "    \"1\": \"LABEL_1\",\n",
      "    \"2\": \"LABEL_2\"\n",
      "  },\n",
      "  \"init_std\": 0.02,\n",
      "  \"is_encoder_decoder\": true,\n",
      "  \"label2id\": {\n",
      "    \"LABEL_0\": 0,\n",
      "    \"LABEL_1\": 1,\n",
      "    \"LABEL_2\": 2\n",
      "  },\n",
      "  \"max_length\": 62,\n",
      "  \"max_position_embeddings\": 1024,\n",
      "  \"min_length\": 11,\n",
      "  \"model_type\": \"bart\",\n",
      "  \"no_repeat_ngram_size\": 3,\n",
      "  \"normalize_before\": false,\n",
      "  \"normalize_embedding\": true,\n",
      "  \"num_beams\": 6,\n",
      "  \"num_hidden_layers\": 12,\n",
      "  \"output_past\": true,\n",
      "  \"pad_token_id\": 1,\n",
      "  \"prefix\": \" \",\n",
      "  \"replacing_rate\": 0,\n",
      "  \"scale_embedding\": false,\n",
      "  \"static_position_embeddings\": false,\n",
      "  \"student_decoder_layers\": null,\n",
      "  \"student_encoder_layers\": null,\n",
      "  \"task_specific_params\": {},\n",
      "  \"torch_dtype\": \"float32\",\n",
      "  \"transformers_version\": \"4.35.2\",\n",
      "  \"use_cache\": true,\n",
      "  \"vocab_size\": 50271\n",
      "}\n",
      "\n",
      "---------- Load tokenizer & model complete ----------\n",
      "Model and Tokenizer Loaded.\n",
      "------------------------------------------------------------------------------------------------------------------------------------------------------\n",
      "train_data:\n",
      " #Person1#: Hello, Mr. Smith. I'm Dr. Hawkins. Why are you here today?\n",
      "#Person2#: I thought it would be a good idea to have a checkup.\n",
      "#Person1#: That's right, you haven't had one in five years. You should have one every year.\n",
      "#Person2#: I know. But if nothing is wrong, why should I go to see a doctor?\n",
      "#Person1#: The best way to avoid serious illness is to catch these early. So for your own good, come at least once a year.\n",
      "#Person2#: I see.\n",
      "#Person1#: Look here. Your eyes and ears seem to be fine. Take a deep breath. Do you smoke, Mr. Smith?\n",
      "#Person2#: Yes.\n",
      "#Person1#: As you know, smoking is the main cause of lung cancer and heart disease. You really should quit.\n",
      "#Person2#: I've tried hundreds of times, but I find it hard to break the habit.\n",
      "#Person1#: We have classes and medicines that can help. I'll give you more information before you leave.\n",
      "#Person2#: OK, thank you, doctor.\n",
      "train_label:\n",
      " Mr. Smith is having a physical exam, and Dr. Hawkins recommends that he have a physical exam every year. Dr. Hawkins will give Mr. Smith information about classes and medications that can help him quit smoking.\n",
      "------------------------------------------------------------------------------------------------------------------------------------------------------\n",
      "val_data:\n",
      " #Person1#: Hello, how are you today?\n",
      "#Person2#: I'm having a little trouble breathing lately.\n",
      "#Person1#: Have you been sick with anything lately, like a cold?\n",
      "#Person2#: No, it's not a cold. It just feels like my chest is heavy every time I breathe.\n",
      "#Person1#: Do you have any known allergies?\n",
      "#Person2#: No, I don't have any known allergies.\n",
      "#Person1#: Does this happen all the time, or is it mostly when you are active?\n",
      "#Person2#: It happens a lot when I exercise.\n",
      "#Person1#: I'm going to send you to a pulmonologist to get checked for asthma.\n",
      "#Person2#: Thank you for helping me, doctor.\n",
      "val_label:\n",
      " #Person2# has difficulty breathing. The doctor asks #Person1# about this, and will send #Person2# to a lung specialist.\n",
      "---------- Load data complete ----------\n",
      "---------- Make dataset complete ----------\n",
      "---------- Make training arguments ----------\n"
     ]
    },
    {
     "data": {
      "text/html": [
       "Changes to your `wandb` environment variables will be ignored because your `wandb` session has already started. For more information on how to modify your settings with `wandb.init()` arguments, please refer to <a href='https://wandb.me/wandb-init' target=\"_blank\">the W&B docs</a>."
      ],
      "text/plain": [
       "<IPython.core.display.HTML object>"
      ]
     },
     "metadata": {},
     "output_type": "display_data"
    },
    {
     "data": {
      "text/html": [
       "Finishing last run (ID:xnsnuke1) before initializing another..."
      ],
      "text/plain": [
       "<IPython.core.display.HTML object>"
      ]
     },
     "metadata": {},
     "output_type": "display_data"
    },
    {
     "data": {
      "application/vnd.jupyter.widget-view+json": {
       "model_id": "afd80db66fca48deab9d45f0838e1a0f",
       "version_major": 2,
       "version_minor": 0
      },
      "text/plain": [
       "VBox(children=(Label(value='1550.164 MB of 1550.164 MB uploaded\\r'), FloatProgress(value=1.0, max=1.0)))"
      ]
     },
     "metadata": {},
     "output_type": "display_data"
    },
    {
     "name": "stderr",
     "output_type": "stream",
     "text": [
      "wandb: WARNING Source type is set to 'repo' but some required information is missing from the environment. A job will not be created from this run. See https://docs.wandb.ai/guides/launch/create-job\n"
     ]
    },
    {
     "data": {
      "text/html": [
       "<style>\n",
       "    table.wandb td:nth-child(1) { padding: 0 10px; text-align: left ; width: auto;} td:nth-child(2) {text-align: left ; width: 100%}\n",
       "    .wandb-row { display: flex; flex-direction: row; flex-wrap: wrap; justify-content: flex-start; width: 100% }\n",
       "    .wandb-col { display: flex; flex-direction: column; flex-basis: 100%; flex: 1; padding: 10px; }\n",
       "    </style>\n",
       "<div class=\"wandb-row\"><div class=\"wandb-col\"><h3>Run history:</h3><br/><table class=\"wandb\"><tr><td>eval/loss</td><td>▁▅█▇▁</td></tr><tr><td>eval/rouge-1</td><td>█▅▁▄█</td></tr><tr><td>eval/rouge-2</td><td>█▄▁▂█</td></tr><tr><td>eval/rouge-l</td><td>█▄▁▃█</td></tr><tr><td>eval/runtime</td><td>▃▂█▁▃</td></tr><tr><td>eval/samples_per_second</td><td>▆▇▁█▆</td></tr><tr><td>eval/steps_per_second</td><td>▆▇▁█▆</td></tr><tr><td>train/epoch</td><td>▁▁▃▃▆▆████</td></tr><tr><td>train/global_step</td><td>▁▁▃▃▆▆████</td></tr><tr><td>train/learning_rate</td><td>▁▅█▇</td></tr><tr><td>train/loss</td><td>█▂▁▁</td></tr><tr><td>train/total_flos</td><td>▁</td></tr><tr><td>train/train_loss</td><td>▁</td></tr><tr><td>train/train_runtime</td><td>▁</td></tr><tr><td>train/train_samples_per_second</td><td>▁</td></tr><tr><td>train/train_steps_per_second</td><td>▁</td></tr></table><br/></div><div class=\"wandb-col\"><h3>Run summary:</h3><br/><table class=\"wandb\"><tr><td>eval/loss</td><td>0.48792</td></tr><tr><td>eval/rouge-1</td><td>0.49271</td></tr><tr><td>eval/rouge-2</td><td>0.20687</td></tr><tr><td>eval/rouge-l</td><td>0.46203</td></tr><tr><td>eval/runtime</td><td>83.1418</td></tr><tr><td>eval/samples_per_second</td><td>6.002</td></tr><tr><td>eval/steps_per_second</td><td>0.758</td></tr><tr><td>train/epoch</td><td>4.0</td></tr><tr><td>train/global_step</td><td>12460</td></tr><tr><td>train/learning_rate</td><td>2e-05</td></tr><tr><td>train/loss</td><td>0.2438</td></tr><tr><td>train/total_flos</td><td>5.399124405701837e+16</td></tr><tr><td>train/train_loss</td><td>0.56521</td></tr><tr><td>train/train_runtime</td><td>2393.5086</td></tr><tr><td>train/train_samples_per_second</td><td>62.454</td></tr><tr><td>train/train_steps_per_second</td><td>15.617</td></tr></table><br/></div></div>"
      ],
      "text/plain": [
       "<IPython.core.display.HTML object>"
      ]
     },
     "metadata": {},
     "output_type": "display_data"
    },
    {
     "data": {
      "text/html": [
       " View run <strong style=\"color:#cdcd00\">BART-LARGE-XSUM-SAMSUM-DIALOGSUM</strong> at: <a href='https://wandb.ai/legendki/NLP-Summarization/runs/xnsnuke1' target=\"_blank\">https://wandb.ai/legendki/NLP-Summarization/runs/xnsnuke1</a><br/>Synced 6 W&B file(s), 0 media file(s), 4 artifact file(s) and 0 other file(s)"
      ],
      "text/plain": [
       "<IPython.core.display.HTML object>"
      ]
     },
     "metadata": {},
     "output_type": "display_data"
    },
    {
     "data": {
      "text/html": [
       "Find logs at: <code>./wandb/run-20240906_045406-xnsnuke1/logs</code>"
      ],
      "text/plain": [
       "<IPython.core.display.HTML object>"
      ]
     },
     "metadata": {},
     "output_type": "display_data"
    },
    {
     "data": {
      "text/html": [
       "Successfully finished last run (ID:xnsnuke1). Initializing new run:<br/>"
      ],
      "text/plain": [
       "<IPython.core.display.HTML object>"
      ]
     },
     "metadata": {},
     "output_type": "display_data"
    },
    {
     "data": {
      "application/vnd.jupyter.widget-view+json": {
       "model_id": "b9c9c21cc74c46bfb77fee2a8cc4b22b",
       "version_major": 2,
       "version_minor": 0
      },
      "text/plain": [
       "VBox(children=(Label(value='Waiting for wandb.init()...\\r'), FloatProgress(value=0.011112373694777489, max=1.0…"
      ]
     },
     "metadata": {},
     "output_type": "display_data"
    },
    {
     "data": {
      "text/html": [
       "wandb version 0.17.9 is available!  To upgrade, please run:\n",
       " $ pip install wandb --upgrade"
      ],
      "text/plain": [
       "<IPython.core.display.HTML object>"
      ]
     },
     "metadata": {},
     "output_type": "display_data"
    },
    {
     "data": {
      "text/html": [
       "Tracking run with wandb version 0.16.1"
      ],
      "text/plain": [
       "<IPython.core.display.HTML object>"
      ]
     },
     "metadata": {},
     "output_type": "display_data"
    },
    {
     "data": {
      "text/html": [
       "Run data is saved locally in <code>/home/upstage-nlp-summarization-nlp7/code/wandb/run-20240906_053542-61oasr67</code>"
      ],
      "text/plain": [
       "<IPython.core.display.HTML object>"
      ]
     },
     "metadata": {},
     "output_type": "display_data"
    },
    {
     "data": {
      "text/html": [
       "Syncing run <strong><a href='https://wandb.ai/legendki/NLP-Summarization/runs/61oasr67' target=\"_blank\">BART-LARGE-XSUM-SAMSUM-DIALOGSUM</a></strong> to <a href='https://wandb.ai/legendki/NLP-Summarization' target=\"_blank\">Weights & Biases</a> (<a href='https://wandb.me/run' target=\"_blank\">docs</a>)<br/>"
      ],
      "text/plain": [
       "<IPython.core.display.HTML object>"
      ]
     },
     "metadata": {},
     "output_type": "display_data"
    },
    {
     "data": {
      "text/html": [
       " View project at <a href='https://wandb.ai/legendki/NLP-Summarization' target=\"_blank\">https://wandb.ai/legendki/NLP-Summarization</a>"
      ],
      "text/plain": [
       "<IPython.core.display.HTML object>"
      ]
     },
     "metadata": {},
     "output_type": "display_data"
    },
    {
     "data": {
      "text/html": [
       " View run at <a href='https://wandb.ai/legendki/NLP-Summarization/runs/61oasr67' target=\"_blank\">https://wandb.ai/legendki/NLP-Summarization/runs/61oasr67</a>"
      ],
      "text/plain": [
       "<IPython.core.display.HTML object>"
      ]
     },
     "metadata": {},
     "output_type": "display_data"
    },
    {
     "name": "stderr",
     "output_type": "stream",
     "text": [
      "Detected kernel version 5.4.0, which is below the recommended minimum of 5.5.0; this can cause the process to hang. It is recommended to upgrade the kernel to the minimum version or higher.\n"
     ]
    },
    {
     "name": "stdout",
     "output_type": "stream",
     "text": [
      "---------- Make training arguments complete ----------\n",
      "---------- Make trainer ----------\n",
      "---------- Make trainer complete ----------\n"
     ]
    },
    {
     "data": {
      "text/html": [
       "\n",
       "    <div>\n",
       "      \n",
       "      <progress value='6230' max='24912' style='width:300px; height:20px; vertical-align: middle;'></progress>\n",
       "      [ 6230/24912 34:21 < 1:43:05, 3.02 it/s, Epoch 4/16]\n",
       "    </div>\n",
       "    <table border=\"1\" class=\"dataframe\">\n",
       "  <thead>\n",
       " <tr style=\"text-align: left;\">\n",
       "      <th>Epoch</th>\n",
       "      <th>Training Loss</th>\n",
       "      <th>Validation Loss</th>\n",
       "      <th>Rouge-1</th>\n",
       "      <th>Rouge-2</th>\n",
       "      <th>Rouge-l</th>\n",
       "    </tr>\n",
       "  </thead>\n",
       "  <tbody>\n",
       "    <tr>\n",
       "      <td>0</td>\n",
       "      <td>1.043900</td>\n",
       "      <td>0.541417</td>\n",
       "      <td>0.486044</td>\n",
       "      <td>0.197935</td>\n",
       "      <td>0.455320</td>\n",
       "    </tr>\n",
       "    <tr>\n",
       "      <td>2</td>\n",
       "      <td>0.333100</td>\n",
       "      <td>0.581474</td>\n",
       "      <td>0.465344</td>\n",
       "      <td>0.177732</td>\n",
       "      <td>0.430450</td>\n",
       "    </tr>\n",
       "    <tr>\n",
       "      <td>4</td>\n",
       "      <td>0.252800</td>\n",
       "      <td>0.627762</td>\n",
       "      <td>0.470438</td>\n",
       "      <td>0.177841</td>\n",
       "      <td>0.435897</td>\n",
       "    </tr>\n",
       "  </tbody>\n",
       "</table><p>"
      ],
      "text/plain": [
       "<IPython.core.display.HTML object>"
      ]
     },
     "metadata": {},
     "output_type": "display_data"
    },
    {
     "name": "stdout",
     "output_type": "stream",
     "text": [
      "------------------------------------------------------------------------------------------------------------------------------------------------------\n",
      "PRED:     #Person2# has been having trouble breathing lately. #Person2# doesn't have any known allergies. #Person1# will send #Person2# to a pulmonologist to check for asthma.                                                 \n",
      "GOLD:  #Person2# has difficulty breathing. The doctor asks #Person1# about this, and will send #Person2# to a lung specialist.                                                            \n",
      "------------------------------------------------------------------------------------------------------------------------------------------------------\n",
      "PRED:     #Person1# and Jimmy are going to do a workout. #Person1# wants to do arms and abs, but Jimmy is following a weekly schedule. They decide to do legs.                                                 \n",
      "GOLD:  #Person1# suggests to Jimmy that they go to the gym and convinces him to work out his arms and stomach.                                                             \n",
      "------------------------------------------------------------------------------------------------------------------------------------------------------\n",
      "PRED:     #Person2# tells #Person1# that #Person2# eats fruit, vegetables, and chicken. #Person1# thinks that chicken is good for you.                                                         \n",
      "GOLD:  #Person1# is planning to stop eating unhealthy food, and #Person2# shares his healthy recipes with #Person1#.                                                               \n",
      "------------------------------------------------------------------------------------------------------------------------------------------------------\n",
      "PRED:     #Person2# is having trouble breathing. #Person1# will send #Person2# to a pulmonologist to get checked for asthma.                                                                         \n",
      "GOLD:  #Person2# has difficulty breathing. The doctor asks #Person1# about this, and will send #Person2# to a lung specialist.                                                            \n",
      "------------------------------------------------------------------------------------------------------------------------------------------------------\n",
      "PRED:     #Person1# and Jimmy are going to work out at the gym at 3:30. They will work on legs and forearms today, and then move on to arm and abs on Friday.                                                           \n",
      "GOLD:  #Person1# suggests to Jimmy that they go to the gym and convinces him to work out his arms and stomach.                                                             \n",
      "------------------------------------------------------------------------------------------------------------------------------------------------------\n",
      "PRED:     #Person1# and #Person2# talk about how they need to stop eating unhealthy food. #Person2# has started eating healthier food these days.                                                                       \n",
      "GOLD:  #Person1# is planning to stop eating unhealthy food, and #Person2# shares his healthy recipes with #Person1#.                                                               \n",
      "------------------------------------------------------------------------------------------------------------------------------------------------------\n",
      "PRED:     #Person2# tells #Person1# that #Person2#'s chest hurts a lot to breathe. #Person1# asks for more details and asks #Person2# to go to a pulmonologist for asthma.                                                             \n",
      "GOLD:  #Person2# has difficulty breathing. The doctor asks #Person1# about this, and will send #Person2# to a lung specialist.                                                            \n",
      "------------------------------------------------------------------------------------------------------------------------------------------------------\n",
      "PRED:    #Person1# and Jimmy are going to work out. #Person1# wants to work on legs, but Jimmy wants to change it to arms and abs.                                                                     \n",
      "GOLD:  #Person1# suggests to Jimmy that they go to the gym and convinces him to work out his arms and stomach.                                                             \n",
      "------------------------------------------------------------------------------------------------------------------------------------------------------\n",
      "PRED:   #Person1# wants to stop eating unhealthy food. #Person2# tells #Person1# that he mainly eats fruits, vegetables, and chicken.                                                                          \n",
      "GOLD:  #Person1# is planning to stop eating unhealthy food, and #Person2# shares his healthy recipes with #Person1#.                                                               \n",
      "------------------------------------------------------------------------------------------------------------------------------------------------------\n",
      "PRED:   #Person2# is having trouble breathing. #Person1# is going to send #Person2# to a pulmonologist to check for asthma.                                                                          \n",
      "GOLD:  #Person2# has difficulty breathing. The doctor asks #Person1# about this, and will send #Person2# to a lung specialist.                                                            \n",
      "------------------------------------------------------------------------------------------------------------------------------------------------------\n",
      "PRED:     Jimmy and #Person1# are going to work out later. #Person1# wants to do weights because his legs are sore after playing basketball. Jimmy is following a weekly schedule and they will do weights on Friday.                                                        \n",
      "GOLD:  #Person1# suggests to Jimmy that they go to the gym and convinces him to work out his arms and stomach.                                                             \n",
      "------------------------------------------------------------------------------------------------------------------------------------------------------\n",
      "PRED:     #Person1# wants to stop eating unhealthy food. #Person2# tells #Person1# that #Person2# started eating healthier food a few days ago.                                                                       \n",
      "GOLD:  #Person1# is planning to stop eating unhealthy food, and #Person2# shares his healthy recipes with #Person1#.                                                               \n"
     ]
    },
    {
     "name": "stderr",
     "output_type": "stream",
     "text": [
      "There were missing keys in the checkpoint model loaded: ['model.encoder.embed_tokens.weight', 'model.decoder.embed_tokens.weight', 'lm_head.weight'].\n",
      "Detected kernel version 5.4.0, which is below the recommended minimum of 5.5.0; this can cause the process to hang. It is recommended to upgrade the kernel to the minimum version or higher.\n"
     ]
    },
    {
     "data": {
      "text/html": [
       "\n",
       "    <div>\n",
       "      \n",
       "      <progress value='63' max='63' style='width:300px; height:20px; vertical-align: middle;'></progress>\n",
       "      [63/63 01:17]\n",
       "    </div>\n",
       "    "
      ],
      "text/plain": [
       "<IPython.core.display.HTML object>"
      ]
     },
     "metadata": {},
     "output_type": "display_data"
    },
    {
     "name": "stdout",
     "output_type": "stream",
     "text": [
      "------------------------------------------------------------------------------------------------------------------------------------------------------\n",
      "PRED:     #Person2# has been having trouble breathing lately. #Person2# doesn't have any known allergies. #Person1# will send #Person2# to a pulmonologist to check for asthma.                                                 \n",
      "GOLD:  #Person2# has difficulty breathing. The doctor asks #Person1# about this, and will send #Person2# to a lung specialist.                                                            \n",
      "------------------------------------------------------------------------------------------------------------------------------------------------------\n",
      "PRED:     #Person1# and Jimmy are going to do a workout. #Person1# wants to do arms and abs, but Jimmy is following a weekly schedule. They decide to do legs.                                                 \n",
      "GOLD:  #Person1# suggests to Jimmy that they go to the gym and convinces him to work out his arms and stomach.                                                             \n",
      "------------------------------------------------------------------------------------------------------------------------------------------------------\n",
      "PRED:     #Person2# tells #Person1# that #Person2# eats fruit, vegetables, and chicken. #Person1# thinks that chicken is good for you.                                                         \n",
      "GOLD:  #Person1# is planning to stop eating unhealthy food, and #Person2# shares his healthy recipes with #Person1#.                                                               \n"
     ]
    },
    {
     "name": "stderr",
     "output_type": "stream",
     "text": [
      "[I 2024-09-06 06:12:16,387] Trial 1 finished with value: 0.0 and parameters: {'learning_rate': 8.370249530886087e-05, 'per_device_train_batch_size': 4, 'num_train_epochs': 16, 'warmup_ratio': 0.11583920996653135, 'optim': 'adamw_torch', 'gradient_accumulation_steps': 2, 'lr_scheduler_type': 'cosine', 'fp16': True}. Best is trial 0 with value: 0.0.\n",
      "/tmp/ipykernel_58261/1742311384.py:4: FutureWarning: suggest_loguniform has been deprecated in v3.0.0. This feature will be removed in v6.0.0. See https://github.com/optuna/optuna/releases/tag/v3.0.0. Use suggest_float(..., log=True) instead.\n",
      "  config_data['training']['learning_rate'] = trial.suggest_loguniform('learning_rate', 1e-5, 1e-4)\n"
     ]
    },
    {
     "name": "stdout",
     "output_type": "stream",
     "text": [
      "Running on: cuda:0\n",
      "---------- Load tokenizer & model ----------\n",
      "---------- Model Name : knkarthick/MEETING-SUMMARY-BART-LARGE-XSUM-SAMSUM-DIALOGSUM ----------\n",
      "BartConfig {\n",
      "  \"_name_or_path\": \"knkarthick/MEETING-SUMMARY-BART-LARGE-XSUM-SAMSUM-DIALOGSUM\",\n",
      "  \"_num_labels\": 3,\n",
      "  \"activation_dropout\": 0.0,\n",
      "  \"activation_function\": \"gelu\",\n",
      "  \"add_bias_logits\": false,\n",
      "  \"add_final_layer_norm\": false,\n",
      "  \"architectures\": [\n",
      "    \"BartForConditionalGeneration\"\n",
      "  ],\n",
      "  \"attention_dropout\": 0.0,\n",
      "  \"bos_token_id\": 0,\n",
      "  \"classif_dropout\": 0.0,\n",
      "  \"classifier_dropout\": 0.0,\n",
      "  \"d_model\": 1024,\n",
      "  \"decoder_attention_heads\": 16,\n",
      "  \"decoder_ffn_dim\": 4096,\n",
      "  \"decoder_layerdrop\": 0.0,\n",
      "  \"decoder_layers\": 12,\n",
      "  \"decoder_start_token_id\": 2,\n",
      "  \"dropout\": 0.1,\n",
      "  \"early_stopping\": true,\n",
      "  \"encoder_attention_heads\": 16,\n",
      "  \"encoder_ffn_dim\": 4096,\n",
      "  \"encoder_layerdrop\": 0.0,\n",
      "  \"encoder_layers\": 12,\n",
      "  \"eos_token_id\": 2,\n",
      "  \"eos_token_ids\": [\n",
      "    2\n",
      "  ],\n",
      "  \"forced_eos_token_id\": 2,\n",
      "  \"gradient_checkpointing\": false,\n",
      "  \"id2label\": {\n",
      "    \"0\": \"LABEL_0\",\n",
      "    \"1\": \"LABEL_1\",\n",
      "    \"2\": \"LABEL_2\"\n",
      "  },\n",
      "  \"init_std\": 0.02,\n",
      "  \"is_encoder_decoder\": true,\n",
      "  \"label2id\": {\n",
      "    \"LABEL_0\": 0,\n",
      "    \"LABEL_1\": 1,\n",
      "    \"LABEL_2\": 2\n",
      "  },\n",
      "  \"max_length\": 62,\n",
      "  \"max_position_embeddings\": 1024,\n",
      "  \"min_length\": 11,\n",
      "  \"model_type\": \"bart\",\n",
      "  \"no_repeat_ngram_size\": 3,\n",
      "  \"normalize_before\": false,\n",
      "  \"normalize_embedding\": true,\n",
      "  \"num_beams\": 6,\n",
      "  \"num_hidden_layers\": 12,\n",
      "  \"output_past\": true,\n",
      "  \"pad_token_id\": 1,\n",
      "  \"prefix\": \" \",\n",
      "  \"replacing_rate\": 0,\n",
      "  \"scale_embedding\": false,\n",
      "  \"static_position_embeddings\": false,\n",
      "  \"student_decoder_layers\": null,\n",
      "  \"student_encoder_layers\": null,\n",
      "  \"task_specific_params\": {},\n",
      "  \"torch_dtype\": \"float32\",\n",
      "  \"transformers_version\": \"4.35.2\",\n",
      "  \"use_cache\": true,\n",
      "  \"vocab_size\": 50271\n",
      "}\n",
      "\n",
      "---------- Load tokenizer & model complete ----------\n",
      "Model and Tokenizer Loaded.\n",
      "------------------------------------------------------------------------------------------------------------------------------------------------------\n",
      "train_data:\n",
      " #Person1#: Hello, Mr. Smith. I'm Dr. Hawkins. Why are you here today?\n",
      "#Person2#: I thought it would be a good idea to have a checkup.\n",
      "#Person1#: That's right, you haven't had one in five years. You should have one every year.\n",
      "#Person2#: I know. But if nothing is wrong, why should I go to see a doctor?\n",
      "#Person1#: The best way to avoid serious illness is to catch these early. So for your own good, come at least once a year.\n",
      "#Person2#: I see.\n",
      "#Person1#: Look here. Your eyes and ears seem to be fine. Take a deep breath. Do you smoke, Mr. Smith?\n",
      "#Person2#: Yes.\n",
      "#Person1#: As you know, smoking is the main cause of lung cancer and heart disease. You really should quit.\n",
      "#Person2#: I've tried hundreds of times, but I find it hard to break the habit.\n",
      "#Person1#: We have classes and medicines that can help. I'll give you more information before you leave.\n",
      "#Person2#: OK, thank you, doctor.\n",
      "train_label:\n",
      " Mr. Smith is having a physical exam, and Dr. Hawkins recommends that he have a physical exam every year. Dr. Hawkins will give Mr. Smith information about classes and medications that can help him quit smoking.\n",
      "------------------------------------------------------------------------------------------------------------------------------------------------------\n",
      "val_data:\n",
      " #Person1#: Hello, how are you today?\n",
      "#Person2#: I'm having a little trouble breathing lately.\n",
      "#Person1#: Have you been sick with anything lately, like a cold?\n",
      "#Person2#: No, it's not a cold. It just feels like my chest is heavy every time I breathe.\n",
      "#Person1#: Do you have any known allergies?\n",
      "#Person2#: No, I don't have any known allergies.\n",
      "#Person1#: Does this happen all the time, or is it mostly when you are active?\n",
      "#Person2#: It happens a lot when I exercise.\n",
      "#Person1#: I'm going to send you to a pulmonologist to get checked for asthma.\n",
      "#Person2#: Thank you for helping me, doctor.\n",
      "val_label:\n",
      " #Person2# has difficulty breathing. The doctor asks #Person1# about this, and will send #Person2# to a lung specialist.\n",
      "---------- Load data complete ----------\n",
      "---------- Make dataset complete ----------\n",
      "---------- Make training arguments ----------\n"
     ]
    },
    {
     "data": {
      "text/html": [
       "Changes to your `wandb` environment variables will be ignored because your `wandb` session has already started. For more information on how to modify your settings with `wandb.init()` arguments, please refer to <a href='https://wandb.me/wandb-init' target=\"_blank\">the W&B docs</a>."
      ],
      "text/plain": [
       "<IPython.core.display.HTML object>"
      ]
     },
     "metadata": {},
     "output_type": "display_data"
    },
    {
     "data": {
      "text/html": [
       "Finishing last run (ID:61oasr67) before initializing another..."
      ],
      "text/plain": [
       "<IPython.core.display.HTML object>"
      ]
     },
     "metadata": {},
     "output_type": "display_data"
    },
    {
     "data": {
      "application/vnd.jupyter.widget-view+json": {
       "model_id": "9913985f647d43b4bf14accdc9ccffa4",
       "version_major": 2,
       "version_minor": 0
      },
      "text/plain": [
       "VBox(children=(Label(value='1550.164 MB of 1550.164 MB uploaded\\r'), FloatProgress(value=1.0, max=1.0)))"
      ]
     },
     "metadata": {},
     "output_type": "display_data"
    },
    {
     "name": "stderr",
     "output_type": "stream",
     "text": [
      "wandb: WARNING Source type is set to 'repo' but some required information is missing from the environment. A job will not be created from this run. See https://docs.wandb.ai/guides/launch/create-job\n"
     ]
    },
    {
     "data": {
      "text/html": [
       "<style>\n",
       "    table.wandb td:nth-child(1) { padding: 0 10px; text-align: left ; width: auto;} td:nth-child(2) {text-align: left ; width: 100%}\n",
       "    .wandb-row { display: flex; flex-direction: row; flex-wrap: wrap; justify-content: flex-start; width: 100% }\n",
       "    .wandb-col { display: flex; flex-direction: column; flex-basis: 100%; flex: 1; padding: 10px; }\n",
       "    </style>\n",
       "<div class=\"wandb-row\"><div class=\"wandb-col\"><h3>Run history:</h3><br/><table class=\"wandb\"><tr><td>eval/loss</td><td>▁▃▄█▁</td></tr><tr><td>eval/rouge-1</td><td>█▃▁▃█</td></tr><tr><td>eval/rouge-2</td><td>█▂▁▁█</td></tr><tr><td>eval/rouge-l</td><td>█▂▁▃█</td></tr><tr><td>eval/runtime</td><td>▂█▆▁▂</td></tr><tr><td>eval/samples_per_second</td><td>▇▁▂█▇</td></tr><tr><td>eval/steps_per_second</td><td>▇▁▂█▇</td></tr><tr><td>train/epoch</td><td>▁▁▃▃▆▆████</td></tr><tr><td>train/global_step</td><td>▁▁▃▃▆▆████</td></tr><tr><td>train/learning_rate</td><td>▁██▇</td></tr><tr><td>train/loss</td><td>█▂▂▁</td></tr><tr><td>train/total_flos</td><td>▁</td></tr><tr><td>train/train_loss</td><td>▁</td></tr><tr><td>train/train_runtime</td><td>▁</td></tr><tr><td>train/train_samples_per_second</td><td>▁</td></tr><tr><td>train/train_steps_per_second</td><td>▁</td></tr></table><br/></div><div class=\"wandb-col\"><h3>Run summary:</h3><br/><table class=\"wandb\"><tr><td>eval/loss</td><td>0.54142</td></tr><tr><td>eval/rouge-1</td><td>0.48604</td></tr><tr><td>eval/rouge-2</td><td>0.19793</td></tr><tr><td>eval/rouge-l</td><td>0.45532</td></tr><tr><td>eval/runtime</td><td>78.8582</td></tr><tr><td>eval/samples_per_second</td><td>6.328</td></tr><tr><td>eval/steps_per_second</td><td>0.799</td></tr><tr><td>train/epoch</td><td>4.0</td></tr><tr><td>train/global_step</td><td>6230</td></tr><tr><td>train/learning_rate</td><td>8e-05</td></tr><tr><td>train/loss</td><td>0.2528</td></tr><tr><td>train/total_flos</td><td>5.399124405701837e+16</td></tr><tr><td>train/train_loss</td><td>0.50618</td></tr><tr><td>train/train_runtime</td><td>2055.0037</td></tr><tr><td>train/train_samples_per_second</td><td>96.989</td></tr><tr><td>train/train_steps_per_second</td><td>12.123</td></tr></table><br/></div></div>"
      ],
      "text/plain": [
       "<IPython.core.display.HTML object>"
      ]
     },
     "metadata": {},
     "output_type": "display_data"
    },
    {
     "data": {
      "text/html": [
       " View run <strong style=\"color:#cdcd00\">BART-LARGE-XSUM-SAMSUM-DIALOGSUM</strong> at: <a href='https://wandb.ai/legendki/NLP-Summarization/runs/61oasr67' target=\"_blank\">https://wandb.ai/legendki/NLP-Summarization/runs/61oasr67</a><br/>Synced 6 W&B file(s), 0 media file(s), 4 artifact file(s) and 0 other file(s)"
      ],
      "text/plain": [
       "<IPython.core.display.HTML object>"
      ]
     },
     "metadata": {},
     "output_type": "display_data"
    },
    {
     "data": {
      "text/html": [
       "Find logs at: <code>./wandb/run-20240906_053542-61oasr67/logs</code>"
      ],
      "text/plain": [
       "<IPython.core.display.HTML object>"
      ]
     },
     "metadata": {},
     "output_type": "display_data"
    },
    {
     "data": {
      "text/html": [
       "Successfully finished last run (ID:61oasr67). Initializing new run:<br/>"
      ],
      "text/plain": [
       "<IPython.core.display.HTML object>"
      ]
     },
     "metadata": {},
     "output_type": "display_data"
    },
    {
     "data": {
      "application/vnd.jupyter.widget-view+json": {
       "model_id": "f4843772ff50431abafd41af18302434",
       "version_major": 2,
       "version_minor": 0
      },
      "text/plain": [
       "VBox(children=(Label(value='Waiting for wandb.init()...\\r'), FloatProgress(value=0.011112545885973506, max=1.0…"
      ]
     },
     "metadata": {},
     "output_type": "display_data"
    },
    {
     "data": {
      "text/html": [
       "wandb version 0.17.9 is available!  To upgrade, please run:\n",
       " $ pip install wandb --upgrade"
      ],
      "text/plain": [
       "<IPython.core.display.HTML object>"
      ]
     },
     "metadata": {},
     "output_type": "display_data"
    },
    {
     "data": {
      "text/html": [
       "Tracking run with wandb version 0.16.1"
      ],
      "text/plain": [
       "<IPython.core.display.HTML object>"
      ]
     },
     "metadata": {},
     "output_type": "display_data"
    },
    {
     "data": {
      "text/html": [
       "Run data is saved locally in <code>/home/upstage-nlp-summarization-nlp7/code/wandb/run-20240906_061225-pe7ycup0</code>"
      ],
      "text/plain": [
       "<IPython.core.display.HTML object>"
      ]
     },
     "metadata": {},
     "output_type": "display_data"
    },
    {
     "data": {
      "text/html": [
       "Syncing run <strong><a href='https://wandb.ai/legendki/NLP-Summarization/runs/pe7ycup0' target=\"_blank\">BART-LARGE-XSUM-SAMSUM-DIALOGSUM</a></strong> to <a href='https://wandb.ai/legendki/NLP-Summarization' target=\"_blank\">Weights & Biases</a> (<a href='https://wandb.me/run' target=\"_blank\">docs</a>)<br/>"
      ],
      "text/plain": [
       "<IPython.core.display.HTML object>"
      ]
     },
     "metadata": {},
     "output_type": "display_data"
    },
    {
     "data": {
      "text/html": [
       " View project at <a href='https://wandb.ai/legendki/NLP-Summarization' target=\"_blank\">https://wandb.ai/legendki/NLP-Summarization</a>"
      ],
      "text/plain": [
       "<IPython.core.display.HTML object>"
      ]
     },
     "metadata": {},
     "output_type": "display_data"
    },
    {
     "data": {
      "text/html": [
       " View run at <a href='https://wandb.ai/legendki/NLP-Summarization/runs/pe7ycup0' target=\"_blank\">https://wandb.ai/legendki/NLP-Summarization/runs/pe7ycup0</a>"
      ],
      "text/plain": [
       "<IPython.core.display.HTML object>"
      ]
     },
     "metadata": {},
     "output_type": "display_data"
    },
    {
     "name": "stderr",
     "output_type": "stream",
     "text": [
      "Detected kernel version 5.4.0, which is below the recommended minimum of 5.5.0; this can cause the process to hang. It is recommended to upgrade the kernel to the minimum version or higher.\n"
     ]
    },
    {
     "name": "stdout",
     "output_type": "stream",
     "text": [
      "---------- Make training arguments complete ----------\n",
      "---------- Make trainer ----------\n",
      "---------- Make trainer complete ----------\n"
     ]
    },
    {
     "data": {
      "text/html": [
       "\n",
       "    <div>\n",
       "      \n",
       "      <progress value='1558' max='4668' style='width:300px; height:20px; vertical-align: middle;'></progress>\n",
       "      [1558/4668 26:47 < 53:33, 0.97 it/s, Epoch 4/12]\n",
       "    </div>\n",
       "    <table border=\"1\" class=\"dataframe\">\n",
       "  <thead>\n",
       " <tr style=\"text-align: left;\">\n",
       "      <th>Epoch</th>\n",
       "      <th>Training Loss</th>\n",
       "      <th>Validation Loss</th>\n",
       "      <th>Rouge-1</th>\n",
       "      <th>Rouge-2</th>\n",
       "      <th>Rouge-l</th>\n",
       "    </tr>\n",
       "  </thead>\n",
       "  <tbody>\n",
       "    <tr>\n",
       "      <td>0</td>\n",
       "      <td>1.839600</td>\n",
       "      <td>0.470637</td>\n",
       "      <td>0.489301</td>\n",
       "      <td>0.205615</td>\n",
       "      <td>0.458128</td>\n",
       "    </tr>\n",
       "    <tr>\n",
       "      <td>2</td>\n",
       "      <td>0.303500</td>\n",
       "      <td>0.518171</td>\n",
       "      <td>0.499725</td>\n",
       "      <td>0.209777</td>\n",
       "      <td>0.465211</td>\n",
       "    </tr>\n",
       "    <tr>\n",
       "      <td>4</td>\n",
       "      <td>0.258900</td>\n",
       "      <td>0.513081</td>\n",
       "      <td>0.496541</td>\n",
       "      <td>0.210201</td>\n",
       "      <td>0.460283</td>\n",
       "    </tr>\n",
       "  </tbody>\n",
       "</table><p>"
      ],
      "text/plain": [
       "<IPython.core.display.HTML object>"
      ]
     },
     "metadata": {},
     "output_type": "display_data"
    },
    {
     "name": "stdout",
     "output_type": "stream",
     "text": [
      "------------------------------------------------------------------------------------------------------------------------------------------------------\n",
      "PRED:   #Person2# has been having trouble breathing lately. #Person1# will send #Person2# to a pulmonologist to check for asthma.                                                                          \n",
      "GOLD:  #Person2# has difficulty breathing. The doctor asks #Person1# about this, and will send #Person2# to a lung specialist.                                                            \n",
      "------------------------------------------------------------------------------------------------------------------------------------------------------\n",
      "PRED:     #Person1# suggests to Jimmy that they go to the gym to work out later. They will meet at the gym at 3:30 p.m. on Friday.                                                                \n",
      "GOLD:  #Person1# suggests to Jimmy that they go to the gym and convinces him to work out his arms and stomach.                                                             \n",
      "------------------------------------------------------------------------------------------------------------------------------------------------------\n",
      "PRED:    #Person1# needs to stop eating unhealthy food. #Person2# tells #Person1# that #Person2# eats mainly fruit, vegetables, and chicken. #Person1# thinks that sounds healthier.                                                                 \n",
      "GOLD:  #Person1# is planning to stop eating unhealthy food, and #Person2# shares his healthy recipes with #Person1#.                                                               \n",
      "------------------------------------------------------------------------------------------------------------------------------------------------------\n",
      "PRED:   #Person2# has been having trouble breathing lately. #Person1# will send #Person2# to a pulmonologist to check for asthma.                                                                          \n",
      "GOLD:  #Person2# has difficulty breathing. The doctor asks #Person1# about this, and will send #Person2# to a lung specialist.                                                            \n",
      "------------------------------------------------------------------------------------------------------------------------------------------------------\n",
      "PRED:     #Person1# suggests to Jimmy that they work out later because #Person1#'s legs are sore. They will meet at the gym at 3:30 and work on arms and abs.                                                              \n",
      "GOLD:  #Person1# suggests to Jimmy that they go to the gym and convinces him to work out his arms and stomach.                                                             \n",
      "------------------------------------------------------------------------------------------------------------------------------------------------------\n",
      "PRED:     #Person1# needs to stop eating unhealthy food. #Person2# tells #Person1# that he has started eating healthier food.                                                                           \n",
      "GOLD:  #Person1# is planning to stop eating unhealthy food, and #Person2# shares his healthy recipes with #Person1#.                                                               \n",
      "------------------------------------------------------------------------------------------------------------------------------------------------------\n",
      "PRED:   #Person2# has been having trouble breathing lately. #Person1# will send #Person2# to a pulmonologist to check for asthma.                                                                          \n",
      "GOLD:  #Person2# has difficulty breathing. The doctor asks #Person1# about this, and will send #Person2# to a lung specialist.                                                            \n",
      "------------------------------------------------------------------------------------------------------------------------------------------------------\n",
      "PRED:     #Person1# suggests to Jimmy that they work out later because #Person1#'s legs are sore, but Jimmy refuses because he is following a weekly schedule.                                                                    \n",
      "GOLD:  #Person1# suggests to Jimmy that they go to the gym and convinces him to work out his arms and stomach.                                                             \n",
      "------------------------------------------------------------------------------------------------------------------------------------------------------\n",
      "PRED:     #Person1# wants to stop eating unhealthy food. #Person2# tells #Person1# that they have started eating healthier food.                                                                           \n",
      "GOLD:  #Person1# is planning to stop eating unhealthy food, and #Person2# shares his healthy recipes with #Person1#.                                                               \n",
      "------------------------------------------------------------------------------------------------------------------------------------------------------\n",
      "PRED:  #Person2# has been having trouble breathing lately. #Person1# will send #Person2# to a pulmonologist to check for asthma.                                                                           \n",
      "GOLD:  #Person2# has difficulty breathing. The doctor asks #Person1# about this, and will send #Person2# to a lung specialist.                                                            \n",
      "------------------------------------------------------------------------------------------------------------------------------------------------------\n",
      "PRED:     #Person1# suggests to Jimmy that they work out later because #Person1#'s legs are sore, but Jimmy is following a weekly schedule, so they have to do the legs on Friday.                                                             \n",
      "GOLD:  #Person1# suggests to Jimmy that they go to the gym and convinces him to work out his arms and stomach.                                                             \n",
      "------------------------------------------------------------------------------------------------------------------------------------------------------\n",
      "PRED:     #Person1# wants to eat healthier food. #Person2# tells #Person1# that #Person2# eats mainly fruits, vegetables, and chicken.                                                                        \n",
      "GOLD:  #Person1# is planning to stop eating unhealthy food, and #Person2# shares his healthy recipes with #Person1#.                                                               \n"
     ]
    },
    {
     "name": "stderr",
     "output_type": "stream",
     "text": [
      "There were missing keys in the checkpoint model loaded: ['model.encoder.embed_tokens.weight', 'model.decoder.embed_tokens.weight', 'lm_head.weight'].\n",
      "Detected kernel version 5.4.0, which is below the recommended minimum of 5.5.0; this can cause the process to hang. It is recommended to upgrade the kernel to the minimum version or higher.\n"
     ]
    },
    {
     "data": {
      "text/html": [
       "\n",
       "    <div>\n",
       "      \n",
       "      <progress value='63' max='63' style='width:300px; height:20px; vertical-align: middle;'></progress>\n",
       "      [63/63 01:22]\n",
       "    </div>\n",
       "    "
      ],
      "text/plain": [
       "<IPython.core.display.HTML object>"
      ]
     },
     "metadata": {},
     "output_type": "display_data"
    },
    {
     "name": "stdout",
     "output_type": "stream",
     "text": [
      "------------------------------------------------------------------------------------------------------------------------------------------------------\n",
      "PRED:   #Person2# has been having trouble breathing lately. #Person1# will send #Person2# to a pulmonologist to check for asthma.                                                                          \n",
      "GOLD:  #Person2# has difficulty breathing. The doctor asks #Person1# about this, and will send #Person2# to a lung specialist.                                                            \n",
      "------------------------------------------------------------------------------------------------------------------------------------------------------\n",
      "PRED:     #Person1# suggests to Jimmy that they go to the gym to work out later. They will meet at the gym at 3:30 p.m. on Friday.                                                                \n",
      "GOLD:  #Person1# suggests to Jimmy that they go to the gym and convinces him to work out his arms and stomach.                                                             \n",
      "------------------------------------------------------------------------------------------------------------------------------------------------------\n",
      "PRED:    #Person1# needs to stop eating unhealthy food. #Person2# tells #Person1# that #Person2# eats mainly fruit, vegetables, and chicken. #Person1# thinks that sounds healthier.                                                                 \n",
      "GOLD:  #Person1# is planning to stop eating unhealthy food, and #Person2# shares his healthy recipes with #Person1#.                                                               \n"
     ]
    },
    {
     "name": "stderr",
     "output_type": "stream",
     "text": [
      "[I 2024-09-06 06:42:02,599] Trial 2 finished with value: 0.0 and parameters: {'learning_rate': 1.7446279371777423e-05, 'per_device_train_batch_size': 16, 'num_train_epochs': 12, 'warmup_ratio': 0.0503207359359519, 'optim': 'adafactor', 'gradient_accumulation_steps': 2, 'lr_scheduler_type': 'cosine', 'fp16': False}. Best is trial 0 with value: 0.0.\n",
      "/tmp/ipykernel_58261/1742311384.py:4: FutureWarning: suggest_loguniform has been deprecated in v3.0.0. This feature will be removed in v6.0.0. See https://github.com/optuna/optuna/releases/tag/v3.0.0. Use suggest_float(..., log=True) instead.\n",
      "  config_data['training']['learning_rate'] = trial.suggest_loguniform('learning_rate', 1e-5, 1e-4)\n"
     ]
    },
    {
     "name": "stdout",
     "output_type": "stream",
     "text": [
      "Running on: cuda:0\n",
      "---------- Load tokenizer & model ----------\n",
      "---------- Model Name : knkarthick/MEETING-SUMMARY-BART-LARGE-XSUM-SAMSUM-DIALOGSUM ----------\n",
      "BartConfig {\n",
      "  \"_name_or_path\": \"knkarthick/MEETING-SUMMARY-BART-LARGE-XSUM-SAMSUM-DIALOGSUM\",\n",
      "  \"_num_labels\": 3,\n",
      "  \"activation_dropout\": 0.0,\n",
      "  \"activation_function\": \"gelu\",\n",
      "  \"add_bias_logits\": false,\n",
      "  \"add_final_layer_norm\": false,\n",
      "  \"architectures\": [\n",
      "    \"BartForConditionalGeneration\"\n",
      "  ],\n",
      "  \"attention_dropout\": 0.0,\n",
      "  \"bos_token_id\": 0,\n",
      "  \"classif_dropout\": 0.0,\n",
      "  \"classifier_dropout\": 0.0,\n",
      "  \"d_model\": 1024,\n",
      "  \"decoder_attention_heads\": 16,\n",
      "  \"decoder_ffn_dim\": 4096,\n",
      "  \"decoder_layerdrop\": 0.0,\n",
      "  \"decoder_layers\": 12,\n",
      "  \"decoder_start_token_id\": 2,\n",
      "  \"dropout\": 0.1,\n",
      "  \"early_stopping\": true,\n",
      "  \"encoder_attention_heads\": 16,\n",
      "  \"encoder_ffn_dim\": 4096,\n",
      "  \"encoder_layerdrop\": 0.0,\n",
      "  \"encoder_layers\": 12,\n",
      "  \"eos_token_id\": 2,\n",
      "  \"eos_token_ids\": [\n",
      "    2\n",
      "  ],\n",
      "  \"forced_eos_token_id\": 2,\n",
      "  \"gradient_checkpointing\": false,\n",
      "  \"id2label\": {\n",
      "    \"0\": \"LABEL_0\",\n",
      "    \"1\": \"LABEL_1\",\n",
      "    \"2\": \"LABEL_2\"\n",
      "  },\n",
      "  \"init_std\": 0.02,\n",
      "  \"is_encoder_decoder\": true,\n",
      "  \"label2id\": {\n",
      "    \"LABEL_0\": 0,\n",
      "    \"LABEL_1\": 1,\n",
      "    \"LABEL_2\": 2\n",
      "  },\n",
      "  \"max_length\": 62,\n",
      "  \"max_position_embeddings\": 1024,\n",
      "  \"min_length\": 11,\n",
      "  \"model_type\": \"bart\",\n",
      "  \"no_repeat_ngram_size\": 3,\n",
      "  \"normalize_before\": false,\n",
      "  \"normalize_embedding\": true,\n",
      "  \"num_beams\": 6,\n",
      "  \"num_hidden_layers\": 12,\n",
      "  \"output_past\": true,\n",
      "  \"pad_token_id\": 1,\n",
      "  \"prefix\": \" \",\n",
      "  \"replacing_rate\": 0,\n",
      "  \"scale_embedding\": false,\n",
      "  \"static_position_embeddings\": false,\n",
      "  \"student_decoder_layers\": null,\n",
      "  \"student_encoder_layers\": null,\n",
      "  \"task_specific_params\": {},\n",
      "  \"torch_dtype\": \"float32\",\n",
      "  \"transformers_version\": \"4.35.2\",\n",
      "  \"use_cache\": true,\n",
      "  \"vocab_size\": 50271\n",
      "}\n",
      "\n",
      "---------- Load tokenizer & model complete ----------\n",
      "Model and Tokenizer Loaded.\n",
      "------------------------------------------------------------------------------------------------------------------------------------------------------\n",
      "train_data:\n",
      " #Person1#: Hello, Mr. Smith. I'm Dr. Hawkins. Why are you here today?\n",
      "#Person2#: I thought it would be a good idea to have a checkup.\n",
      "#Person1#: That's right, you haven't had one in five years. You should have one every year.\n",
      "#Person2#: I know. But if nothing is wrong, why should I go to see a doctor?\n",
      "#Person1#: The best way to avoid serious illness is to catch these early. So for your own good, come at least once a year.\n",
      "#Person2#: I see.\n",
      "#Person1#: Look here. Your eyes and ears seem to be fine. Take a deep breath. Do you smoke, Mr. Smith?\n",
      "#Person2#: Yes.\n",
      "#Person1#: As you know, smoking is the main cause of lung cancer and heart disease. You really should quit.\n",
      "#Person2#: I've tried hundreds of times, but I find it hard to break the habit.\n",
      "#Person1#: We have classes and medicines that can help. I'll give you more information before you leave.\n",
      "#Person2#: OK, thank you, doctor.\n",
      "train_label:\n",
      " Mr. Smith is having a physical exam, and Dr. Hawkins recommends that he have a physical exam every year. Dr. Hawkins will give Mr. Smith information about classes and medications that can help him quit smoking.\n",
      "------------------------------------------------------------------------------------------------------------------------------------------------------\n",
      "val_data:\n",
      " #Person1#: Hello, how are you today?\n",
      "#Person2#: I'm having a little trouble breathing lately.\n",
      "#Person1#: Have you been sick with anything lately, like a cold?\n",
      "#Person2#: No, it's not a cold. It just feels like my chest is heavy every time I breathe.\n",
      "#Person1#: Do you have any known allergies?\n",
      "#Person2#: No, I don't have any known allergies.\n",
      "#Person1#: Does this happen all the time, or is it mostly when you are active?\n",
      "#Person2#: It happens a lot when I exercise.\n",
      "#Person1#: I'm going to send you to a pulmonologist to get checked for asthma.\n",
      "#Person2#: Thank you for helping me, doctor.\n",
      "val_label:\n",
      " #Person2# has difficulty breathing. The doctor asks #Person1# about this, and will send #Person2# to a lung specialist.\n",
      "---------- Load data complete ----------\n",
      "---------- Make dataset complete ----------\n",
      "---------- Make training arguments ----------\n"
     ]
    },
    {
     "data": {
      "text/html": [
       "Changes to your `wandb` environment variables will be ignored because your `wandb` session has already started. For more information on how to modify your settings with `wandb.init()` arguments, please refer to <a href='https://wandb.me/wandb-init' target=\"_blank\">the W&B docs</a>."
      ],
      "text/plain": [
       "<IPython.core.display.HTML object>"
      ]
     },
     "metadata": {},
     "output_type": "display_data"
    },
    {
     "data": {
      "text/html": [
       "Finishing last run (ID:pe7ycup0) before initializing another..."
      ],
      "text/plain": [
       "<IPython.core.display.HTML object>"
      ]
     },
     "metadata": {},
     "output_type": "display_data"
    },
    {
     "data": {
      "application/vnd.jupyter.widget-view+json": {
       "model_id": "ba7c0ade14e14c23ac0be7ee70aa6283",
       "version_major": 2,
       "version_minor": 0
      },
      "text/plain": [
       "VBox(children=(Label(value='1550.164 MB of 1550.164 MB uploaded\\r'), FloatProgress(value=1.0, max=1.0)))"
      ]
     },
     "metadata": {},
     "output_type": "display_data"
    },
    {
     "name": "stderr",
     "output_type": "stream",
     "text": [
      "wandb: WARNING Source type is set to 'repo' but some required information is missing from the environment. A job will not be created from this run. See https://docs.wandb.ai/guides/launch/create-job\n"
     ]
    },
    {
     "data": {
      "text/html": [
       "<style>\n",
       "    table.wandb td:nth-child(1) { padding: 0 10px; text-align: left ; width: auto;} td:nth-child(2) {text-align: left ; width: 100%}\n",
       "    .wandb-row { display: flex; flex-direction: row; flex-wrap: wrap; justify-content: flex-start; width: 100% }\n",
       "    .wandb-col { display: flex; flex-direction: column; flex-basis: 100%; flex: 1; padding: 10px; }\n",
       "    </style>\n",
       "<div class=\"wandb-row\"><div class=\"wandb-col\"><h3>Run history:</h3><br/><table class=\"wandb\"><tr><td>eval/loss</td><td>▁▁█▇▁</td></tr><tr><td>eval/rouge-1</td><td>▁▄█▆▁</td></tr><tr><td>eval/rouge-2</td><td>▁▅▇█▁</td></tr><tr><td>eval/rouge-l</td><td>▁▂█▃▁</td></tr><tr><td>eval/runtime</td><td>▅█▁▆▅</td></tr><tr><td>eval/samples_per_second</td><td>▄▁█▃▄</td></tr><tr><td>eval/steps_per_second</td><td>▄▁█▃▄</td></tr><tr><td>train/epoch</td><td>▁▁▃▃▆▆████</td></tr><tr><td>train/global_step</td><td>▁▁▃▃▆▆████</td></tr><tr><td>train/learning_rate</td><td>█▇▄▁</td></tr><tr><td>train/loss</td><td>█▁▁▁</td></tr><tr><td>train/total_flos</td><td>▁</td></tr><tr><td>train/train_loss</td><td>▁</td></tr><tr><td>train/train_runtime</td><td>▁</td></tr><tr><td>train/train_samples_per_second</td><td>▁</td></tr><tr><td>train/train_steps_per_second</td><td>▁</td></tr></table><br/></div><div class=\"wandb-col\"><h3>Run summary:</h3><br/><table class=\"wandb\"><tr><td>eval/loss</td><td>0.47064</td></tr><tr><td>eval/rouge-1</td><td>0.4893</td></tr><tr><td>eval/rouge-2</td><td>0.20561</td></tr><tr><td>eval/rouge-l</td><td>0.45813</td></tr><tr><td>eval/runtime</td><td>84.1187</td></tr><tr><td>eval/samples_per_second</td><td>5.932</td></tr><tr><td>eval/steps_per_second</td><td>0.749</td></tr><tr><td>train/epoch</td><td>4.0</td></tr><tr><td>train/global_step</td><td>1558</td></tr><tr><td>train/learning_rate</td><td>1e-05</td></tr><tr><td>train/loss</td><td>0.2589</td></tr><tr><td>train/total_flos</td><td>5.399124405701837e+16</td></tr><tr><td>train/train_loss</td><td>0.68902</td></tr><tr><td>train/train_runtime</td><td>1600.727</td></tr><tr><td>train/train_samples_per_second</td><td>93.385</td></tr><tr><td>train/train_steps_per_second</td><td>2.916</td></tr></table><br/></div></div>"
      ],
      "text/plain": [
       "<IPython.core.display.HTML object>"
      ]
     },
     "metadata": {},
     "output_type": "display_data"
    },
    {
     "data": {
      "text/html": [
       " View run <strong style=\"color:#cdcd00\">BART-LARGE-XSUM-SAMSUM-DIALOGSUM</strong> at: <a href='https://wandb.ai/legendki/NLP-Summarization/runs/pe7ycup0' target=\"_blank\">https://wandb.ai/legendki/NLP-Summarization/runs/pe7ycup0</a><br/>Synced 6 W&B file(s), 0 media file(s), 4 artifact file(s) and 0 other file(s)"
      ],
      "text/plain": [
       "<IPython.core.display.HTML object>"
      ]
     },
     "metadata": {},
     "output_type": "display_data"
    },
    {
     "data": {
      "text/html": [
       "Find logs at: <code>./wandb/run-20240906_061225-pe7ycup0/logs</code>"
      ],
      "text/plain": [
       "<IPython.core.display.HTML object>"
      ]
     },
     "metadata": {},
     "output_type": "display_data"
    },
    {
     "data": {
      "text/html": [
       "Successfully finished last run (ID:pe7ycup0). Initializing new run:<br/>"
      ],
      "text/plain": [
       "<IPython.core.display.HTML object>"
      ]
     },
     "metadata": {},
     "output_type": "display_data"
    },
    {
     "data": {
      "application/vnd.jupyter.widget-view+json": {
       "model_id": "7ccb4f62d3b14ed1889a53317b32d786",
       "version_major": 2,
       "version_minor": 0
      },
      "text/plain": [
       "VBox(children=(Label(value='Waiting for wandb.init()...\\r'), FloatProgress(value=0.011112276713053386, max=1.0…"
      ]
     },
     "metadata": {},
     "output_type": "display_data"
    },
    {
     "data": {
      "text/html": [
       "wandb version 0.17.9 is available!  To upgrade, please run:\n",
       " $ pip install wandb --upgrade"
      ],
      "text/plain": [
       "<IPython.core.display.HTML object>"
      ]
     },
     "metadata": {},
     "output_type": "display_data"
    },
    {
     "data": {
      "text/html": [
       "Tracking run with wandb version 0.16.1"
      ],
      "text/plain": [
       "<IPython.core.display.HTML object>"
      ]
     },
     "metadata": {},
     "output_type": "display_data"
    },
    {
     "data": {
      "text/html": [
       "Run data is saved locally in <code>/home/upstage-nlp-summarization-nlp7/code/wandb/run-20240906_064211-znjgr0uv</code>"
      ],
      "text/plain": [
       "<IPython.core.display.HTML object>"
      ]
     },
     "metadata": {},
     "output_type": "display_data"
    },
    {
     "data": {
      "text/html": [
       "Syncing run <strong><a href='https://wandb.ai/legendki/NLP-Summarization/runs/znjgr0uv' target=\"_blank\">BART-LARGE-XSUM-SAMSUM-DIALOGSUM</a></strong> to <a href='https://wandb.ai/legendki/NLP-Summarization' target=\"_blank\">Weights & Biases</a> (<a href='https://wandb.me/run' target=\"_blank\">docs</a>)<br/>"
      ],
      "text/plain": [
       "<IPython.core.display.HTML object>"
      ]
     },
     "metadata": {},
     "output_type": "display_data"
    },
    {
     "data": {
      "text/html": [
       " View project at <a href='https://wandb.ai/legendki/NLP-Summarization' target=\"_blank\">https://wandb.ai/legendki/NLP-Summarization</a>"
      ],
      "text/plain": [
       "<IPython.core.display.HTML object>"
      ]
     },
     "metadata": {},
     "output_type": "display_data"
    },
    {
     "data": {
      "text/html": [
       " View run at <a href='https://wandb.ai/legendki/NLP-Summarization/runs/znjgr0uv' target=\"_blank\">https://wandb.ai/legendki/NLP-Summarization/runs/znjgr0uv</a>"
      ],
      "text/plain": [
       "<IPython.core.display.HTML object>"
      ]
     },
     "metadata": {},
     "output_type": "display_data"
    },
    {
     "name": "stderr",
     "output_type": "stream",
     "text": [
      "Detected kernel version 5.4.0, which is below the recommended minimum of 5.5.0; this can cause the process to hang. It is recommended to upgrade the kernel to the minimum version or higher.\n"
     ]
    },
    {
     "name": "stdout",
     "output_type": "stream",
     "text": [
      "---------- Make training arguments complete ----------\n",
      "---------- Make trainer ----------\n",
      "---------- Make trainer complete ----------\n"
     ]
    },
    {
     "name": "stderr",
     "output_type": "stream",
     "text": [
      "/opt/conda/lib/python3.10/site-packages/transformers/optimization.py:411: FutureWarning: This implementation of AdamW is deprecated and will be removed in a future version. Use the PyTorch implementation torch.optim.AdamW instead, or set `no_deprecation_warning=True` to disable this warning\n",
      "  warnings.warn(\n"
     ]
    },
    {
     "data": {
      "text/html": [
       "\n",
       "    <div>\n",
       "      \n",
       "      <progress value='4153' max='19722' style='width:300px; height:20px; vertical-align: middle;'></progress>\n",
       "      [ 4153/19722 33:13 < 2:04:37, 2.08 it/s, Epoch 3/19]\n",
       "    </div>\n",
       "    <table border=\"1\" class=\"dataframe\">\n",
       "  <thead>\n",
       " <tr style=\"text-align: left;\">\n",
       "      <th>Epoch</th>\n",
       "      <th>Training Loss</th>\n",
       "      <th>Validation Loss</th>\n",
       "      <th>Rouge-1</th>\n",
       "      <th>Rouge-2</th>\n",
       "      <th>Rouge-l</th>\n",
       "    </tr>\n",
       "  </thead>\n",
       "  <tbody>\n",
       "    <tr>\n",
       "      <td>0</td>\n",
       "      <td>1.989600</td>\n",
       "      <td>0.484201</td>\n",
       "      <td>0.485074</td>\n",
       "      <td>0.195482</td>\n",
       "      <td>0.453211</td>\n",
       "    </tr>\n",
       "    <tr>\n",
       "      <td>1</td>\n",
       "      <td>0.367700</td>\n",
       "      <td>0.501356</td>\n",
       "      <td>0.490396</td>\n",
       "      <td>0.203188</td>\n",
       "      <td>0.457538</td>\n",
       "    </tr>\n",
       "    <tr>\n",
       "      <td>3</td>\n",
       "      <td>0.248900</td>\n",
       "      <td>0.556640</td>\n",
       "      <td>0.484865</td>\n",
       "      <td>0.190816</td>\n",
       "      <td>0.445509</td>\n",
       "    </tr>\n",
       "  </tbody>\n",
       "</table><p>"
      ],
      "text/plain": [
       "<IPython.core.display.HTML object>"
      ]
     },
     "metadata": {},
     "output_type": "display_data"
    },
    {
     "name": "stdout",
     "output_type": "stream",
     "text": [
      "------------------------------------------------------------------------------------------------------------------------------------------------------\n",
      "PRED:   #Person2# is having trouble breathing lately. #Person1# will send #Person2# to a pulmonologist to check for asthma.                                                                           \n",
      "GOLD:  #Person2# has difficulty breathing. The doctor asks #Person1# about this, and will send #Person2# to a lung specialist.                                                            \n",
      "------------------------------------------------------------------------------------------------------------------------------------------------------\n",
      "PRED:     #Person1# and Jimmy are going to meet at the gym at 3:30 p.m. to work out. #Person1# wants to work on arms and abs, but Jimmy is following a weekly schedule, so they will do legs on Friday.                                                \n",
      "GOLD:  #Person1# suggests to Jimmy that they go to the gym and convinces him to work out his arms and stomach.                                                             \n",
      "------------------------------------------------------------------------------------------------------------------------------------------------------\n",
      "PRED:     #Person1# wants to stop eating unhealthy food. #Person2# tells #Person1# that he eats fruit, vegetables, and chicken. #Person1# thinks that sounds healthier.                                                                  \n",
      "GOLD:  #Person1# is planning to stop eating unhealthy food, and #Person2# shares his healthy recipes with #Person1#.                                                               \n",
      "------------------------------------------------------------------------------------------------------------------------------------------------------\n",
      "PRED:     #Person2# has been having trouble breathing lately. #Person1# will send #Person2# to a pulmonologist to get checked for asthma.                                                                       \n",
      "GOLD:  #Person2# has difficulty breathing. The doctor asks #Person1# about this, and will send #Person2# to a lung specialist.                                                            \n",
      "------------------------------------------------------------------------------------------------------------------------------------------------------\n",
      "PRED:     #Person1# suggests to Jimmy that they work out later because #Person1#'s legs are sore, but Jimmy is following a weekly schedule. They will meet at the gym at 3:30.                                                            \n",
      "GOLD:  #Person1# suggests to Jimmy that they go to the gym and convinces him to work out his arms and stomach.                                                             \n",
      "------------------------------------------------------------------------------------------------------------------------------------------------------\n",
      "PRED:     #Person1# needs to stop eating unhealthy food. #Person2# tells #Person1# that he has started eating healthier food.                                                                           \n",
      "GOLD:  #Person1# is planning to stop eating unhealthy food, and #Person2# shares his healthy recipes with #Person1#.                                                               \n",
      "------------------------------------------------------------------------------------------------------------------------------------------------------\n",
      "PRED:     #Person2# has been having trouble breathing lately. #Person1# will send #Person2# to a pulmonologist to check for asthma.                                                                        \n",
      "GOLD:  #Person2# has difficulty breathing. The doctor asks #Person1# about this, and will send #Person2# to a lung specialist.                                                            \n",
      "------------------------------------------------------------------------------------------------------------------------------------------------------\n",
      "PRED:     #Person1# and Jimmy are going to work out later. #Person1# wants to work on arms and abs today, but Jimmy wants to change it to Friday.                                                                  \n",
      "GOLD:  #Person1# suggests to Jimmy that they go to the gym and convinces him to work out his arms and stomach.                                                             \n",
      "------------------------------------------------------------------------------------------------------------------------------------------------------\n",
      "PRED:     #Person1# wants to stop eating unhealthy food. #Person2# tells #Person1# that they have started eating healthier food, such as fruit, vegetables, and chicken.                                                                  \n",
      "GOLD:  #Person1# is planning to stop eating unhealthy food, and #Person2# shares his healthy recipes with #Person1#.                                                               \n",
      "------------------------------------------------------------------------------------------------------------------------------------------------------\n",
      "PRED:     #Person2# has been having trouble breathing lately. #Person1# asked #Person2# some questions and decided to send #Person2# to a pulmonologist to be checked for asthma.                                                                \n",
      "GOLD:  #Person2# has difficulty breathing. The doctor asks #Person1# about this, and will send #Person2# to a lung specialist.                                                            \n",
      "------------------------------------------------------------------------------------------------------------------------------------------------------\n",
      "PRED:     #Person1# suggests to Jimmy to work out later because his legs are sore, but Jimmy is following a weekly schedule. They decide to do the legs on Friday.                                                                 \n",
      "GOLD:  #Person1# suggests to Jimmy that they go to the gym and convinces him to work out his arms and stomach.                                                             \n",
      "------------------------------------------------------------------------------------------------------------------------------------------------------\n",
      "PRED:     #Person1# wants to eat healthier food. #Person2# tells #Person1# that #Person2# eats mainly fruits, vegetables, and chicken.                                                                        \n",
      "GOLD:  #Person1# is planning to stop eating unhealthy food, and #Person2# shares his healthy recipes with #Person1#.                                                               \n"
     ]
    },
    {
     "name": "stderr",
     "output_type": "stream",
     "text": [
      "There were missing keys in the checkpoint model loaded: ['model.encoder.embed_tokens.weight', 'model.decoder.embed_tokens.weight', 'lm_head.weight'].\n",
      "Detected kernel version 5.4.0, which is below the recommended minimum of 5.5.0; this can cause the process to hang. It is recommended to upgrade the kernel to the minimum version or higher.\n"
     ]
    },
    {
     "data": {
      "text/html": [
       "\n",
       "    <div>\n",
       "      \n",
       "      <progress value='63' max='63' style='width:300px; height:20px; vertical-align: middle;'></progress>\n",
       "      [63/63 01:23]\n",
       "    </div>\n",
       "    "
      ],
      "text/plain": [
       "<IPython.core.display.HTML object>"
      ]
     },
     "metadata": {},
     "output_type": "display_data"
    },
    {
     "name": "stdout",
     "output_type": "stream",
     "text": [
      "------------------------------------------------------------------------------------------------------------------------------------------------------\n",
      "PRED:   #Person2# is having trouble breathing lately. #Person1# will send #Person2# to a pulmonologist to check for asthma.                                                                           \n",
      "GOLD:  #Person2# has difficulty breathing. The doctor asks #Person1# about this, and will send #Person2# to a lung specialist.                                                            \n",
      "------------------------------------------------------------------------------------------------------------------------------------------------------\n",
      "PRED:     #Person1# and Jimmy are going to meet at the gym at 3:30 p.m. to work out. #Person1# wants to work on arms and abs, but Jimmy is following a weekly schedule, so they will do legs on Friday.                                                \n",
      "GOLD:  #Person1# suggests to Jimmy that they go to the gym and convinces him to work out his arms and stomach.                                                             \n",
      "------------------------------------------------------------------------------------------------------------------------------------------------------\n",
      "PRED:     #Person1# wants to stop eating unhealthy food. #Person2# tells #Person1# that he eats fruit, vegetables, and chicken. #Person1# thinks that sounds healthier.                                                                  \n",
      "GOLD:  #Person1# is planning to stop eating unhealthy food, and #Person2# shares his healthy recipes with #Person1#.                                                               \n"
     ]
    },
    {
     "name": "stderr",
     "output_type": "stream",
     "text": [
      "[I 2024-09-06 07:17:57,943] Trial 3 finished with value: 0.0 and parameters: {'learning_rate': 2.5233792027525678e-05, 'per_device_train_batch_size': 4, 'num_train_epochs': 19, 'warmup_ratio': 0.15166645816117616, 'optim': 'adamw_hf', 'gradient_accumulation_steps': 3, 'lr_scheduler_type': 'linear', 'fp16': False}. Best is trial 0 with value: 0.0.\n",
      "/tmp/ipykernel_58261/1742311384.py:4: FutureWarning: suggest_loguniform has been deprecated in v3.0.0. This feature will be removed in v6.0.0. See https://github.com/optuna/optuna/releases/tag/v3.0.0. Use suggest_float(..., log=True) instead.\n",
      "  config_data['training']['learning_rate'] = trial.suggest_loguniform('learning_rate', 1e-5, 1e-4)\n"
     ]
    },
    {
     "name": "stdout",
     "output_type": "stream",
     "text": [
      "Running on: cuda:0\n",
      "---------- Load tokenizer & model ----------\n",
      "---------- Model Name : knkarthick/MEETING-SUMMARY-BART-LARGE-XSUM-SAMSUM-DIALOGSUM ----------\n",
      "BartConfig {\n",
      "  \"_name_or_path\": \"knkarthick/MEETING-SUMMARY-BART-LARGE-XSUM-SAMSUM-DIALOGSUM\",\n",
      "  \"_num_labels\": 3,\n",
      "  \"activation_dropout\": 0.0,\n",
      "  \"activation_function\": \"gelu\",\n",
      "  \"add_bias_logits\": false,\n",
      "  \"add_final_layer_norm\": false,\n",
      "  \"architectures\": [\n",
      "    \"BartForConditionalGeneration\"\n",
      "  ],\n",
      "  \"attention_dropout\": 0.0,\n",
      "  \"bos_token_id\": 0,\n",
      "  \"classif_dropout\": 0.0,\n",
      "  \"classifier_dropout\": 0.0,\n",
      "  \"d_model\": 1024,\n",
      "  \"decoder_attention_heads\": 16,\n",
      "  \"decoder_ffn_dim\": 4096,\n",
      "  \"decoder_layerdrop\": 0.0,\n",
      "  \"decoder_layers\": 12,\n",
      "  \"decoder_start_token_id\": 2,\n",
      "  \"dropout\": 0.1,\n",
      "  \"early_stopping\": true,\n",
      "  \"encoder_attention_heads\": 16,\n",
      "  \"encoder_ffn_dim\": 4096,\n",
      "  \"encoder_layerdrop\": 0.0,\n",
      "  \"encoder_layers\": 12,\n",
      "  \"eos_token_id\": 2,\n",
      "  \"eos_token_ids\": [\n",
      "    2\n",
      "  ],\n",
      "  \"forced_eos_token_id\": 2,\n",
      "  \"gradient_checkpointing\": false,\n",
      "  \"id2label\": {\n",
      "    \"0\": \"LABEL_0\",\n",
      "    \"1\": \"LABEL_1\",\n",
      "    \"2\": \"LABEL_2\"\n",
      "  },\n",
      "  \"init_std\": 0.02,\n",
      "  \"is_encoder_decoder\": true,\n",
      "  \"label2id\": {\n",
      "    \"LABEL_0\": 0,\n",
      "    \"LABEL_1\": 1,\n",
      "    \"LABEL_2\": 2\n",
      "  },\n",
      "  \"max_length\": 62,\n",
      "  \"max_position_embeddings\": 1024,\n",
      "  \"min_length\": 11,\n",
      "  \"model_type\": \"bart\",\n",
      "  \"no_repeat_ngram_size\": 3,\n",
      "  \"normalize_before\": false,\n",
      "  \"normalize_embedding\": true,\n",
      "  \"num_beams\": 6,\n",
      "  \"num_hidden_layers\": 12,\n",
      "  \"output_past\": true,\n",
      "  \"pad_token_id\": 1,\n",
      "  \"prefix\": \" \",\n",
      "  \"replacing_rate\": 0,\n",
      "  \"scale_embedding\": false,\n",
      "  \"static_position_embeddings\": false,\n",
      "  \"student_decoder_layers\": null,\n",
      "  \"student_encoder_layers\": null,\n",
      "  \"task_specific_params\": {},\n",
      "  \"torch_dtype\": \"float32\",\n",
      "  \"transformers_version\": \"4.35.2\",\n",
      "  \"use_cache\": true,\n",
      "  \"vocab_size\": 50271\n",
      "}\n",
      "\n",
      "---------- Load tokenizer & model complete ----------\n",
      "Model and Tokenizer Loaded.\n",
      "------------------------------------------------------------------------------------------------------------------------------------------------------\n",
      "train_data:\n",
      " #Person1#: Hello, Mr. Smith. I'm Dr. Hawkins. Why are you here today?\n",
      "#Person2#: I thought it would be a good idea to have a checkup.\n",
      "#Person1#: That's right, you haven't had one in five years. You should have one every year.\n",
      "#Person2#: I know. But if nothing is wrong, why should I go to see a doctor?\n",
      "#Person1#: The best way to avoid serious illness is to catch these early. So for your own good, come at least once a year.\n",
      "#Person2#: I see.\n",
      "#Person1#: Look here. Your eyes and ears seem to be fine. Take a deep breath. Do you smoke, Mr. Smith?\n",
      "#Person2#: Yes.\n",
      "#Person1#: As you know, smoking is the main cause of lung cancer and heart disease. You really should quit.\n",
      "#Person2#: I've tried hundreds of times, but I find it hard to break the habit.\n",
      "#Person1#: We have classes and medicines that can help. I'll give you more information before you leave.\n",
      "#Person2#: OK, thank you, doctor.\n",
      "train_label:\n",
      " Mr. Smith is having a physical exam, and Dr. Hawkins recommends that he have a physical exam every year. Dr. Hawkins will give Mr. Smith information about classes and medications that can help him quit smoking.\n",
      "------------------------------------------------------------------------------------------------------------------------------------------------------\n",
      "val_data:\n",
      " #Person1#: Hello, how are you today?\n",
      "#Person2#: I'm having a little trouble breathing lately.\n",
      "#Person1#: Have you been sick with anything lately, like a cold?\n",
      "#Person2#: No, it's not a cold. It just feels like my chest is heavy every time I breathe.\n",
      "#Person1#: Do you have any known allergies?\n",
      "#Person2#: No, I don't have any known allergies.\n",
      "#Person1#: Does this happen all the time, or is it mostly when you are active?\n",
      "#Person2#: It happens a lot when I exercise.\n",
      "#Person1#: I'm going to send you to a pulmonologist to get checked for asthma.\n",
      "#Person2#: Thank you for helping me, doctor.\n",
      "val_label:\n",
      " #Person2# has difficulty breathing. The doctor asks #Person1# about this, and will send #Person2# to a lung specialist.\n",
      "---------- Load data complete ----------\n",
      "---------- Make dataset complete ----------\n",
      "---------- Make training arguments ----------\n"
     ]
    },
    {
     "data": {
      "text/html": [
       "Changes to your `wandb` environment variables will be ignored because your `wandb` session has already started. For more information on how to modify your settings with `wandb.init()` arguments, please refer to <a href='https://wandb.me/wandb-init' target=\"_blank\">the W&B docs</a>."
      ],
      "text/plain": [
       "<IPython.core.display.HTML object>"
      ]
     },
     "metadata": {},
     "output_type": "display_data"
    },
    {
     "data": {
      "text/html": [
       "Finishing last run (ID:znjgr0uv) before initializing another..."
      ],
      "text/plain": [
       "<IPython.core.display.HTML object>"
      ]
     },
     "metadata": {},
     "output_type": "display_data"
    },
    {
     "data": {
      "application/vnd.jupyter.widget-view+json": {
       "model_id": "db5f84ef75514e258a26779e2799ea09",
       "version_major": 2,
       "version_minor": 0
      },
      "text/plain": [
       "VBox(children=(Label(value='1550.164 MB of 1550.164 MB uploaded\\r'), FloatProgress(value=1.0, max=1.0)))"
      ]
     },
     "metadata": {},
     "output_type": "display_data"
    },
    {
     "name": "stderr",
     "output_type": "stream",
     "text": [
      "wandb: WARNING Source type is set to 'repo' but some required information is missing from the environment. A job will not be created from this run. See https://docs.wandb.ai/guides/launch/create-job\n"
     ]
    },
    {
     "data": {
      "text/html": [
       "<style>\n",
       "    table.wandb td:nth-child(1) { padding: 0 10px; text-align: left ; width: auto;} td:nth-child(2) {text-align: left ; width: 100%}\n",
       "    .wandb-row { display: flex; flex-direction: row; flex-wrap: wrap; justify-content: flex-start; width: 100% }\n",
       "    .wandb-col { display: flex; flex-direction: column; flex-basis: 100%; flex: 1; padding: 10px; }\n",
       "    </style>\n",
       "<div class=\"wandb-row\"><div class=\"wandb-col\"><h3>Run history:</h3><br/><table class=\"wandb\"><tr><td>eval/loss</td><td>▁▃▅█▁</td></tr><tr><td>eval/rouge-1</td><td>▁██▁▁</td></tr><tr><td>eval/rouge-2</td><td>▄█▆▁▄</td></tr><tr><td>eval/rouge-l</td><td>▅█▆▁▅</td></tr><tr><td>eval/runtime</td><td>█▆▁██</td></tr><tr><td>eval/samples_per_second</td><td>▁▃█▁▁</td></tr><tr><td>eval/steps_per_second</td><td>▁▃█▁▁</td></tr><tr><td>train/epoch</td><td>▁▁▃▃▆▆████</td></tr><tr><td>train/global_step</td><td>▁▁▃▃▆▆████</td></tr><tr><td>train/learning_rate</td><td>▁▅█▇</td></tr><tr><td>train/loss</td><td>█▁▁▁</td></tr><tr><td>train/total_flos</td><td>▁</td></tr><tr><td>train/train_loss</td><td>▁</td></tr><tr><td>train/train_runtime</td><td>▁</td></tr><tr><td>train/train_samples_per_second</td><td>▁</td></tr><tr><td>train/train_steps_per_second</td><td>▁</td></tr></table><br/></div><div class=\"wandb-col\"><h3>Run summary:</h3><br/><table class=\"wandb\"><tr><td>eval/loss</td><td>0.4842</td></tr><tr><td>eval/rouge-1</td><td>0.48507</td></tr><tr><td>eval/rouge-2</td><td>0.19548</td></tr><tr><td>eval/rouge-l</td><td>0.45321</td></tr><tr><td>eval/runtime</td><td>85.2454</td></tr><tr><td>eval/samples_per_second</td><td>5.854</td></tr><tr><td>eval/steps_per_second</td><td>0.739</td></tr><tr><td>train/epoch</td><td>4.0</td></tr><tr><td>train/global_step</td><td>4153</td></tr><tr><td>train/learning_rate</td><td>2e-05</td></tr><tr><td>train/loss</td><td>0.2489</td></tr><tr><td>train/total_flos</td><td>5.399124405701837e+16</td></tr><tr><td>train/train_loss</td><td>0.72945</td></tr><tr><td>train/train_runtime</td><td>1986.0155</td></tr><tr><td>train/train_samples_per_second</td><td>119.175</td></tr><tr><td>train/train_steps_per_second</td><td>9.93</td></tr></table><br/></div></div>"
      ],
      "text/plain": [
       "<IPython.core.display.HTML object>"
      ]
     },
     "metadata": {},
     "output_type": "display_data"
    },
    {
     "data": {
      "text/html": [
       " View run <strong style=\"color:#cdcd00\">BART-LARGE-XSUM-SAMSUM-DIALOGSUM</strong> at: <a href='https://wandb.ai/legendki/NLP-Summarization/runs/znjgr0uv' target=\"_blank\">https://wandb.ai/legendki/NLP-Summarization/runs/znjgr0uv</a><br/>Synced 6 W&B file(s), 0 media file(s), 4 artifact file(s) and 0 other file(s)"
      ],
      "text/plain": [
       "<IPython.core.display.HTML object>"
      ]
     },
     "metadata": {},
     "output_type": "display_data"
    },
    {
     "data": {
      "text/html": [
       "Find logs at: <code>./wandb/run-20240906_064211-znjgr0uv/logs</code>"
      ],
      "text/plain": [
       "<IPython.core.display.HTML object>"
      ]
     },
     "metadata": {},
     "output_type": "display_data"
    },
    {
     "data": {
      "text/html": [
       "Successfully finished last run (ID:znjgr0uv). Initializing new run:<br/>"
      ],
      "text/plain": [
       "<IPython.core.display.HTML object>"
      ]
     },
     "metadata": {},
     "output_type": "display_data"
    },
    {
     "data": {
      "application/vnd.jupyter.widget-view+json": {
       "model_id": "656a6d5aae9143e28a8c3f37c68588c9",
       "version_major": 2,
       "version_minor": 0
      },
      "text/plain": [
       "VBox(children=(Label(value='Waiting for wandb.init()...\\r'), FloatProgress(value=0.011112357593244977, max=1.0…"
      ]
     },
     "metadata": {},
     "output_type": "display_data"
    },
    {
     "data": {
      "text/html": [
       "wandb version 0.17.9 is available!  To upgrade, please run:\n",
       " $ pip install wandb --upgrade"
      ],
      "text/plain": [
       "<IPython.core.display.HTML object>"
      ]
     },
     "metadata": {},
     "output_type": "display_data"
    },
    {
     "data": {
      "text/html": [
       "Tracking run with wandb version 0.16.1"
      ],
      "text/plain": [
       "<IPython.core.display.HTML object>"
      ]
     },
     "metadata": {},
     "output_type": "display_data"
    },
    {
     "data": {
      "text/html": [
       "Run data is saved locally in <code>/home/upstage-nlp-summarization-nlp7/code/wandb/run-20240906_071806-f6tyv0hc</code>"
      ],
      "text/plain": [
       "<IPython.core.display.HTML object>"
      ]
     },
     "metadata": {},
     "output_type": "display_data"
    },
    {
     "data": {
      "text/html": [
       "Syncing run <strong><a href='https://wandb.ai/legendki/NLP-Summarization/runs/f6tyv0hc' target=\"_blank\">BART-LARGE-XSUM-SAMSUM-DIALOGSUM</a></strong> to <a href='https://wandb.ai/legendki/NLP-Summarization' target=\"_blank\">Weights & Biases</a> (<a href='https://wandb.me/run' target=\"_blank\">docs</a>)<br/>"
      ],
      "text/plain": [
       "<IPython.core.display.HTML object>"
      ]
     },
     "metadata": {},
     "output_type": "display_data"
    },
    {
     "data": {
      "text/html": [
       " View project at <a href='https://wandb.ai/legendki/NLP-Summarization' target=\"_blank\">https://wandb.ai/legendki/NLP-Summarization</a>"
      ],
      "text/plain": [
       "<IPython.core.display.HTML object>"
      ]
     },
     "metadata": {},
     "output_type": "display_data"
    },
    {
     "data": {
      "text/html": [
       " View run at <a href='https://wandb.ai/legendki/NLP-Summarization/runs/f6tyv0hc' target=\"_blank\">https://wandb.ai/legendki/NLP-Summarization/runs/f6tyv0hc</a>"
      ],
      "text/plain": [
       "<IPython.core.display.HTML object>"
      ]
     },
     "metadata": {},
     "output_type": "display_data"
    },
    {
     "name": "stderr",
     "output_type": "stream",
     "text": [
      "Detected kernel version 5.4.0, which is below the recommended minimum of 5.5.0; this can cause the process to hang. It is recommended to upgrade the kernel to the minimum version or higher.\n"
     ]
    },
    {
     "name": "stdout",
     "output_type": "stream",
     "text": [
      "---------- Make training arguments complete ----------\n",
      "---------- Make trainer ----------\n",
      "---------- Make trainer complete ----------\n"
     ]
    },
    {
     "data": {
      "text/html": [
       "\n",
       "    <div>\n",
       "      \n",
       "      <progress value='3895' max='10906' style='width:300px; height:20px; vertical-align: middle;'></progress>\n",
       "      [ 3895/10906 39:09 < 1:10:32, 1.66 it/s, Epoch 5/14]\n",
       "    </div>\n",
       "    <table border=\"1\" class=\"dataframe\">\n",
       "  <thead>\n",
       " <tr style=\"text-align: left;\">\n",
       "      <th>Epoch</th>\n",
       "      <th>Training Loss</th>\n",
       "      <th>Validation Loss</th>\n",
       "      <th>Rouge-1</th>\n",
       "      <th>Rouge-2</th>\n",
       "      <th>Rouge-l</th>\n",
       "    </tr>\n",
       "  </thead>\n",
       "  <tbody>\n",
       "    <tr>\n",
       "      <td>1</td>\n",
       "      <td>2.100500</td>\n",
       "      <td>0.547666</td>\n",
       "      <td>0.489679</td>\n",
       "      <td>0.200944</td>\n",
       "      <td>0.454819</td>\n",
       "    </tr>\n",
       "    <tr>\n",
       "      <td>2</td>\n",
       "      <td>0.374000</td>\n",
       "      <td>0.540174</td>\n",
       "      <td>0.481555</td>\n",
       "      <td>0.194338</td>\n",
       "      <td>0.444506</td>\n",
       "    </tr>\n",
       "    <tr>\n",
       "      <td>3</td>\n",
       "      <td>0.324000</td>\n",
       "      <td>0.595653</td>\n",
       "      <td>0.474285</td>\n",
       "      <td>0.184776</td>\n",
       "      <td>0.436766</td>\n",
       "    </tr>\n",
       "    <tr>\n",
       "      <td>4</td>\n",
       "      <td>0.273100</td>\n",
       "      <td>0.592952</td>\n",
       "      <td>0.488478</td>\n",
       "      <td>0.197618</td>\n",
       "      <td>0.453346</td>\n",
       "    </tr>\n",
       "    <tr>\n",
       "      <td>5</td>\n",
       "      <td>0.216700</td>\n",
       "      <td>0.606459</td>\n",
       "      <td>0.475266</td>\n",
       "      <td>0.182846</td>\n",
       "      <td>0.434732</td>\n",
       "    </tr>\n",
       "  </tbody>\n",
       "</table><p>"
      ],
      "text/plain": [
       "<IPython.core.display.HTML object>"
      ]
     },
     "metadata": {},
     "output_type": "display_data"
    },
    {
     "name": "stdout",
     "output_type": "stream",
     "text": [
      "------------------------------------------------------------------------------------------------------------------------------------------------------\n",
      "PRED:     #Person2# is having trouble breathing lately. #Person1# will send #Person2# to a pulmonologist to check for asthma.                                                                         \n",
      "GOLD:  #Person2# has difficulty breathing. The doctor asks #Person1# about this, and will send #Person2# to a lung specialist.                                                            \n",
      "------------------------------------------------------------------------------------------------------------------------------------------------------\n",
      "PRED:     #Person1# suggests to Jimmy that they go to the gym to work out later. They will meet at the gym at 3:30 p.m. and work on arms and abs.                                                            \n",
      "GOLD:  #Person1# suggests to Jimmy that they go to the gym and convinces him to work out his arms and stomach.                                                             \n",
      "------------------------------------------------------------------------------------------------------------------------------------------------------\n",
      "PRED:     #Person1# wants to stop eating unhealthy food. #Person2# tells #Person1# that they eat fruit, vegetables, and chicken.                                                                         \n",
      "GOLD:  #Person1# is planning to stop eating unhealthy food, and #Person2# shares his healthy recipes with #Person1#.                                                               \n",
      "------------------------------------------------------------------------------------------------------------------------------------------------------\n",
      "PRED:     #Person2# has been having trouble breathing lately. #Person1# is going to send #Person2# to the pulmonologist to get checked for asthma.                                                                     \n",
      "GOLD:  #Person2# has difficulty breathing. The doctor asks #Person1# about this, and will send #Person2# to a lung specialist.                                                            \n",
      "------------------------------------------------------------------------------------------------------------------------------------------------------\n",
      "PRED:    #Person1# and Jimmy are going to meet at the gym at 3:30 to work out. #Person1# wants to work on arms and abs, but Jimmy is following a weekly schedule, so they will work on legs on Friday.                                                    \n",
      "GOLD:  #Person1# suggests to Jimmy that they go to the gym and convinces him to work out his arms and stomach.                                                             \n",
      "------------------------------------------------------------------------------------------------------------------------------------------------------\n",
      "PRED:     #Person1# wants to stop eating unhealthy food. #Person2# tells #Person1# that #Person2# eats fruit, vegetables, and chicken these days.                                                                      \n",
      "GOLD:  #Person1# is planning to stop eating unhealthy food, and #Person2# shares his healthy recipes with #Person1#.                                                               \n",
      "------------------------------------------------------------------------------------------------------------------------------------------------------\n",
      "PRED:     #Person2# tells #Person1# that he has been having trouble breathing lately. #Person1# will send #Person2# to the pulmonologist to check for asthma.                                                                   \n",
      "GOLD:  #Person2# has difficulty breathing. The doctor asks #Person1# about this, and will send #Person2# to a lung specialist.                                                            \n",
      "------------------------------------------------------------------------------------------------------------------------------------------------------\n",
      "PRED:     #Person1# asks Jimmy to go for a workout with him. #Person1# wants to work on arms and abs, but Jimmy is following a weekly schedule, so they switch to legs on Friday.                                                           \n",
      "GOLD:  #Person1# suggests to Jimmy that they go to the gym and convinces him to work out his arms and stomach.                                                             \n",
      "------------------------------------------------------------------------------------------------------------------------------------------------------\n",
      "PRED:     #Person1# wants to stop eating unhealthy food. #Person2# tells #Person1# that he has started eating healthier food.                                                                           \n",
      "GOLD:  #Person1# is planning to stop eating unhealthy food, and #Person2# shares his healthy recipes with #Person1#.                                                               \n",
      "------------------------------------------------------------------------------------------------------------------------------------------------------\n",
      "PRED:     #Person2# has been having trouble breathing lately. #Person1# will send #Person2# to a pulmonologist to get checked for asthma.                                                                       \n",
      "GOLD:  #Person2# has difficulty breathing. The doctor asks #Person1# about this, and will send #Person2# to a lung specialist.                                                            \n",
      "------------------------------------------------------------------------------------------------------------------------------------------------------\n",
      "PRED:     #Person1# suggests to Jimmy to work out with arms and abs, but Jimmy is following a weekly schedule, so #Person1# changes it to two days later.                                                                  \n",
      "GOLD:  #Person1# suggests to Jimmy that they go to the gym and convinces him to work out his arms and stomach.                                                             \n",
      "------------------------------------------------------------------------------------------------------------------------------------------------------\n",
      "PRED:     #Person1# wants to stop eating unhealthy food. #Person2# tells #Person1# that #Person2# eats mostly fruit, vegetables, and chicken.                                                                       \n",
      "GOLD:  #Person1# is planning to stop eating unhealthy food, and #Person2# shares his healthy recipes with #Person1#.                                                               \n",
      "------------------------------------------------------------------------------------------------------------------------------------------------------\n",
      "PRED:     #Person2# has been having trouble breathing lately. #Person1# will send #Person2# to a pulmonologist to get checked for asthma.                                                             \n",
      "GOLD:  #Person2# has difficulty breathing. The doctor asks #Person1# about this, and will send #Person2# to a lung specialist.                                                            \n",
      "------------------------------------------------------------------------------------------------------------------------------------------------------\n",
      "PRED:    #Person1# suggests to Jimmy that they work out later because their legs are sore. Jimmy agrees and they decide to work out on Friday.                                                             \n",
      "GOLD:  #Person1# suggests to Jimmy that they go to the gym and convinces him to work out his arms and stomach.                                                             \n",
      "------------------------------------------------------------------------------------------------------------------------------------------------------\n",
      "PRED:     #Person2# tells #Person1# that they have started eating healthier food. #Person2# eats mostly fruits, vegetables, and chicken.                                                               \n",
      "GOLD:  #Person1# is planning to stop eating unhealthy food, and #Person2# shares his healthy recipes with #Person1#.                                                               \n"
     ]
    },
    {
     "name": "stderr",
     "output_type": "stream",
     "text": [
      "There were missing keys in the checkpoint model loaded: ['model.encoder.embed_tokens.weight', 'model.decoder.embed_tokens.weight', 'lm_head.weight'].\n",
      "Detected kernel version 5.4.0, which is below the recommended minimum of 5.5.0; this can cause the process to hang. It is recommended to upgrade the kernel to the minimum version or higher.\n"
     ]
    },
    {
     "data": {
      "text/html": [
       "\n",
       "    <div>\n",
       "      \n",
       "      <progress value='63' max='63' style='width:300px; height:20px; vertical-align: middle;'></progress>\n",
       "      [63/63 01:27]\n",
       "    </div>\n",
       "    "
      ],
      "text/plain": [
       "<IPython.core.display.HTML object>"
      ]
     },
     "metadata": {},
     "output_type": "display_data"
    },
    {
     "name": "stdout",
     "output_type": "stream",
     "text": [
      "------------------------------------------------------------------------------------------------------------------------------------------------------\n",
      "PRED:     #Person2# has been having trouble breathing lately. #Person1# is going to send #Person2# to the pulmonologist to get checked for asthma.                                                                     \n",
      "GOLD:  #Person2# has difficulty breathing. The doctor asks #Person1# about this, and will send #Person2# to a lung specialist.                                                            \n",
      "------------------------------------------------------------------------------------------------------------------------------------------------------\n",
      "PRED:    #Person1# and Jimmy are going to meet at the gym at 3:30 to work out. #Person1# wants to work on arms and abs, but Jimmy is following a weekly schedule, so they will work on legs on Friday.                                                    \n",
      "GOLD:  #Person1# suggests to Jimmy that they go to the gym and convinces him to work out his arms and stomach.                                                             \n",
      "------------------------------------------------------------------------------------------------------------------------------------------------------\n",
      "PRED:     #Person1# wants to stop eating unhealthy food. #Person2# tells #Person1# that #Person2# eats fruit, vegetables, and chicken these days.                                                                      \n",
      "GOLD:  #Person1# is planning to stop eating unhealthy food, and #Person2# shares his healthy recipes with #Person1#.                                                               \n"
     ]
    },
    {
     "name": "stderr",
     "output_type": "stream",
     "text": [
      "[I 2024-09-06 08:00:06,393] Trial 4 finished with value: 0.0 and parameters: {'learning_rate': 3.6019589552277936e-05, 'per_device_train_batch_size': 8, 'num_train_epochs': 14, 'warmup_ratio': 0.26517440475777193, 'optim': 'adafactor', 'gradient_accumulation_steps': 2, 'lr_scheduler_type': 'cosine', 'fp16': True}. Best is trial 0 with value: 0.0.\n",
      "/tmp/ipykernel_58261/1742311384.py:4: FutureWarning: suggest_loguniform has been deprecated in v3.0.0. This feature will be removed in v6.0.0. See https://github.com/optuna/optuna/releases/tag/v3.0.0. Use suggest_float(..., log=True) instead.\n",
      "  config_data['training']['learning_rate'] = trial.suggest_loguniform('learning_rate', 1e-5, 1e-4)\n"
     ]
    },
    {
     "name": "stdout",
     "output_type": "stream",
     "text": [
      "Running on: cuda:0\n",
      "---------- Load tokenizer & model ----------\n",
      "---------- Model Name : knkarthick/MEETING-SUMMARY-BART-LARGE-XSUM-SAMSUM-DIALOGSUM ----------\n",
      "BartConfig {\n",
      "  \"_name_or_path\": \"knkarthick/MEETING-SUMMARY-BART-LARGE-XSUM-SAMSUM-DIALOGSUM\",\n",
      "  \"_num_labels\": 3,\n",
      "  \"activation_dropout\": 0.0,\n",
      "  \"activation_function\": \"gelu\",\n",
      "  \"add_bias_logits\": false,\n",
      "  \"add_final_layer_norm\": false,\n",
      "  \"architectures\": [\n",
      "    \"BartForConditionalGeneration\"\n",
      "  ],\n",
      "  \"attention_dropout\": 0.0,\n",
      "  \"bos_token_id\": 0,\n",
      "  \"classif_dropout\": 0.0,\n",
      "  \"classifier_dropout\": 0.0,\n",
      "  \"d_model\": 1024,\n",
      "  \"decoder_attention_heads\": 16,\n",
      "  \"decoder_ffn_dim\": 4096,\n",
      "  \"decoder_layerdrop\": 0.0,\n",
      "  \"decoder_layers\": 12,\n",
      "  \"decoder_start_token_id\": 2,\n",
      "  \"dropout\": 0.1,\n",
      "  \"early_stopping\": true,\n",
      "  \"encoder_attention_heads\": 16,\n",
      "  \"encoder_ffn_dim\": 4096,\n",
      "  \"encoder_layerdrop\": 0.0,\n",
      "  \"encoder_layers\": 12,\n",
      "  \"eos_token_id\": 2,\n",
      "  \"eos_token_ids\": [\n",
      "    2\n",
      "  ],\n",
      "  \"forced_eos_token_id\": 2,\n",
      "  \"gradient_checkpointing\": false,\n",
      "  \"id2label\": {\n",
      "    \"0\": \"LABEL_0\",\n",
      "    \"1\": \"LABEL_1\",\n",
      "    \"2\": \"LABEL_2\"\n",
      "  },\n",
      "  \"init_std\": 0.02,\n",
      "  \"is_encoder_decoder\": true,\n",
      "  \"label2id\": {\n",
      "    \"LABEL_0\": 0,\n",
      "    \"LABEL_1\": 1,\n",
      "    \"LABEL_2\": 2\n",
      "  },\n",
      "  \"max_length\": 62,\n",
      "  \"max_position_embeddings\": 1024,\n",
      "  \"min_length\": 11,\n",
      "  \"model_type\": \"bart\",\n",
      "  \"no_repeat_ngram_size\": 3,\n",
      "  \"normalize_before\": false,\n",
      "  \"normalize_embedding\": true,\n",
      "  \"num_beams\": 6,\n",
      "  \"num_hidden_layers\": 12,\n",
      "  \"output_past\": true,\n",
      "  \"pad_token_id\": 1,\n",
      "  \"prefix\": \" \",\n",
      "  \"replacing_rate\": 0,\n",
      "  \"scale_embedding\": false,\n",
      "  \"static_position_embeddings\": false,\n",
      "  \"student_decoder_layers\": null,\n",
      "  \"student_encoder_layers\": null,\n",
      "  \"task_specific_params\": {},\n",
      "  \"torch_dtype\": \"float32\",\n",
      "  \"transformers_version\": \"4.35.2\",\n",
      "  \"use_cache\": true,\n",
      "  \"vocab_size\": 50271\n",
      "}\n",
      "\n",
      "---------- Load tokenizer & model complete ----------\n",
      "Model and Tokenizer Loaded.\n",
      "------------------------------------------------------------------------------------------------------------------------------------------------------\n",
      "train_data:\n",
      " #Person1#: Hello, Mr. Smith. I'm Dr. Hawkins. Why are you here today?\n",
      "#Person2#: I thought it would be a good idea to have a checkup.\n",
      "#Person1#: That's right, you haven't had one in five years. You should have one every year.\n",
      "#Person2#: I know. But if nothing is wrong, why should I go to see a doctor?\n",
      "#Person1#: The best way to avoid serious illness is to catch these early. So for your own good, come at least once a year.\n",
      "#Person2#: I see.\n",
      "#Person1#: Look here. Your eyes and ears seem to be fine. Take a deep breath. Do you smoke, Mr. Smith?\n",
      "#Person2#: Yes.\n",
      "#Person1#: As you know, smoking is the main cause of lung cancer and heart disease. You really should quit.\n",
      "#Person2#: I've tried hundreds of times, but I find it hard to break the habit.\n",
      "#Person1#: We have classes and medicines that can help. I'll give you more information before you leave.\n",
      "#Person2#: OK, thank you, doctor.\n",
      "train_label:\n",
      " Mr. Smith is having a physical exam, and Dr. Hawkins recommends that he have a physical exam every year. Dr. Hawkins will give Mr. Smith information about classes and medications that can help him quit smoking.\n",
      "------------------------------------------------------------------------------------------------------------------------------------------------------\n",
      "val_data:\n",
      " #Person1#: Hello, how are you today?\n",
      "#Person2#: I'm having a little trouble breathing lately.\n",
      "#Person1#: Have you been sick with anything lately, like a cold?\n",
      "#Person2#: No, it's not a cold. It just feels like my chest is heavy every time I breathe.\n",
      "#Person1#: Do you have any known allergies?\n",
      "#Person2#: No, I don't have any known allergies.\n",
      "#Person1#: Does this happen all the time, or is it mostly when you are active?\n",
      "#Person2#: It happens a lot when I exercise.\n",
      "#Person1#: I'm going to send you to a pulmonologist to get checked for asthma.\n",
      "#Person2#: Thank you for helping me, doctor.\n",
      "val_label:\n",
      " #Person2# has difficulty breathing. The doctor asks #Person1# about this, and will send #Person2# to a lung specialist.\n",
      "---------- Load data complete ----------\n",
      "---------- Make dataset complete ----------\n",
      "---------- Make training arguments ----------\n"
     ]
    },
    {
     "data": {
      "text/html": [
       "Changes to your `wandb` environment variables will be ignored because your `wandb` session has already started. For more information on how to modify your settings with `wandb.init()` arguments, please refer to <a href='https://wandb.me/wandb-init' target=\"_blank\">the W&B docs</a>."
      ],
      "text/plain": [
       "<IPython.core.display.HTML object>"
      ]
     },
     "metadata": {},
     "output_type": "display_data"
    },
    {
     "data": {
      "text/html": [
       "Finishing last run (ID:f6tyv0hc) before initializing another..."
      ],
      "text/plain": [
       "<IPython.core.display.HTML object>"
      ]
     },
     "metadata": {},
     "output_type": "display_data"
    },
    {
     "data": {
      "application/vnd.jupyter.widget-view+json": {
       "model_id": "579a660916df4819a665006f4c8d2280",
       "version_major": 2,
       "version_minor": 0
      },
      "text/plain": [
       "VBox(children=(Label(value='1550.164 MB of 1550.164 MB uploaded\\r'), FloatProgress(value=1.0, max=1.0)))"
      ]
     },
     "metadata": {},
     "output_type": "display_data"
    },
    {
     "name": "stderr",
     "output_type": "stream",
     "text": [
      "wandb: WARNING Source type is set to 'repo' but some required information is missing from the environment. A job will not be created from this run. See https://docs.wandb.ai/guides/launch/create-job\n"
     ]
    },
    {
     "data": {
      "text/html": [
       "<style>\n",
       "    table.wandb td:nth-child(1) { padding: 0 10px; text-align: left ; width: auto;} td:nth-child(2) {text-align: left ; width: 100%}\n",
       "    .wandb-row { display: flex; flex-direction: row; flex-wrap: wrap; justify-content: flex-start; width: 100% }\n",
       "    .wandb-col { display: flex; flex-direction: column; flex-basis: 100%; flex: 1; padding: 10px; }\n",
       "    </style>\n",
       "<div class=\"wandb-row\"><div class=\"wandb-col\"><h3>Run history:</h3><br/><table class=\"wandb\"><tr><td>eval/loss</td><td>▂▁▇▇█▁</td></tr><tr><td>eval/rouge-1</td><td>█▄▁▇▁▄</td></tr><tr><td>eval/rouge-2</td><td>█▅▂▇▁▅</td></tr><tr><td>eval/rouge-l</td><td>█▄▂▇▁▄</td></tr><tr><td>eval/runtime</td><td>▇██▂▁█</td></tr><tr><td>eval/samples_per_second</td><td>▂▁▁▇█▁</td></tr><tr><td>eval/steps_per_second</td><td>▂▁▁▇█▁</td></tr><tr><td>train/epoch</td><td>▁▁▃▃▅▅▆▆████</td></tr><tr><td>train/global_step</td><td>▁▁▃▃▅▅▆▆████</td></tr><tr><td>train/learning_rate</td><td>▁▄▆██</td></tr><tr><td>train/loss</td><td>█▂▁▁▁</td></tr><tr><td>train/total_flos</td><td>▁</td></tr><tr><td>train/train_loss</td><td>▁</td></tr><tr><td>train/train_runtime</td><td>▁</td></tr><tr><td>train/train_samples_per_second</td><td>▁</td></tr><tr><td>train/train_steps_per_second</td><td>▁</td></tr></table><br/></div><div class=\"wandb-col\"><h3>Run summary:</h3><br/><table class=\"wandb\"><tr><td>eval/loss</td><td>0.54017</td></tr><tr><td>eval/rouge-1</td><td>0.48155</td></tr><tr><td>eval/rouge-2</td><td>0.19434</td></tr><tr><td>eval/rouge-l</td><td>0.44451</td></tr><tr><td>eval/runtime</td><td>88.5101</td></tr><tr><td>eval/samples_per_second</td><td>5.638</td></tr><tr><td>eval/steps_per_second</td><td>0.712</td></tr><tr><td>train/epoch</td><td>5.0</td></tr><tr><td>train/global_step</td><td>3895</td></tr><tr><td>train/learning_rate</td><td>3e-05</td></tr><tr><td>train/loss</td><td>0.2167</td></tr><tr><td>train/total_flos</td><td>6.748905507127296e+16</td></tr><tr><td>train/train_loss</td><td>0.65767</td></tr><tr><td>train/train_runtime</td><td>2339.6288</td></tr><tr><td>train/train_samples_per_second</td><td>74.541</td></tr><tr><td>train/train_steps_per_second</td><td>4.661</td></tr></table><br/></div></div>"
      ],
      "text/plain": [
       "<IPython.core.display.HTML object>"
      ]
     },
     "metadata": {},
     "output_type": "display_data"
    },
    {
     "data": {
      "text/html": [
       " View run <strong style=\"color:#cdcd00\">BART-LARGE-XSUM-SAMSUM-DIALOGSUM</strong> at: <a href='https://wandb.ai/legendki/NLP-Summarization/runs/f6tyv0hc' target=\"_blank\">https://wandb.ai/legendki/NLP-Summarization/runs/f6tyv0hc</a><br/>Synced 6 W&B file(s), 0 media file(s), 4 artifact file(s) and 0 other file(s)"
      ],
      "text/plain": [
       "<IPython.core.display.HTML object>"
      ]
     },
     "metadata": {},
     "output_type": "display_data"
    },
    {
     "data": {
      "text/html": [
       "Find logs at: <code>./wandb/run-20240906_071806-f6tyv0hc/logs</code>"
      ],
      "text/plain": [
       "<IPython.core.display.HTML object>"
      ]
     },
     "metadata": {},
     "output_type": "display_data"
    },
    {
     "data": {
      "text/html": [
       "Successfully finished last run (ID:f6tyv0hc). Initializing new run:<br/>"
      ],
      "text/plain": [
       "<IPython.core.display.HTML object>"
      ]
     },
     "metadata": {},
     "output_type": "display_data"
    },
    {
     "data": {
      "application/vnd.jupyter.widget-view+json": {
       "model_id": "bb32b2c6c89243ed89e9479c73e3a228",
       "version_major": 2,
       "version_minor": 0
      },
      "text/plain": [
       "VBox(children=(Label(value='Waiting for wandb.init()...\\r'), FloatProgress(value=0.011112295380896992, max=1.0…"
      ]
     },
     "metadata": {},
     "output_type": "display_data"
    },
    {
     "data": {
      "text/html": [
       "wandb version 0.17.9 is available!  To upgrade, please run:\n",
       " $ pip install wandb --upgrade"
      ],
      "text/plain": [
       "<IPython.core.display.HTML object>"
      ]
     },
     "metadata": {},
     "output_type": "display_data"
    },
    {
     "data": {
      "text/html": [
       "Tracking run with wandb version 0.16.1"
      ],
      "text/plain": [
       "<IPython.core.display.HTML object>"
      ]
     },
     "metadata": {},
     "output_type": "display_data"
    },
    {
     "data": {
      "text/html": [
       "Run data is saved locally in <code>/home/upstage-nlp-summarization-nlp7/code/wandb/run-20240906_080015-a4jbyuj3</code>"
      ],
      "text/plain": [
       "<IPython.core.display.HTML object>"
      ]
     },
     "metadata": {},
     "output_type": "display_data"
    },
    {
     "data": {
      "text/html": [
       "Syncing run <strong><a href='https://wandb.ai/legendki/NLP-Summarization/runs/a4jbyuj3' target=\"_blank\">BART-LARGE-XSUM-SAMSUM-DIALOGSUM</a></strong> to <a href='https://wandb.ai/legendki/NLP-Summarization' target=\"_blank\">Weights & Biases</a> (<a href='https://wandb.me/run' target=\"_blank\">docs</a>)<br/>"
      ],
      "text/plain": [
       "<IPython.core.display.HTML object>"
      ]
     },
     "metadata": {},
     "output_type": "display_data"
    },
    {
     "data": {
      "text/html": [
       " View project at <a href='https://wandb.ai/legendki/NLP-Summarization' target=\"_blank\">https://wandb.ai/legendki/NLP-Summarization</a>"
      ],
      "text/plain": [
       "<IPython.core.display.HTML object>"
      ]
     },
     "metadata": {},
     "output_type": "display_data"
    },
    {
     "data": {
      "text/html": [
       " View run at <a href='https://wandb.ai/legendki/NLP-Summarization/runs/a4jbyuj3' target=\"_blank\">https://wandb.ai/legendki/NLP-Summarization/runs/a4jbyuj3</a>"
      ],
      "text/plain": [
       "<IPython.core.display.HTML object>"
      ]
     },
     "metadata": {},
     "output_type": "display_data"
    },
    {
     "name": "stderr",
     "output_type": "stream",
     "text": [
      "Detected kernel version 5.4.0, which is below the recommended minimum of 5.5.0; this can cause the process to hang. It is recommended to upgrade the kernel to the minimum version or higher.\n"
     ]
    },
    {
     "name": "stdout",
     "output_type": "stream",
     "text": [
      "---------- Make training arguments complete ----------\n",
      "---------- Make trainer ----------\n",
      "---------- Make trainer complete ----------\n"
     ]
    },
    {
     "name": "stderr",
     "output_type": "stream",
     "text": [
      "/opt/conda/lib/python3.10/site-packages/transformers/optimization.py:411: FutureWarning: This implementation of AdamW is deprecated and will be removed in a future version. Use the PyTorch implementation torch.optim.AdamW instead, or set `no_deprecation_warning=True` to disable this warning\n",
      "  warnings.warn(\n"
     ]
    },
    {
     "data": {
      "text/html": [
       "\n",
       "    <div>\n",
       "      \n",
       "      <progress value='1947' max='7780' style='width:300px; height:20px; vertical-align: middle;'></progress>\n",
       "      [1947/7780 32:33 < 1:37:39, 1.00 it/s, Epoch 4/20]\n",
       "    </div>\n",
       "    <table border=\"1\" class=\"dataframe\">\n",
       "  <thead>\n",
       " <tr style=\"text-align: left;\">\n",
       "      <th>Epoch</th>\n",
       "      <th>Training Loss</th>\n",
       "      <th>Validation Loss</th>\n",
       "      <th>Rouge-1</th>\n",
       "      <th>Rouge-2</th>\n",
       "      <th>Rouge-l</th>\n",
       "    </tr>\n",
       "  </thead>\n",
       "  <tbody>\n",
       "    <tr>\n",
       "      <td>0</td>\n",
       "      <td>3.700700</td>\n",
       "      <td>0.555305</td>\n",
       "      <td>0.475483</td>\n",
       "      <td>0.184123</td>\n",
       "      <td>0.443440</td>\n",
       "    </tr>\n",
       "    <tr>\n",
       "      <td>2</td>\n",
       "      <td>0.345100</td>\n",
       "      <td>0.502210</td>\n",
       "      <td>0.498427</td>\n",
       "      <td>0.211330</td>\n",
       "      <td>0.465208</td>\n",
       "    </tr>\n",
       "    <tr>\n",
       "      <td>4</td>\n",
       "      <td>0.254100</td>\n",
       "      <td>0.526462</td>\n",
       "      <td>0.493851</td>\n",
       "      <td>0.204097</td>\n",
       "      <td>0.458359</td>\n",
       "    </tr>\n",
       "  </tbody>\n",
       "</table><p>"
      ],
      "text/plain": [
       "<IPython.core.display.HTML object>"
      ]
     },
     "metadata": {},
     "output_type": "display_data"
    },
    {
     "name": "stdout",
     "output_type": "stream",
     "text": [
      "------------------------------------------------------------------------------------------------------------------------------------------------------\n",
      "PRED:     #Person1# is having trouble breathing lately. The doctor will send #Person2# to a pulmonologist to check for asthma.                                                                         \n",
      "GOLD:  #Person2# has difficulty breathing. The doctor asks #Person1# about this, and will send #Person2# to a lung specialist.                                                            \n",
      "------------------------------------------------------------------------------------------------------------------------------------------------------\n",
      "PRED:     #Person1# and Jimmy will meet at the gym at 3:30 to work out. They will do legs and arms and abs on Friday.                                                                     \n",
      "GOLD:  #Person1# suggests to Jimmy that they go to the gym and convinces him to work out his arms and stomach.                                                             \n",
      "------------------------------------------------------------------------------------------------------------------------------------------------------\n",
      "PRED:     #Person1# wants to stop eating unhealthy food. #Person2# tells #Person2# that he eats mainly fruit, vegetables, and chicken.                                                                        \n",
      "GOLD:  #Person1# is planning to stop eating unhealthy food, and #Person2# shares his healthy recipes with #Person1#.                                                               \n",
      "------------------------------------------------------------------------------------------------------------------------------------------------------\n",
      "PRED:   #Person2# has been having trouble breathing lately. #Person1# will send #Person2# to a pulmonologist to check for asthma.                                                                          \n",
      "GOLD:  #Person2# has difficulty breathing. The doctor asks #Person1# about this, and will send #Person2# to a lung specialist.                                                            \n",
      "------------------------------------------------------------------------------------------------------------------------------------------------------\n",
      "PRED:     #Person1# suggests to Jimmy that they work out later because #Person1#'s legs are sore. They will meet at the gym at 3:30 and work on arms and abs.                                                              \n",
      "GOLD:  #Person1# suggests to Jimmy that they go to the gym and convinces him to work out his arms and stomach.                                                             \n",
      "------------------------------------------------------------------------------------------------------------------------------------------------------\n",
      "PRED:     #Person1# needs to stop eating unhealthy food. #Person2# tells #Person1# that they have started eating healthier food.                                                                           \n",
      "GOLD:  #Person1# is planning to stop eating unhealthy food, and #Person2# shares his healthy recipes with #Person1#.                                                               \n",
      "------------------------------------------------------------------------------------------------------------------------------------------------------\n",
      "PRED:   #Person2# has been having trouble breathing lately. #Person1# will send #Person2# to a pulmonologist to check for asthma.                                                                          \n",
      "GOLD:  #Person2# has difficulty breathing. The doctor asks #Person1# about this, and will send #Person2# to a lung specialist.                                                            \n",
      "------------------------------------------------------------------------------------------------------------------------------------------------------\n",
      "PRED:     #Person1# and Jimmy are going to work out later. #Person1# wants to work on arms and abs today, but Jimmy is following a weekly schedule, so they will work on legs on Friday.                                                          \n",
      "GOLD:  #Person1# suggests to Jimmy that they go to the gym and convinces him to work out his arms and stomach.                                                             \n",
      "------------------------------------------------------------------------------------------------------------------------------------------------------\n",
      "PRED:     #Person1# wants to stop eating unhealthy food. #Person2# tells #Person1# that #Person2# has started eating healthier food.                                                                          \n",
      "GOLD:  #Person1# is planning to stop eating unhealthy food, and #Person2# shares his healthy recipes with #Person1#.                                                               \n",
      "------------------------------------------------------------------------------------------------------------------------------------------------------\n",
      "PRED:     #Person2# tells #Person1# that he has been having trouble breathing lately. #Person1# asks about #Person2#'s symptoms and decides to send #Person2# to a pulmonologist to check for asthma.                                                           \n",
      "GOLD:  #Person2# has difficulty breathing. The doctor asks #Person1# about this, and will send #Person2# to a lung specialist.                                                            \n",
      "------------------------------------------------------------------------------------------------------------------------------------------------------\n",
      "PRED:     #Person1# suggests to Jimmy that they work out later because #Person1#'s legs are sore, but Jimmy is following a weekly schedule, so they will do the legs on Friday.                                                              \n",
      "GOLD:  #Person1# suggests to Jimmy that they go to the gym and convinces him to work out his arms and stomach.                                                             \n",
      "------------------------------------------------------------------------------------------------------------------------------------------------------\n",
      "PRED:   #Person1# wants to stop eating unhealthy food. #Person2# tells #Person1# that they have started eating healthier food.                                                                             \n",
      "GOLD:  #Person1# is planning to stop eating unhealthy food, and #Person2# shares his healthy recipes with #Person1#.                                                               \n",
      "------------------------------------------------------------------------------------------------------------------------------------------------------\n",
      "PRED:  #Person2# has been having trouble breathing lately. #Person1# will send #Person2# to a pulmonologist to check for asthma.                                                                           \n",
      "GOLD:  #Person2# has difficulty breathing. The doctor asks #Person1# about this, and will send #Person2# to a lung specialist.                                                            \n",
      "------------------------------------------------------------------------------------------------------------------------------------------------------\n",
      "PRED:    #Person1# suggests to Jimmy that they work out later because #Person1#'s legs are sore, but Jimmy is following a weekly schedule, so they will do the legs on Friday.                                                               \n",
      "GOLD:  #Person1# suggests to Jimmy that they go to the gym and convinces him to work out his arms and stomach.                                                             \n",
      "------------------------------------------------------------------------------------------------------------------------------------------------------\n",
      "PRED:    #Person1# needs to stop eating unhealthy food. #Person2# tells #Person1# that they have started eating healthier food.                                                                            \n",
      "GOLD:  #Person1# is planning to stop eating unhealthy food, and #Person2# shares his healthy recipes with #Person1#.                                                               \n"
     ]
    },
    {
     "name": "stderr",
     "output_type": "stream",
     "text": [
      "There were missing keys in the checkpoint model loaded: ['model.encoder.embed_tokens.weight', 'model.decoder.embed_tokens.weight', 'lm_head.weight'].\n",
      "Detected kernel version 5.4.0, which is below the recommended minimum of 5.5.0; this can cause the process to hang. It is recommended to upgrade the kernel to the minimum version or higher.\n"
     ]
    },
    {
     "data": {
      "text/html": [
       "\n",
       "    <div>\n",
       "      \n",
       "      <progress value='63' max='63' style='width:300px; height:20px; vertical-align: middle;'></progress>\n",
       "      [63/63 01:25]\n",
       "    </div>\n",
       "    "
      ],
      "text/plain": [
       "<IPython.core.display.HTML object>"
      ]
     },
     "metadata": {},
     "output_type": "display_data"
    },
    {
     "name": "stdout",
     "output_type": "stream",
     "text": [
      "------------------------------------------------------------------------------------------------------------------------------------------------------\n",
      "PRED:   #Person2# has been having trouble breathing lately. #Person1# will send #Person2# to a pulmonologist to check for asthma.                                                                          \n",
      "GOLD:  #Person2# has difficulty breathing. The doctor asks #Person1# about this, and will send #Person2# to a lung specialist.                                                            \n",
      "------------------------------------------------------------------------------------------------------------------------------------------------------\n",
      "PRED:     #Person1# suggests to Jimmy that they work out later because #Person1#'s legs are sore. They will meet at the gym at 3:30 and work on arms and abs.                                                              \n",
      "GOLD:  #Person1# suggests to Jimmy that they go to the gym and convinces him to work out his arms and stomach.                                                             \n",
      "------------------------------------------------------------------------------------------------------------------------------------------------------\n",
      "PRED:     #Person1# needs to stop eating unhealthy food. #Person2# tells #Person1# that they have started eating healthier food.                                                                           \n",
      "GOLD:  #Person1# is planning to stop eating unhealthy food, and #Person2# shares his healthy recipes with #Person1#.                                                               \n"
     ]
    },
    {
     "name": "stderr",
     "output_type": "stream",
     "text": [
      "[I 2024-09-06 08:35:37,750] Trial 5 finished with value: 0.0 and parameters: {'learning_rate': 2.146545268854367e-05, 'per_device_train_batch_size': 16, 'num_train_epochs': 20, 'warmup_ratio': 0.20688910271024513, 'optim': 'adamw_hf', 'gradient_accumulation_steps': 2, 'lr_scheduler_type': 'linear', 'fp16': True}. Best is trial 0 with value: 0.0.\n",
      "/tmp/ipykernel_58261/1742311384.py:4: FutureWarning: suggest_loguniform has been deprecated in v3.0.0. This feature will be removed in v6.0.0. See https://github.com/optuna/optuna/releases/tag/v3.0.0. Use suggest_float(..., log=True) instead.\n",
      "  config_data['training']['learning_rate'] = trial.suggest_loguniform('learning_rate', 1e-5, 1e-4)\n"
     ]
    },
    {
     "name": "stdout",
     "output_type": "stream",
     "text": [
      "Running on: cuda:0\n",
      "---------- Load tokenizer & model ----------\n",
      "---------- Model Name : knkarthick/MEETING-SUMMARY-BART-LARGE-XSUM-SAMSUM-DIALOGSUM ----------\n",
      "BartConfig {\n",
      "  \"_name_or_path\": \"knkarthick/MEETING-SUMMARY-BART-LARGE-XSUM-SAMSUM-DIALOGSUM\",\n",
      "  \"_num_labels\": 3,\n",
      "  \"activation_dropout\": 0.0,\n",
      "  \"activation_function\": \"gelu\",\n",
      "  \"add_bias_logits\": false,\n",
      "  \"add_final_layer_norm\": false,\n",
      "  \"architectures\": [\n",
      "    \"BartForConditionalGeneration\"\n",
      "  ],\n",
      "  \"attention_dropout\": 0.0,\n",
      "  \"bos_token_id\": 0,\n",
      "  \"classif_dropout\": 0.0,\n",
      "  \"classifier_dropout\": 0.0,\n",
      "  \"d_model\": 1024,\n",
      "  \"decoder_attention_heads\": 16,\n",
      "  \"decoder_ffn_dim\": 4096,\n",
      "  \"decoder_layerdrop\": 0.0,\n",
      "  \"decoder_layers\": 12,\n",
      "  \"decoder_start_token_id\": 2,\n",
      "  \"dropout\": 0.1,\n",
      "  \"early_stopping\": true,\n",
      "  \"encoder_attention_heads\": 16,\n",
      "  \"encoder_ffn_dim\": 4096,\n",
      "  \"encoder_layerdrop\": 0.0,\n",
      "  \"encoder_layers\": 12,\n",
      "  \"eos_token_id\": 2,\n",
      "  \"eos_token_ids\": [\n",
      "    2\n",
      "  ],\n",
      "  \"forced_eos_token_id\": 2,\n",
      "  \"gradient_checkpointing\": false,\n",
      "  \"id2label\": {\n",
      "    \"0\": \"LABEL_0\",\n",
      "    \"1\": \"LABEL_1\",\n",
      "    \"2\": \"LABEL_2\"\n",
      "  },\n",
      "  \"init_std\": 0.02,\n",
      "  \"is_encoder_decoder\": true,\n",
      "  \"label2id\": {\n",
      "    \"LABEL_0\": 0,\n",
      "    \"LABEL_1\": 1,\n",
      "    \"LABEL_2\": 2\n",
      "  },\n",
      "  \"max_length\": 62,\n",
      "  \"max_position_embeddings\": 1024,\n",
      "  \"min_length\": 11,\n",
      "  \"model_type\": \"bart\",\n",
      "  \"no_repeat_ngram_size\": 3,\n",
      "  \"normalize_before\": false,\n",
      "  \"normalize_embedding\": true,\n",
      "  \"num_beams\": 6,\n",
      "  \"num_hidden_layers\": 12,\n",
      "  \"output_past\": true,\n",
      "  \"pad_token_id\": 1,\n",
      "  \"prefix\": \" \",\n",
      "  \"replacing_rate\": 0,\n",
      "  \"scale_embedding\": false,\n",
      "  \"static_position_embeddings\": false,\n",
      "  \"student_decoder_layers\": null,\n",
      "  \"student_encoder_layers\": null,\n",
      "  \"task_specific_params\": {},\n",
      "  \"torch_dtype\": \"float32\",\n",
      "  \"transformers_version\": \"4.35.2\",\n",
      "  \"use_cache\": true,\n",
      "  \"vocab_size\": 50271\n",
      "}\n",
      "\n",
      "---------- Load tokenizer & model complete ----------\n",
      "Model and Tokenizer Loaded.\n",
      "------------------------------------------------------------------------------------------------------------------------------------------------------\n",
      "train_data:\n",
      " #Person1#: Hello, Mr. Smith. I'm Dr. Hawkins. Why are you here today?\n",
      "#Person2#: I thought it would be a good idea to have a checkup.\n",
      "#Person1#: That's right, you haven't had one in five years. You should have one every year.\n",
      "#Person2#: I know. But if nothing is wrong, why should I go to see a doctor?\n",
      "#Person1#: The best way to avoid serious illness is to catch these early. So for your own good, come at least once a year.\n",
      "#Person2#: I see.\n",
      "#Person1#: Look here. Your eyes and ears seem to be fine. Take a deep breath. Do you smoke, Mr. Smith?\n",
      "#Person2#: Yes.\n",
      "#Person1#: As you know, smoking is the main cause of lung cancer and heart disease. You really should quit.\n",
      "#Person2#: I've tried hundreds of times, but I find it hard to break the habit.\n",
      "#Person1#: We have classes and medicines that can help. I'll give you more information before you leave.\n",
      "#Person2#: OK, thank you, doctor.\n",
      "train_label:\n",
      " Mr. Smith is having a physical exam, and Dr. Hawkins recommends that he have a physical exam every year. Dr. Hawkins will give Mr. Smith information about classes and medications that can help him quit smoking.\n",
      "------------------------------------------------------------------------------------------------------------------------------------------------------\n",
      "val_data:\n",
      " #Person1#: Hello, how are you today?\n",
      "#Person2#: I'm having a little trouble breathing lately.\n",
      "#Person1#: Have you been sick with anything lately, like a cold?\n",
      "#Person2#: No, it's not a cold. It just feels like my chest is heavy every time I breathe.\n",
      "#Person1#: Do you have any known allergies?\n",
      "#Person2#: No, I don't have any known allergies.\n",
      "#Person1#: Does this happen all the time, or is it mostly when you are active?\n",
      "#Person2#: It happens a lot when I exercise.\n",
      "#Person1#: I'm going to send you to a pulmonologist to get checked for asthma.\n",
      "#Person2#: Thank you for helping me, doctor.\n",
      "val_label:\n",
      " #Person2# has difficulty breathing. The doctor asks #Person1# about this, and will send #Person2# to a lung specialist.\n",
      "---------- Load data complete ----------\n",
      "---------- Make dataset complete ----------\n",
      "---------- Make training arguments ----------\n"
     ]
    },
    {
     "data": {
      "text/html": [
       "Changes to your `wandb` environment variables will be ignored because your `wandb` session has already started. For more information on how to modify your settings with `wandb.init()` arguments, please refer to <a href='https://wandb.me/wandb-init' target=\"_blank\">the W&B docs</a>."
      ],
      "text/plain": [
       "<IPython.core.display.HTML object>"
      ]
     },
     "metadata": {},
     "output_type": "display_data"
    },
    {
     "data": {
      "text/html": [
       "Finishing last run (ID:a4jbyuj3) before initializing another..."
      ],
      "text/plain": [
       "<IPython.core.display.HTML object>"
      ]
     },
     "metadata": {},
     "output_type": "display_data"
    },
    {
     "data": {
      "application/vnd.jupyter.widget-view+json": {
       "model_id": "a8679ec413224acbbe9339c46536a787",
       "version_major": 2,
       "version_minor": 0
      },
      "text/plain": [
       "VBox(children=(Label(value='1550.164 MB of 1550.164 MB uploaded\\r'), FloatProgress(value=1.0, max=1.0)))"
      ]
     },
     "metadata": {},
     "output_type": "display_data"
    },
    {
     "name": "stderr",
     "output_type": "stream",
     "text": [
      "wandb: WARNING Source type is set to 'repo' but some required information is missing from the environment. A job will not be created from this run. See https://docs.wandb.ai/guides/launch/create-job\n"
     ]
    },
    {
     "data": {
      "text/html": [
       "<style>\n",
       "    table.wandb td:nth-child(1) { padding: 0 10px; text-align: left ; width: auto;} td:nth-child(2) {text-align: left ; width: 100%}\n",
       "    .wandb-row { display: flex; flex-direction: row; flex-wrap: wrap; justify-content: flex-start; width: 100% }\n",
       "    .wandb-col { display: flex; flex-direction: column; flex-basis: 100%; flex: 1; padding: 10px; }\n",
       "    </style>\n",
       "<div class=\"wandb-row\"><div class=\"wandb-col\"><h3>Run history:</h3><br/><table class=\"wandb\"><tr><td>eval/loss</td><td>█▁▂▅▅▁</td></tr><tr><td>eval/rouge-1</td><td>▁▆█▆▇▆</td></tr><tr><td>eval/rouge-2</td><td>▁▇█▆▆▇</td></tr><tr><td>eval/rouge-l</td><td>▁▆█▆▆▆</td></tr><tr><td>eval/runtime</td><td>▆▆▁█▁▅</td></tr><tr><td>eval/samples_per_second</td><td>▃▃█▁█▄</td></tr><tr><td>eval/steps_per_second</td><td>▃▃█▁█▄</td></tr><tr><td>train/epoch</td><td>▁▁▃▃▅▅▆▆████</td></tr><tr><td>train/global_step</td><td>▁▁▃▃▅▅▆▆████</td></tr><tr><td>train/learning_rate</td><td>▁▃▆██</td></tr><tr><td>train/loss</td><td>█▁▁▁▁</td></tr><tr><td>train/total_flos</td><td>▁</td></tr><tr><td>train/train_loss</td><td>▁</td></tr><tr><td>train/train_runtime</td><td>▁</td></tr><tr><td>train/train_samples_per_second</td><td>▁</td></tr><tr><td>train/train_steps_per_second</td><td>▁</td></tr></table><br/></div><div class=\"wandb-col\"><h3>Run summary:</h3><br/><table class=\"wandb\"><tr><td>eval/loss</td><td>0.49456</td></tr><tr><td>eval/rouge-1</td><td>0.49138</td></tr><tr><td>eval/rouge-2</td><td>0.20582</td></tr><tr><td>eval/rouge-l</td><td>0.45985</td></tr><tr><td>eval/runtime</td><td>86.2816</td></tr><tr><td>eval/samples_per_second</td><td>5.783</td></tr><tr><td>eval/steps_per_second</td><td>0.73</td></tr><tr><td>train/epoch</td><td>5.0</td></tr><tr><td>train/global_step</td><td>1947</td></tr><tr><td>train/learning_rate</td><td>2e-05</td></tr><tr><td>train/loss</td><td>0.2541</td></tr><tr><td>train/total_flos</td><td>6.748905507127296e+16</td></tr><tr><td>train/train_loss</td><td>1.00013</td></tr><tr><td>train/train_runtime</td><td>1945.6179</td></tr><tr><td>train/train_samples_per_second</td><td>128.052</td></tr><tr><td>train/train_steps_per_second</td><td>3.999</td></tr></table><br/></div></div>"
      ],
      "text/plain": [
       "<IPython.core.display.HTML object>"
      ]
     },
     "metadata": {},
     "output_type": "display_data"
    },
    {
     "data": {
      "text/html": [
       " View run <strong style=\"color:#cdcd00\">BART-LARGE-XSUM-SAMSUM-DIALOGSUM</strong> at: <a href='https://wandb.ai/legendki/NLP-Summarization/runs/a4jbyuj3' target=\"_blank\">https://wandb.ai/legendki/NLP-Summarization/runs/a4jbyuj3</a><br/>Synced 6 W&B file(s), 0 media file(s), 4 artifact file(s) and 0 other file(s)"
      ],
      "text/plain": [
       "<IPython.core.display.HTML object>"
      ]
     },
     "metadata": {},
     "output_type": "display_data"
    },
    {
     "data": {
      "text/html": [
       "Find logs at: <code>./wandb/run-20240906_080015-a4jbyuj3/logs</code>"
      ],
      "text/plain": [
       "<IPython.core.display.HTML object>"
      ]
     },
     "metadata": {},
     "output_type": "display_data"
    },
    {
     "data": {
      "text/html": [
       "Successfully finished last run (ID:a4jbyuj3). Initializing new run:<br/>"
      ],
      "text/plain": [
       "<IPython.core.display.HTML object>"
      ]
     },
     "metadata": {},
     "output_type": "display_data"
    },
    {
     "data": {
      "application/vnd.jupyter.widget-view+json": {
       "model_id": "9803b7e636774f2e95bafdb26347b25c",
       "version_major": 2,
       "version_minor": 0
      },
      "text/plain": [
       "VBox(children=(Label(value='Waiting for wandb.init()...\\r'), FloatProgress(value=0.01111245589951674, max=1.0)…"
      ]
     },
     "metadata": {},
     "output_type": "display_data"
    },
    {
     "data": {
      "text/html": [
       "wandb version 0.17.9 is available!  To upgrade, please run:\n",
       " $ pip install wandb --upgrade"
      ],
      "text/plain": [
       "<IPython.core.display.HTML object>"
      ]
     },
     "metadata": {},
     "output_type": "display_data"
    },
    {
     "data": {
      "text/html": [
       "Tracking run with wandb version 0.16.1"
      ],
      "text/plain": [
       "<IPython.core.display.HTML object>"
      ]
     },
     "metadata": {},
     "output_type": "display_data"
    },
    {
     "data": {
      "text/html": [
       "Run data is saved locally in <code>/home/upstage-nlp-summarization-nlp7/code/wandb/run-20240906_083546-7p6fnq7s</code>"
      ],
      "text/plain": [
       "<IPython.core.display.HTML object>"
      ]
     },
     "metadata": {},
     "output_type": "display_data"
    },
    {
     "data": {
      "text/html": [
       "Syncing run <strong><a href='https://wandb.ai/legendki/NLP-Summarization/runs/7p6fnq7s' target=\"_blank\">BART-LARGE-XSUM-SAMSUM-DIALOGSUM</a></strong> to <a href='https://wandb.ai/legendki/NLP-Summarization' target=\"_blank\">Weights & Biases</a> (<a href='https://wandb.me/run' target=\"_blank\">docs</a>)<br/>"
      ],
      "text/plain": [
       "<IPython.core.display.HTML object>"
      ]
     },
     "metadata": {},
     "output_type": "display_data"
    },
    {
     "data": {
      "text/html": [
       " View project at <a href='https://wandb.ai/legendki/NLP-Summarization' target=\"_blank\">https://wandb.ai/legendki/NLP-Summarization</a>"
      ],
      "text/plain": [
       "<IPython.core.display.HTML object>"
      ]
     },
     "metadata": {},
     "output_type": "display_data"
    },
    {
     "data": {
      "text/html": [
       " View run at <a href='https://wandb.ai/legendki/NLP-Summarization/runs/7p6fnq7s' target=\"_blank\">https://wandb.ai/legendki/NLP-Summarization/runs/7p6fnq7s</a>"
      ],
      "text/plain": [
       "<IPython.core.display.HTML object>"
      ]
     },
     "metadata": {},
     "output_type": "display_data"
    },
    {
     "name": "stderr",
     "output_type": "stream",
     "text": [
      "Detected kernel version 5.4.0, which is below the recommended minimum of 5.5.0; this can cause the process to hang. It is recommended to upgrade the kernel to the minimum version or higher.\n"
     ]
    },
    {
     "name": "stdout",
     "output_type": "stream",
     "text": [
      "---------- Make training arguments complete ----------\n",
      "---------- Make trainer ----------\n",
      "---------- Make trainer complete ----------\n"
     ]
    },
    {
     "data": {
      "text/html": [
       "\n",
       "    <div>\n",
       "      \n",
       "      <progress value='4674' max='9348' style='width:300px; height:20px; vertical-align: middle;'></progress>\n",
       "      [4674/9348 46:14 < 46:15, 1.68 it/s, Epoch 6/12]\n",
       "    </div>\n",
       "    <table border=\"1\" class=\"dataframe\">\n",
       "  <thead>\n",
       " <tr style=\"text-align: left;\">\n",
       "      <th>Epoch</th>\n",
       "      <th>Training Loss</th>\n",
       "      <th>Validation Loss</th>\n",
       "      <th>Rouge-1</th>\n",
       "      <th>Rouge-2</th>\n",
       "      <th>Rouge-l</th>\n",
       "    </tr>\n",
       "  </thead>\n",
       "  <tbody>\n",
       "    <tr>\n",
       "      <td>1</td>\n",
       "      <td>1.262800</td>\n",
       "      <td>0.577013</td>\n",
       "      <td>0.486024</td>\n",
       "      <td>0.196910</td>\n",
       "      <td>0.454225</td>\n",
       "    </tr>\n",
       "    <tr>\n",
       "      <td>2</td>\n",
       "      <td>0.381100</td>\n",
       "      <td>0.670786</td>\n",
       "      <td>0.475736</td>\n",
       "      <td>0.183461</td>\n",
       "      <td>0.437305</td>\n",
       "    </tr>\n",
       "    <tr>\n",
       "      <td>3</td>\n",
       "      <td>0.306300</td>\n",
       "      <td>0.573045</td>\n",
       "      <td>0.468057</td>\n",
       "      <td>0.178936</td>\n",
       "      <td>0.434167</td>\n",
       "    </tr>\n",
       "    <tr>\n",
       "      <td>4</td>\n",
       "      <td>0.223300</td>\n",
       "      <td>0.649048</td>\n",
       "      <td>0.478028</td>\n",
       "      <td>0.181990</td>\n",
       "      <td>0.441871</td>\n",
       "    </tr>\n",
       "    <tr>\n",
       "      <td>5</td>\n",
       "      <td>0.158500</td>\n",
       "      <td>0.682220</td>\n",
       "      <td>0.463010</td>\n",
       "      <td>0.174822</td>\n",
       "      <td>0.419079</td>\n",
       "    </tr>\n",
       "    <tr>\n",
       "      <td>6</td>\n",
       "      <td>0.108900</td>\n",
       "      <td>0.709573</td>\n",
       "      <td>0.469665</td>\n",
       "      <td>0.180969</td>\n",
       "      <td>0.434640</td>\n",
       "    </tr>\n",
       "  </tbody>\n",
       "</table><p>"
      ],
      "text/plain": [
       "<IPython.core.display.HTML object>"
      ]
     },
     "metadata": {},
     "output_type": "display_data"
    },
    {
     "name": "stdout",
     "output_type": "stream",
     "text": [
      "------------------------------------------------------------------------------------------------------------------------------------------------------\n",
      "PRED:     #Person2# has been having trouble breathing lately. #Person1# will send #Person2# to a pulmonologist to check for asthma.                                                                        \n",
      "GOLD:  #Person2# has difficulty breathing. The doctor asks #Person1# about this, and will send #Person2# to a lung specialist.                                                            \n",
      "------------------------------------------------------------------------------------------------------------------------------------------------------\n",
      "PRED:     #Person1# asks Jimmy to go to the gym with him to do a workout. They are going to meet at the gym at 3:30 p.m. today.                                                               \n",
      "GOLD:  #Person1# suggests to Jimmy that they go to the gym and convinces him to work out his arms and stomach.                                                             \n",
      "------------------------------------------------------------------------------------------------------------------------------------------------------\n",
      "PRED:     #Person1# needs to stop eating unhealthy food. #Person2# tells #Person1# that they eat fruit, vegetables, and chicken.                                                                         \n",
      "GOLD:  #Person1# is planning to stop eating unhealthy food, and #Person2# shares his healthy recipes with #Person1#.                                                               \n",
      "------------------------------------------------------------------------------------------------------------------------------------------------------\n",
      "PRED:     #Person2# has had a hard time breathing lately. #Person1# will send #Person2# to a pulmonologist to get checked for asthma.                                                                      \n",
      "GOLD:  #Person2# has difficulty breathing. The doctor asks #Person1# about this, and will send #Person2# to a lung specialist.                                                            \n",
      "------------------------------------------------------------------------------------------------------------------------------------------------------\n",
      "PRED:    #Person1# and Jimmy are going to work out. #Person1# wants to work on arms and abs, but Jimmy wants to do legs on Friday, so they switch.                                                                 \n",
      "GOLD:  #Person1# suggests to Jimmy that they go to the gym and convinces him to work out his arms and stomach.                                                             \n",
      "------------------------------------------------------------------------------------------------------------------------------------------------------\n",
      "PRED:     #Person2# tells #Person1# that he has started eating more fruits, vegetables, and chicken these days, and that chicken is good for you.                                                                     \n",
      "GOLD:  #Person1# is planning to stop eating unhealthy food, and #Person2# shares his healthy recipes with #Person1#.                                                               \n",
      "------------------------------------------------------------------------------------------------------------------------------------------------------\n",
      "PRED:     #Person2# has been having trouble breathing lately. #Person1# is going to send #Person2# to the pulmonologist to get checked for asthma.                                                               \n",
      "GOLD:  #Person2# has difficulty breathing. The doctor asks #Person1# about this, and will send #Person2# to a lung specialist.                                                            \n",
      "------------------------------------------------------------------------------------------------------------------------------------------------------\n",
      "PRED:     #Person1# and Jimmy are going to work out together. #Person1# wants to work on arms and abs, but Jimmy says they can only do legs on Friday.                                                           \n",
      "GOLD:  #Person1# suggests to Jimmy that they go to the gym and convinces him to work out his arms and stomach.                                                             \n",
      "------------------------------------------------------------------------------------------------------------------------------------------------------\n",
      "PRED:     #Person1# needs to stop eating unhealthy food. #Person2# tells #Person1# that he eats mostly fruits, vegetables, and chicken.                                                                  \n",
      "GOLD:  #Person1# is planning to stop eating unhealthy food, and #Person2# shares his healthy recipes with #Person1#.                                                               \n",
      "------------------------------------------------------------------------------------------------------------------------------------------------------\n",
      "PRED:   #Person2# tells #Person1# that #Person2#'s chest is heavy whenever #Person2# exercises. #Person1# decides to send #Person2# to a pulmonologist for asthma check.                                                                  \n",
      "GOLD:  #Person2# has difficulty breathing. The doctor asks #Person1# about this, and will send #Person2# to a lung specialist.                                                            \n",
      "------------------------------------------------------------------------------------------------------------------------------------------------------\n",
      "PRED:     #Person1# suggests to Jimmy that they work out together because #Person1#'s legs are sore. Jimmy thinks #Person1# is messing up the weekly schedule and they decide to do it today.                                                             \n",
      "GOLD:  #Person1# suggests to Jimmy that they go to the gym and convinces him to work out his arms and stomach.                                                             \n",
      "------------------------------------------------------------------------------------------------------------------------------------------------------\n",
      "PRED:     #Person1# wants to stop eating unhealthy food. #Person2# tells #Person1# that #Person2# eats mostly fruit, vegetables, and chicken.                                                                       \n",
      "GOLD:  #Person1# is planning to stop eating unhealthy food, and #Person2# shares his healthy recipes with #Person1#.                                                               \n",
      "------------------------------------------------------------------------------------------------------------------------------------------------------\n",
      "PRED:     #Person2#'s chest is heavy when they exercise, but #Person2# has no known allergies. #Person1# will send #Person2# to a pulmonologist to check for asthma.                                                               \n",
      "GOLD:  #Person2# has difficulty breathing. The doctor asks #Person1# about this, and will send #Person2# to a lung specialist.                                                            \n",
      "------------------------------------------------------------------------------------------------------------------------------------------------------\n",
      "PRED:    #Person1# suggests to Jimmy that they work out later, but Jimmy is following a weekly schedule, so they switch to the next day.                                                                       \n",
      "GOLD:  #Person1# suggests to Jimmy that they go to the gym and convinces him to work out his arms and stomach.                                                             \n",
      "------------------------------------------------------------------------------------------------------------------------------------------------------\n",
      "PRED:     #Person1# suggests that if they want to lose weight, they need to stop eating unhealthy food, and #Person2# shares their diet.                                                                       \n",
      "GOLD:  #Person1# is planning to stop eating unhealthy food, and #Person2# shares his healthy recipes with #Person1#.                                                               \n",
      "------------------------------------------------------------------------------------------------------------------------------------------------------\n",
      "PRED:     #Person2#'s chest is heavy and #Person2# tells #Person1# that it happens a lot when they exercise. #Person1# will send #Person2# to a pulmonologist to check #Person2#'s asthma.                                                          \n",
      "GOLD:  #Person2# has difficulty breathing. The doctor asks #Person1# about this, and will send #Person2# to a lung specialist.                                                            \n",
      "------------------------------------------------------------------------------------------------------------------------------------------------------\n",
      "PRED:  #Person1# suggests working out with Jimmy. #Person1#'s legs are a little sore. They will meet at the gym at 3:30.                                                                        \n",
      "GOLD:  #Person1# suggests to Jimmy that they go to the gym and convinces him to work out his arms and stomach.                                                             \n",
      "------------------------------------------------------------------------------------------------------------------------------------------------------\n",
      "PRED:    #Person1# and #Person2# decided to stop eating unhealthy food. #Person2# told #Person1# that he eats mostly fruits, vegetables, and chicken.                                                                      \n",
      "GOLD:  #Person1# is planning to stop eating unhealthy food, and #Person2# shares his healthy recipes with #Person1#.                                                               \n"
     ]
    },
    {
     "name": "stderr",
     "output_type": "stream",
     "text": [
      "There were missing keys in the checkpoint model loaded: ['model.encoder.embed_tokens.weight', 'model.decoder.embed_tokens.weight', 'lm_head.weight'].\n",
      "Detected kernel version 5.4.0, which is below the recommended minimum of 5.5.0; this can cause the process to hang. It is recommended to upgrade the kernel to the minimum version or higher.\n"
     ]
    },
    {
     "data": {
      "text/html": [
       "\n",
       "    <div>\n",
       "      \n",
       "      <progress value='63' max='63' style='width:300px; height:20px; vertical-align: middle;'></progress>\n",
       "      [63/63 01:19]\n",
       "    </div>\n",
       "    "
      ],
      "text/plain": [
       "<IPython.core.display.HTML object>"
      ]
     },
     "metadata": {},
     "output_type": "display_data"
    },
    {
     "name": "stdout",
     "output_type": "stream",
     "text": [
      "------------------------------------------------------------------------------------------------------------------------------------------------------\n",
      "PRED:     #Person2# has been having trouble breathing lately. #Person1# is going to send #Person2# to the pulmonologist to get checked for asthma.                                                               \n",
      "GOLD:  #Person2# has difficulty breathing. The doctor asks #Person1# about this, and will send #Person2# to a lung specialist.                                                            \n",
      "------------------------------------------------------------------------------------------------------------------------------------------------------\n",
      "PRED:     #Person1# and Jimmy are going to work out together. #Person1# wants to work on arms and abs, but Jimmy says they can only do legs on Friday.                                                           \n",
      "GOLD:  #Person1# suggests to Jimmy that they go to the gym and convinces him to work out his arms and stomach.                                                             \n",
      "------------------------------------------------------------------------------------------------------------------------------------------------------\n",
      "PRED:     #Person1# needs to stop eating unhealthy food. #Person2# tells #Person1# that he eats mostly fruits, vegetables, and chicken.                                                                  \n",
      "GOLD:  #Person1# is planning to stop eating unhealthy food, and #Person2# shares his healthy recipes with #Person1#.                                                               \n"
     ]
    },
    {
     "name": "stderr",
     "output_type": "stream",
     "text": [
      "[I 2024-09-06 09:25:13,771] Trial 6 finished with value: 0.0 and parameters: {'learning_rate': 7.167326765478392e-05, 'per_device_train_batch_size': 8, 'num_train_epochs': 12, 'warmup_ratio': 0.14315176816487674, 'optim': 'adafactor', 'gradient_accumulation_steps': 2, 'lr_scheduler_type': 'cosine', 'fp16': True}. Best is trial 0 with value: 0.0.\n",
      "/tmp/ipykernel_58261/1742311384.py:4: FutureWarning: suggest_loguniform has been deprecated in v3.0.0. This feature will be removed in v6.0.0. See https://github.com/optuna/optuna/releases/tag/v3.0.0. Use suggest_float(..., log=True) instead.\n",
      "  config_data['training']['learning_rate'] = trial.suggest_loguniform('learning_rate', 1e-5, 1e-4)\n"
     ]
    },
    {
     "name": "stdout",
     "output_type": "stream",
     "text": [
      "Running on: cuda:0\n",
      "---------- Load tokenizer & model ----------\n",
      "---------- Model Name : knkarthick/MEETING-SUMMARY-BART-LARGE-XSUM-SAMSUM-DIALOGSUM ----------\n",
      "BartConfig {\n",
      "  \"_name_or_path\": \"knkarthick/MEETING-SUMMARY-BART-LARGE-XSUM-SAMSUM-DIALOGSUM\",\n",
      "  \"_num_labels\": 3,\n",
      "  \"activation_dropout\": 0.0,\n",
      "  \"activation_function\": \"gelu\",\n",
      "  \"add_bias_logits\": false,\n",
      "  \"add_final_layer_norm\": false,\n",
      "  \"architectures\": [\n",
      "    \"BartForConditionalGeneration\"\n",
      "  ],\n",
      "  \"attention_dropout\": 0.0,\n",
      "  \"bos_token_id\": 0,\n",
      "  \"classif_dropout\": 0.0,\n",
      "  \"classifier_dropout\": 0.0,\n",
      "  \"d_model\": 1024,\n",
      "  \"decoder_attention_heads\": 16,\n",
      "  \"decoder_ffn_dim\": 4096,\n",
      "  \"decoder_layerdrop\": 0.0,\n",
      "  \"decoder_layers\": 12,\n",
      "  \"decoder_start_token_id\": 2,\n",
      "  \"dropout\": 0.1,\n",
      "  \"early_stopping\": true,\n",
      "  \"encoder_attention_heads\": 16,\n",
      "  \"encoder_ffn_dim\": 4096,\n",
      "  \"encoder_layerdrop\": 0.0,\n",
      "  \"encoder_layers\": 12,\n",
      "  \"eos_token_id\": 2,\n",
      "  \"eos_token_ids\": [\n",
      "    2\n",
      "  ],\n",
      "  \"forced_eos_token_id\": 2,\n",
      "  \"gradient_checkpointing\": false,\n",
      "  \"id2label\": {\n",
      "    \"0\": \"LABEL_0\",\n",
      "    \"1\": \"LABEL_1\",\n",
      "    \"2\": \"LABEL_2\"\n",
      "  },\n",
      "  \"init_std\": 0.02,\n",
      "  \"is_encoder_decoder\": true,\n",
      "  \"label2id\": {\n",
      "    \"LABEL_0\": 0,\n",
      "    \"LABEL_1\": 1,\n",
      "    \"LABEL_2\": 2\n",
      "  },\n",
      "  \"max_length\": 62,\n",
      "  \"max_position_embeddings\": 1024,\n",
      "  \"min_length\": 11,\n",
      "  \"model_type\": \"bart\",\n",
      "  \"no_repeat_ngram_size\": 3,\n",
      "  \"normalize_before\": false,\n",
      "  \"normalize_embedding\": true,\n",
      "  \"num_beams\": 6,\n",
      "  \"num_hidden_layers\": 12,\n",
      "  \"output_past\": true,\n",
      "  \"pad_token_id\": 1,\n",
      "  \"prefix\": \" \",\n",
      "  \"replacing_rate\": 0,\n",
      "  \"scale_embedding\": false,\n",
      "  \"static_position_embeddings\": false,\n",
      "  \"student_decoder_layers\": null,\n",
      "  \"student_encoder_layers\": null,\n",
      "  \"task_specific_params\": {},\n",
      "  \"torch_dtype\": \"float32\",\n",
      "  \"transformers_version\": \"4.35.2\",\n",
      "  \"use_cache\": true,\n",
      "  \"vocab_size\": 50271\n",
      "}\n",
      "\n",
      "---------- Load tokenizer & model complete ----------\n",
      "Model and Tokenizer Loaded.\n",
      "------------------------------------------------------------------------------------------------------------------------------------------------------\n",
      "train_data:\n",
      " #Person1#: Hello, Mr. Smith. I'm Dr. Hawkins. Why are you here today?\n",
      "#Person2#: I thought it would be a good idea to have a checkup.\n",
      "#Person1#: That's right, you haven't had one in five years. You should have one every year.\n",
      "#Person2#: I know. But if nothing is wrong, why should I go to see a doctor?\n",
      "#Person1#: The best way to avoid serious illness is to catch these early. So for your own good, come at least once a year.\n",
      "#Person2#: I see.\n",
      "#Person1#: Look here. Your eyes and ears seem to be fine. Take a deep breath. Do you smoke, Mr. Smith?\n",
      "#Person2#: Yes.\n",
      "#Person1#: As you know, smoking is the main cause of lung cancer and heart disease. You really should quit.\n",
      "#Person2#: I've tried hundreds of times, but I find it hard to break the habit.\n",
      "#Person1#: We have classes and medicines that can help. I'll give you more information before you leave.\n",
      "#Person2#: OK, thank you, doctor.\n",
      "train_label:\n",
      " Mr. Smith is having a physical exam, and Dr. Hawkins recommends that he have a physical exam every year. Dr. Hawkins will give Mr. Smith information about classes and medications that can help him quit smoking.\n",
      "------------------------------------------------------------------------------------------------------------------------------------------------------\n",
      "val_data:\n",
      " #Person1#: Hello, how are you today?\n",
      "#Person2#: I'm having a little trouble breathing lately.\n",
      "#Person1#: Have you been sick with anything lately, like a cold?\n",
      "#Person2#: No, it's not a cold. It just feels like my chest is heavy every time I breathe.\n",
      "#Person1#: Do you have any known allergies?\n",
      "#Person2#: No, I don't have any known allergies.\n",
      "#Person1#: Does this happen all the time, or is it mostly when you are active?\n",
      "#Person2#: It happens a lot when I exercise.\n",
      "#Person1#: I'm going to send you to a pulmonologist to get checked for asthma.\n",
      "#Person2#: Thank you for helping me, doctor.\n",
      "val_label:\n",
      " #Person2# has difficulty breathing. The doctor asks #Person1# about this, and will send #Person2# to a lung specialist.\n",
      "---------- Load data complete ----------\n",
      "---------- Make dataset complete ----------\n",
      "---------- Make training arguments ----------\n"
     ]
    },
    {
     "data": {
      "text/html": [
       "Changes to your `wandb` environment variables will be ignored because your `wandb` session has already started. For more information on how to modify your settings with `wandb.init()` arguments, please refer to <a href='https://wandb.me/wandb-init' target=\"_blank\">the W&B docs</a>."
      ],
      "text/plain": [
       "<IPython.core.display.HTML object>"
      ]
     },
     "metadata": {},
     "output_type": "display_data"
    },
    {
     "data": {
      "text/html": [
       "Finishing last run (ID:7p6fnq7s) before initializing another..."
      ],
      "text/plain": [
       "<IPython.core.display.HTML object>"
      ]
     },
     "metadata": {},
     "output_type": "display_data"
    },
    {
     "data": {
      "application/vnd.jupyter.widget-view+json": {
       "model_id": "a060f2c5c5d04cd397c62c27ce5e1f00",
       "version_major": 2,
       "version_minor": 0
      },
      "text/plain": [
       "VBox(children=(Label(value='1550.164 MB of 1550.164 MB uploaded\\r'), FloatProgress(value=1.0, max=1.0)))"
      ]
     },
     "metadata": {},
     "output_type": "display_data"
    },
    {
     "name": "stderr",
     "output_type": "stream",
     "text": [
      "wandb: WARNING Source type is set to 'repo' but some required information is missing from the environment. A job will not be created from this run. See https://docs.wandb.ai/guides/launch/create-job\n"
     ]
    },
    {
     "data": {
      "text/html": [
       "<style>\n",
       "    table.wandb td:nth-child(1) { padding: 0 10px; text-align: left ; width: auto;} td:nth-child(2) {text-align: left ; width: 100%}\n",
       "    .wandb-row { display: flex; flex-direction: row; flex-wrap: wrap; justify-content: flex-start; width: 100% }\n",
       "    .wandb-col { display: flex; flex-direction: column; flex-basis: 100%; flex: 1; padding: 10px; }\n",
       "    </style>\n",
       "<div class=\"wandb-row\"><div class=\"wandb-col\"><h3>Run history:</h3><br/><table class=\"wandb\"><tr><td>eval/loss</td><td>▁▆▁▅▇█▁</td></tr><tr><td>eval/rouge-1</td><td>█▅▃▆▁▃▃</td></tr><tr><td>eval/rouge-2</td><td>█▄▂▃▁▃▂</td></tr><tr><td>eval/rouge-l</td><td>█▅▄▆▁▄▄</td></tr><tr><td>eval/runtime</td><td>▆▂▅▁▅█▅</td></tr><tr><td>eval/samples_per_second</td><td>▃▇▃█▄▁▃</td></tr><tr><td>eval/steps_per_second</td><td>▃▇▃█▄▁▃</td></tr><tr><td>train/epoch</td><td>▁▁▂▂▄▄▅▅▇▇████</td></tr><tr><td>train/global_step</td><td>▁▁▂▂▄▄▅▅▇▇████</td></tr><tr><td>train/learning_rate</td><td>▁█▇▆▄▂</td></tr><tr><td>train/loss</td><td>█▃▂▂▁▁</td></tr><tr><td>train/total_flos</td><td>▁</td></tr><tr><td>train/train_loss</td><td>▁</td></tr><tr><td>train/train_runtime</td><td>▁</td></tr><tr><td>train/train_samples_per_second</td><td>▁</td></tr><tr><td>train/train_steps_per_second</td><td>▁</td></tr></table><br/></div><div class=\"wandb-col\"><h3>Run summary:</h3><br/><table class=\"wandb\"><tr><td>eval/loss</td><td>0.57305</td></tr><tr><td>eval/rouge-1</td><td>0.46806</td></tr><tr><td>eval/rouge-2</td><td>0.17894</td></tr><tr><td>eval/rouge-l</td><td>0.43417</td></tr><tr><td>eval/runtime</td><td>81.1268</td></tr><tr><td>eval/samples_per_second</td><td>6.151</td></tr><tr><td>eval/steps_per_second</td><td>0.777</td></tr><tr><td>train/epoch</td><td>6.0</td></tr><tr><td>train/global_step</td><td>4674</td></tr><tr><td>train/learning_rate</td><td>5e-05</td></tr><tr><td>train/loss</td><td>0.1089</td></tr><tr><td>train/total_flos</td><td>8.098686608552755e+16</td></tr><tr><td>train/train_loss</td><td>0.40683</td></tr><tr><td>train/train_runtime</td><td>2766.634</td></tr><tr><td>train/train_samples_per_second</td><td>54.031</td></tr><tr><td>train/train_steps_per_second</td><td>3.379</td></tr></table><br/></div></div>"
      ],
      "text/plain": [
       "<IPython.core.display.HTML object>"
      ]
     },
     "metadata": {},
     "output_type": "display_data"
    },
    {
     "data": {
      "text/html": [
       " View run <strong style=\"color:#cdcd00\">BART-LARGE-XSUM-SAMSUM-DIALOGSUM</strong> at: <a href='https://wandb.ai/legendki/NLP-Summarization/runs/7p6fnq7s' target=\"_blank\">https://wandb.ai/legendki/NLP-Summarization/runs/7p6fnq7s</a><br/>Synced 6 W&B file(s), 0 media file(s), 4 artifact file(s) and 0 other file(s)"
      ],
      "text/plain": [
       "<IPython.core.display.HTML object>"
      ]
     },
     "metadata": {},
     "output_type": "display_data"
    },
    {
     "data": {
      "text/html": [
       "Find logs at: <code>./wandb/run-20240906_083546-7p6fnq7s/logs</code>"
      ],
      "text/plain": [
       "<IPython.core.display.HTML object>"
      ]
     },
     "metadata": {},
     "output_type": "display_data"
    },
    {
     "data": {
      "text/html": [
       "Successfully finished last run (ID:7p6fnq7s). Initializing new run:<br/>"
      ],
      "text/plain": [
       "<IPython.core.display.HTML object>"
      ]
     },
     "metadata": {},
     "output_type": "display_data"
    },
    {
     "data": {
      "application/vnd.jupyter.widget-view+json": {
       "model_id": "2a87b887aa374ddaaa6db6f84be3ec39",
       "version_major": 2,
       "version_minor": 0
      },
      "text/plain": [
       "VBox(children=(Label(value='Waiting for wandb.init()...\\r'), FloatProgress(value=0.011112187554438909, max=1.0…"
      ]
     },
     "metadata": {},
     "output_type": "display_data"
    },
    {
     "data": {
      "text/html": [
       "wandb version 0.17.9 is available!  To upgrade, please run:\n",
       " $ pip install wandb --upgrade"
      ],
      "text/plain": [
       "<IPython.core.display.HTML object>"
      ]
     },
     "metadata": {},
     "output_type": "display_data"
    },
    {
     "data": {
      "text/html": [
       "Tracking run with wandb version 0.16.1"
      ],
      "text/plain": [
       "<IPython.core.display.HTML object>"
      ]
     },
     "metadata": {},
     "output_type": "display_data"
    },
    {
     "data": {
      "text/html": [
       "Run data is saved locally in <code>/home/upstage-nlp-summarization-nlp7/code/wandb/run-20240906_092522-cdxtimlw</code>"
      ],
      "text/plain": [
       "<IPython.core.display.HTML object>"
      ]
     },
     "metadata": {},
     "output_type": "display_data"
    },
    {
     "data": {
      "text/html": [
       "Syncing run <strong><a href='https://wandb.ai/legendki/NLP-Summarization/runs/cdxtimlw' target=\"_blank\">BART-LARGE-XSUM-SAMSUM-DIALOGSUM</a></strong> to <a href='https://wandb.ai/legendki/NLP-Summarization' target=\"_blank\">Weights & Biases</a> (<a href='https://wandb.me/run' target=\"_blank\">docs</a>)<br/>"
      ],
      "text/plain": [
       "<IPython.core.display.HTML object>"
      ]
     },
     "metadata": {},
     "output_type": "display_data"
    },
    {
     "data": {
      "text/html": [
       " View project at <a href='https://wandb.ai/legendki/NLP-Summarization' target=\"_blank\">https://wandb.ai/legendki/NLP-Summarization</a>"
      ],
      "text/plain": [
       "<IPython.core.display.HTML object>"
      ]
     },
     "metadata": {},
     "output_type": "display_data"
    },
    {
     "data": {
      "text/html": [
       " View run at <a href='https://wandb.ai/legendki/NLP-Summarization/runs/cdxtimlw' target=\"_blank\">https://wandb.ai/legendki/NLP-Summarization/runs/cdxtimlw</a>"
      ],
      "text/plain": [
       "<IPython.core.display.HTML object>"
      ]
     },
     "metadata": {},
     "output_type": "display_data"
    },
    {
     "name": "stderr",
     "output_type": "stream",
     "text": [
      "Detected kernel version 5.4.0, which is below the recommended minimum of 5.5.0; this can cause the process to hang. It is recommended to upgrade the kernel to the minimum version or higher.\n"
     ]
    },
    {
     "name": "stdout",
     "output_type": "stream",
     "text": [
      "---------- Make training arguments complete ----------\n",
      "---------- Make trainer ----------\n",
      "---------- Make trainer complete ----------\n"
     ]
    },
    {
     "data": {
      "text/html": [
       "\n",
       "    <div>\n",
       "      \n",
       "      <progress value='1752' max='4850' style='width:300px; height:20px; vertical-align: middle;'></progress>\n",
       "      [1752/4850 57:28 < 1:41:44, 0.51 it/s, Epoch 8/25]\n",
       "    </div>\n",
       "    <table border=\"1\" class=\"dataframe\">\n",
       "  <thead>\n",
       " <tr style=\"text-align: left;\">\n",
       "      <th>Epoch</th>\n",
       "      <th>Training Loss</th>\n",
       "      <th>Validation Loss</th>\n",
       "      <th>Rouge-1</th>\n",
       "      <th>Rouge-2</th>\n",
       "      <th>Rouge-l</th>\n",
       "    </tr>\n",
       "  </thead>\n",
       "  <tbody>\n",
       "    <tr>\n",
       "      <td>0</td>\n",
       "      <td>3.799000</td>\n",
       "      <td>0.638570</td>\n",
       "      <td>0.472849</td>\n",
       "      <td>0.181471</td>\n",
       "      <td>0.438021</td>\n",
       "    </tr>\n",
       "    <tr>\n",
       "      <td>1</td>\n",
       "      <td>0.430500</td>\n",
       "      <td>0.557299</td>\n",
       "      <td>0.487386</td>\n",
       "      <td>0.201270</td>\n",
       "      <td>0.452220</td>\n",
       "    </tr>\n",
       "    <tr>\n",
       "      <td>2</td>\n",
       "      <td>0.358900</td>\n",
       "      <td>0.550129</td>\n",
       "      <td>0.475000</td>\n",
       "      <td>0.190996</td>\n",
       "      <td>0.440077</td>\n",
       "    </tr>\n",
       "    <tr>\n",
       "      <td>4</td>\n",
       "      <td>0.265500</td>\n",
       "      <td>0.560214</td>\n",
       "      <td>0.491466</td>\n",
       "      <td>0.202117</td>\n",
       "      <td>0.458038</td>\n",
       "    </tr>\n",
       "    <tr>\n",
       "      <td>5</td>\n",
       "      <td>0.222100</td>\n",
       "      <td>0.523105</td>\n",
       "      <td>0.494312</td>\n",
       "      <td>0.202010</td>\n",
       "      <td>0.455272</td>\n",
       "    </tr>\n",
       "    <tr>\n",
       "      <td>6</td>\n",
       "      <td>0.186500</td>\n",
       "      <td>0.633467</td>\n",
       "      <td>0.490488</td>\n",
       "      <td>0.200202</td>\n",
       "      <td>0.454881</td>\n",
       "    </tr>\n",
       "    <tr>\n",
       "      <td>8</td>\n",
       "      <td>0.132000</td>\n",
       "      <td>0.680550</td>\n",
       "      <td>0.480744</td>\n",
       "      <td>0.192294</td>\n",
       "      <td>0.441300</td>\n",
       "    </tr>\n",
       "  </tbody>\n",
       "</table><p>"
      ],
      "text/plain": [
       "<IPython.core.display.HTML object>"
      ]
     },
     "metadata": {},
     "output_type": "display_data"
    },
    {
     "name": "stdout",
     "output_type": "stream",
     "text": [
      "------------------------------------------------------------------------------------------------------------------------------------------------------\n",
      "PRED:     #Person1# is having trouble breathing lately. The doctor will send #Person2# to a pulmonologist to check for asthma.                                                                         \n",
      "GOLD:  #Person2# has difficulty breathing. The doctor asks #Person1# about this, and will send #Person2# to a lung specialist.                                                            \n",
      "------------------------------------------------------------------------------------------------------------------------------------------------------\n",
      "PRED:     #Person1# and Jimmy will meet at the gym at 3:30 to work out. They will work on arms and abs today, but Jimmy wants to do legs on Friday.                                                              \n",
      "GOLD:  #Person1# suggests to Jimmy that they go to the gym and convinces him to work out his arms and stomach.                                                             \n",
      "------------------------------------------------------------------------------------------------------------------------------------------------------\n",
      "PRED:     #Person1# wants to stop eating unhealthy food. #Person2# tells #Person2# that he mainly eats fruit, vegetables, and chicken.                                                                        \n",
      "GOLD:  #Person1# is planning to stop eating unhealthy food, and #Person2# shares his healthy recipes with #Person1#.                                                               \n",
      "------------------------------------------------------------------------------------------------------------------------------------------------------\n",
      "PRED:     #Person2# has been having trouble breathing lately. #Person1# will send #Person2# to a pulmonologist to check for asthma.                                                                        \n",
      "GOLD:  #Person2# has difficulty breathing. The doctor asks #Person1# about this, and will send #Person2# to a lung specialist.                                                            \n",
      "------------------------------------------------------------------------------------------------------------------------------------------------------\n",
      "PRED:     #Person1# and Jimmy are going to work out later. They will meet at the gym at 3:30 p.m. to work on arms and abs.                                                                 \n",
      "GOLD:  #Person1# suggests to Jimmy that they go to the gym and convinces him to work out his arms and stomach.                                                             \n",
      "------------------------------------------------------------------------------------------------------------------------------------------------------\n",
      "PRED:     #Person1# needs to stop eating unhealthy food. #Person2# tells #Person1# that #Person2# mainly eats fruit, vegetables, and chicken.                                                                       \n",
      "GOLD:  #Person1# is planning to stop eating unhealthy food, and #Person2# shares his healthy recipes with #Person1#.                                                               \n",
      "------------------------------------------------------------------------------------------------------------------------------------------------------\n",
      "PRED:     #Person2# has been having trouble breathing lately. #Person1# is going to send #Person2# to a pulmonologist to check for asthma.                                                                      \n",
      "GOLD:  #Person2# has difficulty breathing. The doctor asks #Person1# about this, and will send #Person2# to a lung specialist.                                                            \n",
      "------------------------------------------------------------------------------------------------------------------------------------------------------\n",
      "PRED:     #Person1# suggests to Jimmy that they work out later because #Person1#'s legs are sore and #Person1# wants to work on arms and abs today, but Jimmy is following a weekly schedule. #Person1# changes the schedule and they will do legs on Friday.                                               \n",
      "GOLD:  #Person1# suggests to Jimmy that they go to the gym and convinces him to work out his arms and stomach.                                                             \n",
      "------------------------------------------------------------------------------------------------------------------------------------------------------\n",
      "PRED:     #Person1# wants to stop eating unhealthy food. #Person2# tells #Person1# that #Person2# has started eating healthier food, and #Person2# mainly eats fruit, vegetables, and chicken.                                                              \n",
      "GOLD:  #Person1# is planning to stop eating unhealthy food, and #Person2# shares his healthy recipes with #Person1#.                                                               \n",
      "------------------------------------------------------------------------------------------------------------------------------------------------------\n",
      "PRED:   #Person2# has been having trouble breathing lately. #Person1# will send #Person2# to a pulmonologist to check for asthma.                                                                          \n",
      "GOLD:  #Person2# has difficulty breathing. The doctor asks #Person1# about this, and will send #Person2# to a lung specialist.                                                            \n",
      "------------------------------------------------------------------------------------------------------------------------------------------------------\n",
      "PRED:     #Person1# suggests to Jimmy that they work out later because #Person1#'s legs are sore, but Jimmy is following a weekly schedule, so they will do the legs on Friday.                                                              \n",
      "GOLD:  #Person1# suggests to Jimmy that they go to the gym and convinces him to work out his arms and stomach.                                                             \n",
      "------------------------------------------------------------------------------------------------------------------------------------------------------\n",
      "PRED:     #Person2# tells #Person1# that #Person2# has started eating healthier food. #Person2# mainly eats fruit, vegetables, and chicken.                                                                        \n",
      "GOLD:  #Person1# is planning to stop eating unhealthy food, and #Person2# shares his healthy recipes with #Person1#.                                                               \n",
      "------------------------------------------------------------------------------------------------------------------------------------------------------\n",
      "PRED:     #Person2# has been having trouble breathing lately. #Person1# is going to send #Person2# to a pulmonologist to check for asthma.                                                                      \n",
      "GOLD:  #Person2# has difficulty breathing. The doctor asks #Person1# about this, and will send #Person2# to a lung specialist.                                                            \n",
      "------------------------------------------------------------------------------------------------------------------------------------------------------\n",
      "PRED:     #Person1# suggests to Jimmy that they work out later because #Person1#'s legs are sore. They will meet at the gym at 3:30 and work on arms and abs.                                                              \n",
      "GOLD:  #Person1# suggests to Jimmy that they go to the gym and convinces him to work out his arms and stomach.                                                             \n",
      "------------------------------------------------------------------------------------------------------------------------------------------------------\n",
      "PRED:     #Person1# needs to stop eating unhealthy food. #Person2# tells #Person1# that they have started eating healthier food.                                                                           \n",
      "GOLD:  #Person1# is planning to stop eating unhealthy food, and #Person2# shares his healthy recipes with #Person1#.                                                               \n",
      "------------------------------------------------------------------------------------------------------------------------------------------------------\n",
      "PRED:  #Person2# has been having trouble breathing lately. #Person1# will send #Person2# to a pulmonologist to check for asthma.                                                                           \n",
      "GOLD:  #Person2# has difficulty breathing. The doctor asks #Person1# about this, and will send #Person2# to a lung specialist.                                                            \n",
      "------------------------------------------------------------------------------------------------------------------------------------------------------\n",
      "PRED:     #Person1# suggests to Jimmy that they work out later. #Person1#'s legs are sore, so they decide to work on their arms and abs on Friday.                                                                  \n",
      "GOLD:  #Person1# suggests to Jimmy that they go to the gym and convinces him to work out his arms and stomach.                                                             \n",
      "------------------------------------------------------------------------------------------------------------------------------------------------------\n",
      "PRED:     #Person1# needs to stop eating unhealthy food. #Person2# tells #Person1# that #Person2# has started eating healthier food.                                                                          \n",
      "GOLD:  #Person1# is planning to stop eating unhealthy food, and #Person2# shares his healthy recipes with #Person1#.                                                               \n",
      "------------------------------------------------------------------------------------------------------------------------------------------------------\n",
      "PRED:     #Person2# has been having trouble breathing lately. #Person1# is going to send #Person2# to a pulmonologist to check for asthma.                                                                 \n",
      "GOLD:  #Person2# has difficulty breathing. The doctor asks #Person1# about this, and will send #Person2# to a lung specialist.                                                            \n",
      "------------------------------------------------------------------------------------------------------------------------------------------------------\n",
      "PRED:     #Person1# suggests to Jimmy that they work out later because #Person1#'s legs are sore. They are going to meet at the gym at 3:30.                                                             \n",
      "GOLD:  #Person1# suggests to Jimmy that they go to the gym and convinces him to work out his arms and stomach.                                                             \n",
      "------------------------------------------------------------------------------------------------------------------------------------------------------\n",
      "PRED:     #Person1# wants to stop eating unhealthy food. #Person2# has started eating healthier food, mostly fruit, vegetables, and chicken.                                                                   \n",
      "GOLD:  #Person1# is planning to stop eating unhealthy food, and #Person2# shares his healthy recipes with #Person1#.                                                               \n",
      "------------------------------------------------------------------------------------------------------------------------------------------------------\n",
      "PRED:  #Person2# has been having trouble breathing lately. #Person1# will send #Person2# to a pulmonologist to check for asthma.                                                                           \n",
      "GOLD:  #Person2# has difficulty breathing. The doctor asks #Person1# about this, and will send #Person2# to a lung specialist.                                                            \n",
      "------------------------------------------------------------------------------------------------------------------------------------------------------\n",
      "PRED:    #Person1# suggests to Jimmy that they work out later. They decide to meet at the gym at 3:30 and work on arms and abs.                                                                     \n",
      "GOLD:  #Person1# suggests to Jimmy that they go to the gym and convinces him to work out his arms and stomach.                                                             \n",
      "------------------------------------------------------------------------------------------------------------------------------------------------------\n",
      "PRED:     #Person1# needs to stop eating unhealthy food, and #Person2# has started eating healthier food. #Person2# eats mostly fruit, vegetables, and chicken.                                                                    \n",
      "GOLD:  #Person1# is planning to stop eating unhealthy food, and #Person2# shares his healthy recipes with #Person1#.                                                               \n",
      "------------------------------------------------------------------------------------------------------------------------------------------------------\n",
      "PRED:  #Person2# has been having trouble breathing lately. #Person1# will send him to a pulmonologist for a checkup.                                                                      \n",
      "GOLD:  #Person2# has difficulty breathing. The doctor asks #Person1# about this, and will send #Person2# to a lung specialist.                                                            \n",
      "------------------------------------------------------------------------------------------------------------------------------------------------------\n",
      "PRED:     #Person1# suggests to Jimmy that they work out later. #Person1#'s legs are sore from playing basketball, so they decide to work on their arms and abs instead of their legs.                                                       \n",
      "GOLD:  #Person1# suggests to Jimmy that they go to the gym and convinces him to work out his arms and stomach.                                                             \n",
      "------------------------------------------------------------------------------------------------------------------------------------------------------\n",
      "PRED:     #Person1# wants to eat healthier food. #Person2# started eating healthier food and told #Person1# that he eats mostly fruits, vegetables, and chicken.                                                              \n",
      "GOLD:  #Person1# is planning to stop eating unhealthy food, and #Person2# shares his healthy recipes with #Person1#.                                                               \n"
     ]
    },
    {
     "name": "stderr",
     "output_type": "stream",
     "text": [
      "There were missing keys in the checkpoint model loaded: ['model.encoder.embed_tokens.weight', 'model.decoder.embed_tokens.weight', 'lm_head.weight'].\n",
      "Detected kernel version 5.4.0, which is below the recommended minimum of 5.5.0; this can cause the process to hang. It is recommended to upgrade the kernel to the minimum version or higher.\n"
     ]
    },
    {
     "data": {
      "text/html": [
       "\n",
       "    <div>\n",
       "      \n",
       "      <progress value='63' max='63' style='width:300px; height:20px; vertical-align: middle;'></progress>\n",
       "      [63/63 01:24]\n",
       "    </div>\n",
       "    "
      ],
      "text/plain": [
       "<IPython.core.display.HTML object>"
      ]
     },
     "metadata": {},
     "output_type": "display_data"
    },
    {
     "name": "stdout",
     "output_type": "stream",
     "text": [
      "------------------------------------------------------------------------------------------------------------------------------------------------------\n",
      "PRED:  #Person2# has been having trouble breathing lately. #Person1# will send #Person2# to a pulmonologist to check for asthma.                                                                           \n",
      "GOLD:  #Person2# has difficulty breathing. The doctor asks #Person1# about this, and will send #Person2# to a lung specialist.                                                            \n",
      "------------------------------------------------------------------------------------------------------------------------------------------------------\n",
      "PRED:     #Person1# suggests to Jimmy that they work out later. #Person1#'s legs are sore, so they decide to work on their arms and abs on Friday.                                                                  \n",
      "GOLD:  #Person1# suggests to Jimmy that they go to the gym and convinces him to work out his arms and stomach.                                                             \n",
      "------------------------------------------------------------------------------------------------------------------------------------------------------\n",
      "PRED:     #Person1# needs to stop eating unhealthy food. #Person2# tells #Person1# that #Person2# has started eating healthier food.                                                                          \n",
      "GOLD:  #Person1# is planning to stop eating unhealthy food, and #Person2# shares his healthy recipes with #Person1#.                                                               \n"
     ]
    },
    {
     "name": "stderr",
     "output_type": "stream",
     "text": [
      "[I 2024-09-06 10:25:43,700] Trial 7 finished with value: 0.0 and parameters: {'learning_rate': 2.69932093997759e-05, 'per_device_train_batch_size': 16, 'num_train_epochs': 25, 'warmup_ratio': 0.11909364113541078, 'optim': 'adafactor', 'gradient_accumulation_steps': 4, 'lr_scheduler_type': 'linear', 'fp16': True}. Best is trial 0 with value: 0.0.\n",
      "/tmp/ipykernel_58261/1742311384.py:4: FutureWarning: suggest_loguniform has been deprecated in v3.0.0. This feature will be removed in v6.0.0. See https://github.com/optuna/optuna/releases/tag/v3.0.0. Use suggest_float(..., log=True) instead.\n",
      "  config_data['training']['learning_rate'] = trial.suggest_loguniform('learning_rate', 1e-5, 1e-4)\n"
     ]
    },
    {
     "name": "stdout",
     "output_type": "stream",
     "text": [
      "Running on: cuda:0\n",
      "---------- Load tokenizer & model ----------\n",
      "---------- Model Name : knkarthick/MEETING-SUMMARY-BART-LARGE-XSUM-SAMSUM-DIALOGSUM ----------\n",
      "BartConfig {\n",
      "  \"_name_or_path\": \"knkarthick/MEETING-SUMMARY-BART-LARGE-XSUM-SAMSUM-DIALOGSUM\",\n",
      "  \"_num_labels\": 3,\n",
      "  \"activation_dropout\": 0.0,\n",
      "  \"activation_function\": \"gelu\",\n",
      "  \"add_bias_logits\": false,\n",
      "  \"add_final_layer_norm\": false,\n",
      "  \"architectures\": [\n",
      "    \"BartForConditionalGeneration\"\n",
      "  ],\n",
      "  \"attention_dropout\": 0.0,\n",
      "  \"bos_token_id\": 0,\n",
      "  \"classif_dropout\": 0.0,\n",
      "  \"classifier_dropout\": 0.0,\n",
      "  \"d_model\": 1024,\n",
      "  \"decoder_attention_heads\": 16,\n",
      "  \"decoder_ffn_dim\": 4096,\n",
      "  \"decoder_layerdrop\": 0.0,\n",
      "  \"decoder_layers\": 12,\n",
      "  \"decoder_start_token_id\": 2,\n",
      "  \"dropout\": 0.1,\n",
      "  \"early_stopping\": true,\n",
      "  \"encoder_attention_heads\": 16,\n",
      "  \"encoder_ffn_dim\": 4096,\n",
      "  \"encoder_layerdrop\": 0.0,\n",
      "  \"encoder_layers\": 12,\n",
      "  \"eos_token_id\": 2,\n",
      "  \"eos_token_ids\": [\n",
      "    2\n",
      "  ],\n",
      "  \"forced_eos_token_id\": 2,\n",
      "  \"gradient_checkpointing\": false,\n",
      "  \"id2label\": {\n",
      "    \"0\": \"LABEL_0\",\n",
      "    \"1\": \"LABEL_1\",\n",
      "    \"2\": \"LABEL_2\"\n",
      "  },\n",
      "  \"init_std\": 0.02,\n",
      "  \"is_encoder_decoder\": true,\n",
      "  \"label2id\": {\n",
      "    \"LABEL_0\": 0,\n",
      "    \"LABEL_1\": 1,\n",
      "    \"LABEL_2\": 2\n",
      "  },\n",
      "  \"max_length\": 62,\n",
      "  \"max_position_embeddings\": 1024,\n",
      "  \"min_length\": 11,\n",
      "  \"model_type\": \"bart\",\n",
      "  \"no_repeat_ngram_size\": 3,\n",
      "  \"normalize_before\": false,\n",
      "  \"normalize_embedding\": true,\n",
      "  \"num_beams\": 6,\n",
      "  \"num_hidden_layers\": 12,\n",
      "  \"output_past\": true,\n",
      "  \"pad_token_id\": 1,\n",
      "  \"prefix\": \" \",\n",
      "  \"replacing_rate\": 0,\n",
      "  \"scale_embedding\": false,\n",
      "  \"static_position_embeddings\": false,\n",
      "  \"student_decoder_layers\": null,\n",
      "  \"student_encoder_layers\": null,\n",
      "  \"task_specific_params\": {},\n",
      "  \"torch_dtype\": \"float32\",\n",
      "  \"transformers_version\": \"4.35.2\",\n",
      "  \"use_cache\": true,\n",
      "  \"vocab_size\": 50271\n",
      "}\n",
      "\n",
      "---------- Load tokenizer & model complete ----------\n",
      "Model and Tokenizer Loaded.\n",
      "------------------------------------------------------------------------------------------------------------------------------------------------------\n",
      "train_data:\n",
      " #Person1#: Hello, Mr. Smith. I'm Dr. Hawkins. Why are you here today?\n",
      "#Person2#: I thought it would be a good idea to have a checkup.\n",
      "#Person1#: That's right, you haven't had one in five years. You should have one every year.\n",
      "#Person2#: I know. But if nothing is wrong, why should I go to see a doctor?\n",
      "#Person1#: The best way to avoid serious illness is to catch these early. So for your own good, come at least once a year.\n",
      "#Person2#: I see.\n",
      "#Person1#: Look here. Your eyes and ears seem to be fine. Take a deep breath. Do you smoke, Mr. Smith?\n",
      "#Person2#: Yes.\n",
      "#Person1#: As you know, smoking is the main cause of lung cancer and heart disease. You really should quit.\n",
      "#Person2#: I've tried hundreds of times, but I find it hard to break the habit.\n",
      "#Person1#: We have classes and medicines that can help. I'll give you more information before you leave.\n",
      "#Person2#: OK, thank you, doctor.\n",
      "train_label:\n",
      " Mr. Smith is having a physical exam, and Dr. Hawkins recommends that he have a physical exam every year. Dr. Hawkins will give Mr. Smith information about classes and medications that can help him quit smoking.\n",
      "------------------------------------------------------------------------------------------------------------------------------------------------------\n",
      "val_data:\n",
      " #Person1#: Hello, how are you today?\n",
      "#Person2#: I'm having a little trouble breathing lately.\n",
      "#Person1#: Have you been sick with anything lately, like a cold?\n",
      "#Person2#: No, it's not a cold. It just feels like my chest is heavy every time I breathe.\n",
      "#Person1#: Do you have any known allergies?\n",
      "#Person2#: No, I don't have any known allergies.\n",
      "#Person1#: Does this happen all the time, or is it mostly when you are active?\n",
      "#Person2#: It happens a lot when I exercise.\n",
      "#Person1#: I'm going to send you to a pulmonologist to get checked for asthma.\n",
      "#Person2#: Thank you for helping me, doctor.\n",
      "val_label:\n",
      " #Person2# has difficulty breathing. The doctor asks #Person1# about this, and will send #Person2# to a lung specialist.\n",
      "---------- Load data complete ----------\n",
      "---------- Make dataset complete ----------\n",
      "---------- Make training arguments ----------\n"
     ]
    },
    {
     "data": {
      "text/html": [
       "Changes to your `wandb` environment variables will be ignored because your `wandb` session has already started. For more information on how to modify your settings with `wandb.init()` arguments, please refer to <a href='https://wandb.me/wandb-init' target=\"_blank\">the W&B docs</a>."
      ],
      "text/plain": [
       "<IPython.core.display.HTML object>"
      ]
     },
     "metadata": {},
     "output_type": "display_data"
    },
    {
     "data": {
      "text/html": [
       "Finishing last run (ID:cdxtimlw) before initializing another..."
      ],
      "text/plain": [
       "<IPython.core.display.HTML object>"
      ]
     },
     "metadata": {},
     "output_type": "display_data"
    },
    {
     "data": {
      "application/vnd.jupyter.widget-view+json": {
       "model_id": "b38252b2e9774fa09b18d15b164521ff",
       "version_major": 2,
       "version_minor": 0
      },
      "text/plain": [
       "VBox(children=(Label(value='1550.164 MB of 1550.164 MB uploaded\\r'), FloatProgress(value=1.0, max=1.0)))"
      ]
     },
     "metadata": {},
     "output_type": "display_data"
    },
    {
     "name": "stderr",
     "output_type": "stream",
     "text": [
      "wandb: WARNING Source type is set to 'repo' but some required information is missing from the environment. A job will not be created from this run. See https://docs.wandb.ai/guides/launch/create-job\n"
     ]
    },
    {
     "data": {
      "text/html": [
       "<style>\n",
       "    table.wandb td:nth-child(1) { padding: 0 10px; text-align: left ; width: auto;} td:nth-child(2) {text-align: left ; width: 100%}\n",
       "    .wandb-row { display: flex; flex-direction: row; flex-wrap: wrap; justify-content: flex-start; width: 100% }\n",
       "    .wandb-col { display: flex; flex-direction: column; flex-basis: 100%; flex: 1; padding: 10px; }\n",
       "    </style>\n",
       "<div class=\"wandb-row\"><div class=\"wandb-col\"><h3>Run history:</h3><br/><table class=\"wandb\"><tr><td>eval/loss</td><td>▅▂▂▁▂▁▅█▇▁</td></tr><tr><td>eval/rouge-1</td><td>▁▆▂█▇█▇▇▄█</td></tr><tr><td>eval/rouge-2</td><td>▁▇▄█▇▇▆▇▄▇</td></tr><tr><td>eval/rouge-l</td><td>▁▅▂█▇▆▆▆▂▆</td></tr><tr><td>eval/runtime</td><td>▅▄█▃▃▄▁▃▂▄</td></tr><tr><td>eval/samples_per_second</td><td>▄▄▁▆▆▅█▆▇▅</td></tr><tr><td>eval/steps_per_second</td><td>▄▄▁▆▆▅█▆▇▅</td></tr><tr><td>train/epoch</td><td>▁▁▂▂▃▃▄▄▅▅▅▅▆▆▇▇████</td></tr><tr><td>train/global_step</td><td>▁▁▂▂▃▃▄▄▅▅▅▅▆▆▇▇████</td></tr><tr><td>train/learning_rate</td><td>▁▅██▇▇▆▆▅</td></tr><tr><td>train/loss</td><td>█▂▁▁▁▁▁▁▁</td></tr><tr><td>train/total_flos</td><td>▁</td></tr><tr><td>train/train_loss</td><td>▁</td></tr><tr><td>train/train_runtime</td><td>▁</td></tr><tr><td>train/train_samples_per_second</td><td>▁</td></tr><tr><td>train/train_steps_per_second</td><td>▁</td></tr></table><br/></div><div class=\"wandb-col\"><h3>Run summary:</h3><br/><table class=\"wandb\"><tr><td>eval/loss</td><td>0.5231</td></tr><tr><td>eval/rouge-1</td><td>0.49431</td></tr><tr><td>eval/rouge-2</td><td>0.20201</td></tr><tr><td>eval/rouge-l</td><td>0.45527</td></tr><tr><td>eval/runtime</td><td>86.115</td></tr><tr><td>eval/samples_per_second</td><td>5.795</td></tr><tr><td>eval/steps_per_second</td><td>0.732</td></tr><tr><td>train/epoch</td><td>9.0</td></tr><tr><td>train/global_step</td><td>1752</td></tr><tr><td>train/learning_rate</td><td>2e-05</td></tr><tr><td>train/loss</td><td>0.132</td></tr><tr><td>train/total_flos</td><td>1.2148029912829133e+17</td></tr><tr><td>train/train_loss</td><td>0.6501</td></tr><tr><td>train/train_runtime</td><td>3441.2966</td></tr><tr><td>train/train_samples_per_second</td><td>90.496</td></tr><tr><td>train/train_steps_per_second</td><td>1.409</td></tr></table><br/></div></div>"
      ],
      "text/plain": [
       "<IPython.core.display.HTML object>"
      ]
     },
     "metadata": {},
     "output_type": "display_data"
    },
    {
     "data": {
      "text/html": [
       " View run <strong style=\"color:#cdcd00\">BART-LARGE-XSUM-SAMSUM-DIALOGSUM</strong> at: <a href='https://wandb.ai/legendki/NLP-Summarization/runs/cdxtimlw' target=\"_blank\">https://wandb.ai/legendki/NLP-Summarization/runs/cdxtimlw</a><br/>Synced 6 W&B file(s), 0 media file(s), 4 artifact file(s) and 0 other file(s)"
      ],
      "text/plain": [
       "<IPython.core.display.HTML object>"
      ]
     },
     "metadata": {},
     "output_type": "display_data"
    },
    {
     "data": {
      "text/html": [
       "Find logs at: <code>./wandb/run-20240906_092522-cdxtimlw/logs</code>"
      ],
      "text/plain": [
       "<IPython.core.display.HTML object>"
      ]
     },
     "metadata": {},
     "output_type": "display_data"
    },
    {
     "data": {
      "text/html": [
       "Successfully finished last run (ID:cdxtimlw). Initializing new run:<br/>"
      ],
      "text/plain": [
       "<IPython.core.display.HTML object>"
      ]
     },
     "metadata": {},
     "output_type": "display_data"
    },
    {
     "data": {
      "application/vnd.jupyter.widget-view+json": {
       "model_id": "bf857d3c418a40f28e0b8d9d7befdb86",
       "version_major": 2,
       "version_minor": 0
      },
      "text/plain": [
       "VBox(children=(Label(value='Waiting for wandb.init()...\\r'), FloatProgress(value=0.011112470759285821, max=1.0…"
      ]
     },
     "metadata": {},
     "output_type": "display_data"
    },
    {
     "data": {
      "text/html": [
       "wandb version 0.17.9 is available!  To upgrade, please run:\n",
       " $ pip install wandb --upgrade"
      ],
      "text/plain": [
       "<IPython.core.display.HTML object>"
      ]
     },
     "metadata": {},
     "output_type": "display_data"
    },
    {
     "data": {
      "text/html": [
       "Tracking run with wandb version 0.16.1"
      ],
      "text/plain": [
       "<IPython.core.display.HTML object>"
      ]
     },
     "metadata": {},
     "output_type": "display_data"
    },
    {
     "data": {
      "text/html": [
       "Run data is saved locally in <code>/home/upstage-nlp-summarization-nlp7/code/wandb/run-20240906_102552-vv1ii60q</code>"
      ],
      "text/plain": [
       "<IPython.core.display.HTML object>"
      ]
     },
     "metadata": {},
     "output_type": "display_data"
    },
    {
     "data": {
      "text/html": [
       "Syncing run <strong><a href='https://wandb.ai/legendki/NLP-Summarization/runs/vv1ii60q' target=\"_blank\">BART-LARGE-XSUM-SAMSUM-DIALOGSUM</a></strong> to <a href='https://wandb.ai/legendki/NLP-Summarization' target=\"_blank\">Weights & Biases</a> (<a href='https://wandb.me/run' target=\"_blank\">docs</a>)<br/>"
      ],
      "text/plain": [
       "<IPython.core.display.HTML object>"
      ]
     },
     "metadata": {},
     "output_type": "display_data"
    },
    {
     "data": {
      "text/html": [
       " View project at <a href='https://wandb.ai/legendki/NLP-Summarization' target=\"_blank\">https://wandb.ai/legendki/NLP-Summarization</a>"
      ],
      "text/plain": [
       "<IPython.core.display.HTML object>"
      ]
     },
     "metadata": {},
     "output_type": "display_data"
    },
    {
     "data": {
      "text/html": [
       " View run at <a href='https://wandb.ai/legendki/NLP-Summarization/runs/vv1ii60q' target=\"_blank\">https://wandb.ai/legendki/NLP-Summarization/runs/vv1ii60q</a>"
      ],
      "text/plain": [
       "<IPython.core.display.HTML object>"
      ]
     },
     "metadata": {},
     "output_type": "display_data"
    },
    {
     "name": "stderr",
     "output_type": "stream",
     "text": [
      "Detected kernel version 5.4.0, which is below the recommended minimum of 5.5.0; this can cause the process to hang. It is recommended to upgrade the kernel to the minimum version or higher.\n"
     ]
    },
    {
     "name": "stdout",
     "output_type": "stream",
     "text": [
      "---------- Make training arguments complete ----------\n",
      "---------- Make trainer ----------\n",
      "---------- Make trainer complete ----------\n"
     ]
    },
    {
     "data": {
      "text/html": [
       "\n",
       "    <div>\n",
       "      \n",
       "      <progress value='10906' max='21812' style='width:300px; height:20px; vertical-align: middle;'></progress>\n",
       "      [10906/21812 54:29 < 54:29, 3.34 it/s, Epoch 7/14]\n",
       "    </div>\n",
       "    <table border=\"1\" class=\"dataframe\">\n",
       "  <thead>\n",
       " <tr style=\"text-align: left;\">\n",
       "      <th>Epoch</th>\n",
       "      <th>Training Loss</th>\n",
       "      <th>Validation Loss</th>\n",
       "      <th>Rouge-1</th>\n",
       "      <th>Rouge-2</th>\n",
       "      <th>Rouge-l</th>\n",
       "    </tr>\n",
       "  </thead>\n",
       "  <tbody>\n",
       "    <tr>\n",
       "      <td>1</td>\n",
       "      <td>1.987600</td>\n",
       "      <td>0.559607</td>\n",
       "      <td>0.479388</td>\n",
       "      <td>0.192807</td>\n",
       "      <td>0.446594</td>\n",
       "    </tr>\n",
       "    <tr>\n",
       "      <td>2</td>\n",
       "      <td>0.369900</td>\n",
       "      <td>0.532840</td>\n",
       "      <td>0.495930</td>\n",
       "      <td>0.207988</td>\n",
       "      <td>0.458283</td>\n",
       "    </tr>\n",
       "    <tr>\n",
       "      <td>3</td>\n",
       "      <td>0.320300</td>\n",
       "      <td>0.532604</td>\n",
       "      <td>0.487009</td>\n",
       "      <td>0.201121</td>\n",
       "      <td>0.451684</td>\n",
       "    </tr>\n",
       "    <tr>\n",
       "      <td>4</td>\n",
       "      <td>0.268400</td>\n",
       "      <td>0.497377</td>\n",
       "      <td>0.482125</td>\n",
       "      <td>0.190057</td>\n",
       "      <td>0.446870</td>\n",
       "    </tr>\n",
       "    <tr>\n",
       "      <td>5</td>\n",
       "      <td>0.207000</td>\n",
       "      <td>0.539264</td>\n",
       "      <td>0.481212</td>\n",
       "      <td>0.189909</td>\n",
       "      <td>0.448554</td>\n",
       "    </tr>\n",
       "    <tr>\n",
       "      <td>6</td>\n",
       "      <td>0.152600</td>\n",
       "      <td>0.651796</td>\n",
       "      <td>0.481705</td>\n",
       "      <td>0.189930</td>\n",
       "      <td>0.443658</td>\n",
       "    </tr>\n",
       "    <tr>\n",
       "      <td>7</td>\n",
       "      <td>0.111100</td>\n",
       "      <td>0.704547</td>\n",
       "      <td>0.486354</td>\n",
       "      <td>0.193307</td>\n",
       "      <td>0.447473</td>\n",
       "    </tr>\n",
       "  </tbody>\n",
       "</table><p>"
      ],
      "text/plain": [
       "<IPython.core.display.HTML object>"
      ]
     },
     "metadata": {},
     "output_type": "display_data"
    },
    {
     "name": "stdout",
     "output_type": "stream",
     "text": [
      "------------------------------------------------------------------------------------------------------------------------------------------------------\n",
      "PRED:     #Person2# has been having trouble breathing lately. #Person1# will send #Person2# to a pulmonologist to check for asthma.                                                                        \n",
      "GOLD:  #Person2# has difficulty breathing. The doctor asks #Person1# about this, and will send #Person2# to a lung specialist.                                                            \n",
      "------------------------------------------------------------------------------------------------------------------------------------------------------\n",
      "PRED:     #Person1# and Jimmy are going to meet at the gym at 3:30 p.m. to work out. #Person1# wants to work on legs and forearms, but Jimmy wants to do arms and abs.                                                      \n",
      "GOLD:  #Person1# suggests to Jimmy that they go to the gym and convinces him to work out his arms and stomach.                                                             \n",
      "------------------------------------------------------------------------------------------------------------------------------------------------------\n",
      "PRED:     #Person1# wants to stop eating unhealthy food. #Person2# tells #Person1# that they eat fruit, vegetables, and chicken. #Person1# thinks it sounds healthier.                                                                  \n",
      "GOLD:  #Person1# is planning to stop eating unhealthy food, and #Person2# shares his healthy recipes with #Person1#.                                                               \n",
      "------------------------------------------------------------------------------------------------------------------------------------------------------\n",
      "PRED:    #Person2# has been having trouble breathing lately. #Person1# will send #Person2# to a pulmonologist to get checked for asthma.                                                                        \n",
      "GOLD:  #Person2# has difficulty breathing. The doctor asks #Person1# about this, and will send #Person2# to a lung specialist.                                                            \n",
      "------------------------------------------------------------------------------------------------------------------------------------------------------\n",
      "PRED:     #Person1# and Jimmy are going to meet at the gym at 3:30 to work out. #Person1# wants to work on arms and abs today, but Jimmy is following a weekly schedule.                                                           \n",
      "GOLD:  #Person1# suggests to Jimmy that they go to the gym and convinces him to work out his arms and stomach.                                                             \n",
      "------------------------------------------------------------------------------------------------------------------------------------------------------\n",
      "PRED:     #Person1# needs to stop eating unhealthy food. #Person2# tells #Person1# that #Person2# eats fruit, vegetables, and chicken.                                                                        \n",
      "GOLD:  #Person1# is planning to stop eating unhealthy food, and #Person2# shares his healthy recipes with #Person1#.                                                               \n",
      "------------------------------------------------------------------------------------------------------------------------------------------------------\n",
      "PRED:     #Person2# tells #Person1# that he has been having trouble breathing lately. #Person1# will send #Person2# to a pulmonologist to check for asthma.                                                                   \n",
      "GOLD:  #Person2# has difficulty breathing. The doctor asks #Person1# about this, and will send #Person2# to a lung specialist.                                                            \n",
      "------------------------------------------------------------------------------------------------------------------------------------------------------\n",
      "PRED:     #Person1# suggests to Jimmy that they work out later because #Person1#'s legs are sore, but Jimmy changes the schedule because he is following a weekly schedule.                                                                  \n",
      "GOLD:  #Person1# suggests to Jimmy that they go to the gym and convinces him to work out his arms and stomach.                                                             \n",
      "------------------------------------------------------------------------------------------------------------------------------------------------------\n",
      "PRED:     #Person2# tells #Person1# that they have started eating healthier food. #Person2# mainly eats fruit, vegetables, and chicken.                                                                         \n",
      "GOLD:  #Person1# is planning to stop eating unhealthy food, and #Person2# shares his healthy recipes with #Person1#.                                                               \n",
      "------------------------------------------------------------------------------------------------------------------------------------------------------\n",
      "PRED:  #Person2# has been having trouble breathing lately. #Person1# will send #Person2# to a pulmonologist to check for asthma.                                                           \n",
      "GOLD:  #Person2# has difficulty breathing. The doctor asks #Person1# about this, and will send #Person2# to a lung specialist.                                                            \n",
      "------------------------------------------------------------------------------------------------------------------------------------------------------\n",
      "PRED:     #Person1# suggests to Jimmy to work out with arms and abs because #Person1#'s legs are sore. Jimmy refuses because he is following a weekly schedule.                                                   \n",
      "GOLD:  #Person1# suggests to Jimmy that they go to the gym and convinces him to work out his arms and stomach.                                                             \n",
      "------------------------------------------------------------------------------------------------------------------------------------------------------\n",
      "PRED:  #Person2# started eating healthier food, such as fruit, vegetables, and chicken.                                                                    \n",
      "GOLD:  #Person1# is planning to stop eating unhealthy food, and #Person2# shares his healthy recipes with #Person1#.                                                               \n",
      "------------------------------------------------------------------------------------------------------------------------------------------------------\n",
      "PRED:  #Person2# has been having trouble breathing lately. #Person1# will send #Person2# to a pulmonologist to check for asthma.                                                                           \n",
      "GOLD:  #Person2# has difficulty breathing. The doctor asks #Person1# about this, and will send #Person2# to a lung specialist.                                                            \n",
      "------------------------------------------------------------------------------------------------------------------------------------------------------\n",
      "PRED:    #Person1# suggests to Jimmy that they work out later because #Person1#'s legs are sore. Jimmy agrees. They decide to meet at the gym at 3:30.                                                                 \n",
      "GOLD:  #Person1# suggests to Jimmy that they go to the gym and convinces him to work out his arms and stomach.                                                             \n",
      "------------------------------------------------------------------------------------------------------------------------------------------------------\n",
      "PRED:  #Person1# wants to eat healthier. #Person2# tells #Person1# that they eat mainly fruits, vegetables, and chicken.                                                                             \n",
      "GOLD:  #Person1# is planning to stop eating unhealthy food, and #Person2# shares his healthy recipes with #Person1#.                                                               \n",
      "------------------------------------------------------------------------------------------------------------------------------------------------------\n",
      "PRED:     #Person2# has been having trouble breathing lately. #Person1# asked about #Person2#'s symptoms and decided to send #Person2# to a pulmonologist to check for asthma.                                                                \n",
      "GOLD:  #Person2# has difficulty breathing. The doctor asks #Person1# about this, and will send #Person2# to a lung specialist.                                                            \n",
      "------------------------------------------------------------------------------------------------------------------------------------------------------\n",
      "PRED:     #Person1# suggests to Jimmy that they work out later because #Person1#'s legs are sore. Jimmy agrees and they decide to work on arms and abs.                                                                   \n",
      "GOLD:  #Person1# suggests to Jimmy that they go to the gym and convinces him to work out his arms and stomach.                                                             \n",
      "------------------------------------------------------------------------------------------------------------------------------------------------------\n",
      "PRED:     #Person2# tells #Person1# that they have started eating healthier food. #Person2# eats mostly fruits, vegetables, and chicken. #Person1# thinks that sounds healthier.                                                                  \n",
      "GOLD:  #Person1# is planning to stop eating unhealthy food, and #Person2# shares his healthy recipes with #Person1#.                                                               \n",
      "------------------------------------------------------------------------------------------------------------------------------------------------------\n",
      "PRED:    #Person2#'s chest is tight and they don't know the cause. #Person1# will send #Person2# to a pulmonologist to check for asthma.                                                           \n",
      "GOLD:  #Person2# has difficulty breathing. The doctor asks #Person1# about this, and will send #Person2# to a lung specialist.                                                            \n",
      "------------------------------------------------------------------------------------------------------------------------------------------------------\n",
      "PRED:     #Person1# suggests to Jimmy that they do a workout later because #Person1#'s legs are sore, but Jimmy refuses because he is following a weekly schedule.                                                          \n",
      "GOLD:  #Person1# suggests to Jimmy that they go to the gym and convinces him to work out his arms and stomach.                                                             \n",
      "------------------------------------------------------------------------------------------------------------------------------------------------------\n",
      "PRED:    #Person1# and #Person2# talk about healthy food. #Person2# tells #Person1# that he eats mostly fruits, vegetables, and chicken.                                                               \n",
      "GOLD:  #Person1# is planning to stop eating unhealthy food, and #Person2# shares his healthy recipes with #Person1#.                                                               \n"
     ]
    },
    {
     "name": "stderr",
     "output_type": "stream",
     "text": [
      "There were missing keys in the checkpoint model loaded: ['model.encoder.embed_tokens.weight', 'model.decoder.embed_tokens.weight', 'lm_head.weight'].\n",
      "Detected kernel version 5.4.0, which is below the recommended minimum of 5.5.0; this can cause the process to hang. It is recommended to upgrade the kernel to the minimum version or higher.\n"
     ]
    },
    {
     "data": {
      "text/html": [
       "\n",
       "    <div>\n",
       "      \n",
       "      <progress value='63' max='63' style='width:300px; height:20px; vertical-align: middle;'></progress>\n",
       "      [63/63 01:07]\n",
       "    </div>\n",
       "    "
      ],
      "text/plain": [
       "<IPython.core.display.HTML object>"
      ]
     },
     "metadata": {},
     "output_type": "display_data"
    },
    {
     "name": "stdout",
     "output_type": "stream",
     "text": [
      "------------------------------------------------------------------------------------------------------------------------------------------------------\n",
      "PRED:  #Person2# has been having trouble breathing lately. #Person1# will send #Person2# to a pulmonologist to check for asthma.                                                           \n",
      "GOLD:  #Person2# has difficulty breathing. The doctor asks #Person1# about this, and will send #Person2# to a lung specialist.                                                            \n",
      "------------------------------------------------------------------------------------------------------------------------------------------------------\n",
      "PRED:     #Person1# suggests to Jimmy to work out with arms and abs because #Person1#'s legs are sore. Jimmy refuses because he is following a weekly schedule.                                                   \n",
      "GOLD:  #Person1# suggests to Jimmy that they go to the gym and convinces him to work out his arms and stomach.                                                             \n",
      "------------------------------------------------------------------------------------------------------------------------------------------------------\n",
      "PRED:  #Person2# started eating healthier food, such as fruit, vegetables, and chicken.                                                                    \n",
      "GOLD:  #Person1# is planning to stop eating unhealthy food, and #Person2# shares his healthy recipes with #Person1#.                                                               \n"
     ]
    },
    {
     "name": "stderr",
     "output_type": "stream",
     "text": [
      "[I 2024-09-06 11:22:56,457] Trial 8 finished with value: 0.0 and parameters: {'learning_rate': 2.161615123058077e-05, 'per_device_train_batch_size': 8, 'num_train_epochs': 14, 'warmup_ratio': 0.2641602830450122, 'optim': 'adamw_torch', 'gradient_accumulation_steps': 1, 'lr_scheduler_type': 'linear', 'fp16': True}. Best is trial 0 with value: 0.0.\n",
      "/tmp/ipykernel_58261/1742311384.py:4: FutureWarning: suggest_loguniform has been deprecated in v3.0.0. This feature will be removed in v6.0.0. See https://github.com/optuna/optuna/releases/tag/v3.0.0. Use suggest_float(..., log=True) instead.\n",
      "  config_data['training']['learning_rate'] = trial.suggest_loguniform('learning_rate', 1e-5, 1e-4)\n"
     ]
    },
    {
     "name": "stdout",
     "output_type": "stream",
     "text": [
      "Running on: cuda:0\n",
      "---------- Load tokenizer & model ----------\n",
      "---------- Model Name : knkarthick/MEETING-SUMMARY-BART-LARGE-XSUM-SAMSUM-DIALOGSUM ----------\n",
      "BartConfig {\n",
      "  \"_name_or_path\": \"knkarthick/MEETING-SUMMARY-BART-LARGE-XSUM-SAMSUM-DIALOGSUM\",\n",
      "  \"_num_labels\": 3,\n",
      "  \"activation_dropout\": 0.0,\n",
      "  \"activation_function\": \"gelu\",\n",
      "  \"add_bias_logits\": false,\n",
      "  \"add_final_layer_norm\": false,\n",
      "  \"architectures\": [\n",
      "    \"BartForConditionalGeneration\"\n",
      "  ],\n",
      "  \"attention_dropout\": 0.0,\n",
      "  \"bos_token_id\": 0,\n",
      "  \"classif_dropout\": 0.0,\n",
      "  \"classifier_dropout\": 0.0,\n",
      "  \"d_model\": 1024,\n",
      "  \"decoder_attention_heads\": 16,\n",
      "  \"decoder_ffn_dim\": 4096,\n",
      "  \"decoder_layerdrop\": 0.0,\n",
      "  \"decoder_layers\": 12,\n",
      "  \"decoder_start_token_id\": 2,\n",
      "  \"dropout\": 0.1,\n",
      "  \"early_stopping\": true,\n",
      "  \"encoder_attention_heads\": 16,\n",
      "  \"encoder_ffn_dim\": 4096,\n",
      "  \"encoder_layerdrop\": 0.0,\n",
      "  \"encoder_layers\": 12,\n",
      "  \"eos_token_id\": 2,\n",
      "  \"eos_token_ids\": [\n",
      "    2\n",
      "  ],\n",
      "  \"forced_eos_token_id\": 2,\n",
      "  \"gradient_checkpointing\": false,\n",
      "  \"id2label\": {\n",
      "    \"0\": \"LABEL_0\",\n",
      "    \"1\": \"LABEL_1\",\n",
      "    \"2\": \"LABEL_2\"\n",
      "  },\n",
      "  \"init_std\": 0.02,\n",
      "  \"is_encoder_decoder\": true,\n",
      "  \"label2id\": {\n",
      "    \"LABEL_0\": 0,\n",
      "    \"LABEL_1\": 1,\n",
      "    \"LABEL_2\": 2\n",
      "  },\n",
      "  \"max_length\": 62,\n",
      "  \"max_position_embeddings\": 1024,\n",
      "  \"min_length\": 11,\n",
      "  \"model_type\": \"bart\",\n",
      "  \"no_repeat_ngram_size\": 3,\n",
      "  \"normalize_before\": false,\n",
      "  \"normalize_embedding\": true,\n",
      "  \"num_beams\": 6,\n",
      "  \"num_hidden_layers\": 12,\n",
      "  \"output_past\": true,\n",
      "  \"pad_token_id\": 1,\n",
      "  \"prefix\": \" \",\n",
      "  \"replacing_rate\": 0,\n",
      "  \"scale_embedding\": false,\n",
      "  \"static_position_embeddings\": false,\n",
      "  \"student_decoder_layers\": null,\n",
      "  \"student_encoder_layers\": null,\n",
      "  \"task_specific_params\": {},\n",
      "  \"torch_dtype\": \"float32\",\n",
      "  \"transformers_version\": \"4.35.2\",\n",
      "  \"use_cache\": true,\n",
      "  \"vocab_size\": 50271\n",
      "}\n",
      "\n",
      "---------- Load tokenizer & model complete ----------\n",
      "Model and Tokenizer Loaded.\n",
      "------------------------------------------------------------------------------------------------------------------------------------------------------\n",
      "train_data:\n",
      " #Person1#: Hello, Mr. Smith. I'm Dr. Hawkins. Why are you here today?\n",
      "#Person2#: I thought it would be a good idea to have a checkup.\n",
      "#Person1#: That's right, you haven't had one in five years. You should have one every year.\n",
      "#Person2#: I know. But if nothing is wrong, why should I go to see a doctor?\n",
      "#Person1#: The best way to avoid serious illness is to catch these early. So for your own good, come at least once a year.\n",
      "#Person2#: I see.\n",
      "#Person1#: Look here. Your eyes and ears seem to be fine. Take a deep breath. Do you smoke, Mr. Smith?\n",
      "#Person2#: Yes.\n",
      "#Person1#: As you know, smoking is the main cause of lung cancer and heart disease. You really should quit.\n",
      "#Person2#: I've tried hundreds of times, but I find it hard to break the habit.\n",
      "#Person1#: We have classes and medicines that can help. I'll give you more information before you leave.\n",
      "#Person2#: OK, thank you, doctor.\n",
      "train_label:\n",
      " Mr. Smith is having a physical exam, and Dr. Hawkins recommends that he have a physical exam every year. Dr. Hawkins will give Mr. Smith information about classes and medications that can help him quit smoking.\n",
      "------------------------------------------------------------------------------------------------------------------------------------------------------\n",
      "val_data:\n",
      " #Person1#: Hello, how are you today?\n",
      "#Person2#: I'm having a little trouble breathing lately.\n",
      "#Person1#: Have you been sick with anything lately, like a cold?\n",
      "#Person2#: No, it's not a cold. It just feels like my chest is heavy every time I breathe.\n",
      "#Person1#: Do you have any known allergies?\n",
      "#Person2#: No, I don't have any known allergies.\n",
      "#Person1#: Does this happen all the time, or is it mostly when you are active?\n",
      "#Person2#: It happens a lot when I exercise.\n",
      "#Person1#: I'm going to send you to a pulmonologist to get checked for asthma.\n",
      "#Person2#: Thank you for helping me, doctor.\n",
      "val_label:\n",
      " #Person2# has difficulty breathing. The doctor asks #Person1# about this, and will send #Person2# to a lung specialist.\n",
      "---------- Load data complete ----------\n",
      "---------- Make dataset complete ----------\n",
      "---------- Make training arguments ----------\n"
     ]
    },
    {
     "data": {
      "text/html": [
       "Changes to your `wandb` environment variables will be ignored because your `wandb` session has already started. For more information on how to modify your settings with `wandb.init()` arguments, please refer to <a href='https://wandb.me/wandb-init' target=\"_blank\">the W&B docs</a>."
      ],
      "text/plain": [
       "<IPython.core.display.HTML object>"
      ]
     },
     "metadata": {},
     "output_type": "display_data"
    },
    {
     "data": {
      "text/html": [
       "Finishing last run (ID:vv1ii60q) before initializing another..."
      ],
      "text/plain": [
       "<IPython.core.display.HTML object>"
      ]
     },
     "metadata": {},
     "output_type": "display_data"
    },
    {
     "data": {
      "application/vnd.jupyter.widget-view+json": {
       "model_id": "799f484f1ca646ae99a6c64bb1632d6e",
       "version_major": 2,
       "version_minor": 0
      },
      "text/plain": [
       "VBox(children=(Label(value='1550.164 MB of 1550.164 MB uploaded\\r'), FloatProgress(value=1.0, max=1.0)))"
      ]
     },
     "metadata": {},
     "output_type": "display_data"
    },
    {
     "name": "stderr",
     "output_type": "stream",
     "text": [
      "wandb: WARNING Source type is set to 'repo' but some required information is missing from the environment. A job will not be created from this run. See https://docs.wandb.ai/guides/launch/create-job\n"
     ]
    },
    {
     "data": {
      "text/html": [
       "<style>\n",
       "    table.wandb td:nth-child(1) { padding: 0 10px; text-align: left ; width: auto;} td:nth-child(2) {text-align: left ; width: 100%}\n",
       "    .wandb-row { display: flex; flex-direction: row; flex-wrap: wrap; justify-content: flex-start; width: 100% }\n",
       "    .wandb-col { display: flex; flex-direction: column; flex-basis: 100%; flex: 1; padding: 10px; }\n",
       "    </style>\n",
       "<div class=\"wandb-row\"><div class=\"wandb-col\"><h3>Run history:</h3><br/><table class=\"wandb\"><tr><td>eval/loss</td><td>▃▂▂▁▂▆█▁</td></tr><tr><td>eval/rouge-1</td><td>▁█▄▂▂▂▄▂</td></tr><tr><td>eval/rouge-2</td><td>▂█▅▁▁▁▂▁</td></tr><tr><td>eval/rouge-l</td><td>▂█▅▃▃▁▃▃</td></tr><tr><td>eval/runtime</td><td>█▅▆▂▁▆▃▁</td></tr><tr><td>eval/samples_per_second</td><td>▁▄▃▇█▃▅▇</td></tr><tr><td>eval/steps_per_second</td><td>▁▄▃▇█▃▅▇</td></tr><tr><td>train/epoch</td><td>▁▁▂▂▃▃▅▅▆▆▇▇████</td></tr><tr><td>train/global_step</td><td>▁▁▂▂▃▃▅▅▆▆▇▇████</td></tr><tr><td>train/learning_rate</td><td>▁▄▆█▇▆▅</td></tr><tr><td>train/loss</td><td>█▂▂▂▁▁▁</td></tr><tr><td>train/total_flos</td><td>▁</td></tr><tr><td>train/train_loss</td><td>▁</td></tr><tr><td>train/train_runtime</td><td>▁</td></tr><tr><td>train/train_samples_per_second</td><td>▁</td></tr><tr><td>train/train_steps_per_second</td><td>▁</td></tr></table><br/></div><div class=\"wandb-col\"><h3>Run summary:</h3><br/><table class=\"wandb\"><tr><td>eval/loss</td><td>0.49738</td></tr><tr><td>eval/rouge-1</td><td>0.48212</td></tr><tr><td>eval/rouge-2</td><td>0.19006</td></tr><tr><td>eval/rouge-l</td><td>0.44687</td></tr><tr><td>eval/runtime</td><td>68.1773</td></tr><tr><td>eval/samples_per_second</td><td>7.319</td></tr><tr><td>eval/steps_per_second</td><td>0.924</td></tr><tr><td>train/epoch</td><td>7.0</td></tr><tr><td>train/global_step</td><td>10906</td></tr><tr><td>train/learning_rate</td><td>1e-05</td></tr><tr><td>train/loss</td><td>0.1111</td></tr><tr><td>train/total_flos</td><td>9.448467709978214e+16</td></tr><tr><td>train/train_loss</td><td>0.48813</td></tr><tr><td>train/train_runtime</td><td>3260.1288</td></tr><tr><td>train/train_samples_per_second</td><td>53.494</td></tr><tr><td>train/train_steps_per_second</td><td>6.691</td></tr></table><br/></div></div>"
      ],
      "text/plain": [
       "<IPython.core.display.HTML object>"
      ]
     },
     "metadata": {},
     "output_type": "display_data"
    },
    {
     "data": {
      "text/html": [
       " View run <strong style=\"color:#cdcd00\">BART-LARGE-XSUM-SAMSUM-DIALOGSUM</strong> at: <a href='https://wandb.ai/legendki/NLP-Summarization/runs/vv1ii60q' target=\"_blank\">https://wandb.ai/legendki/NLP-Summarization/runs/vv1ii60q</a><br/>Synced 6 W&B file(s), 0 media file(s), 4 artifact file(s) and 0 other file(s)"
      ],
      "text/plain": [
       "<IPython.core.display.HTML object>"
      ]
     },
     "metadata": {},
     "output_type": "display_data"
    },
    {
     "data": {
      "text/html": [
       "Find logs at: <code>./wandb/run-20240906_102552-vv1ii60q/logs</code>"
      ],
      "text/plain": [
       "<IPython.core.display.HTML object>"
      ]
     },
     "metadata": {},
     "output_type": "display_data"
    },
    {
     "data": {
      "text/html": [
       "Successfully finished last run (ID:vv1ii60q). Initializing new run:<br/>"
      ],
      "text/plain": [
       "<IPython.core.display.HTML object>"
      ]
     },
     "metadata": {},
     "output_type": "display_data"
    },
    {
     "data": {
      "application/vnd.jupyter.widget-view+json": {
       "model_id": "7c477998fd0b4053a796ac17828f5387",
       "version_major": 2,
       "version_minor": 0
      },
      "text/plain": [
       "VBox(children=(Label(value='Waiting for wandb.init()...\\r'), FloatProgress(value=0.011112167893184557, max=1.0…"
      ]
     },
     "metadata": {},
     "output_type": "display_data"
    },
    {
     "data": {
      "text/html": [
       "wandb version 0.17.9 is available!  To upgrade, please run:\n",
       " $ pip install wandb --upgrade"
      ],
      "text/plain": [
       "<IPython.core.display.HTML object>"
      ]
     },
     "metadata": {},
     "output_type": "display_data"
    },
    {
     "data": {
      "text/html": [
       "Tracking run with wandb version 0.16.1"
      ],
      "text/plain": [
       "<IPython.core.display.HTML object>"
      ]
     },
     "metadata": {},
     "output_type": "display_data"
    },
    {
     "data": {
      "text/html": [
       "Run data is saved locally in <code>/home/upstage-nlp-summarization-nlp7/code/wandb/run-20240906_112304-rr39lmas</code>"
      ],
      "text/plain": [
       "<IPython.core.display.HTML object>"
      ]
     },
     "metadata": {},
     "output_type": "display_data"
    },
    {
     "data": {
      "text/html": [
       "Syncing run <strong><a href='https://wandb.ai/legendki/NLP-Summarization/runs/rr39lmas' target=\"_blank\">BART-LARGE-XSUM-SAMSUM-DIALOGSUM</a></strong> to <a href='https://wandb.ai/legendki/NLP-Summarization' target=\"_blank\">Weights & Biases</a> (<a href='https://wandb.me/run' target=\"_blank\">docs</a>)<br/>"
      ],
      "text/plain": [
       "<IPython.core.display.HTML object>"
      ]
     },
     "metadata": {},
     "output_type": "display_data"
    },
    {
     "data": {
      "text/html": [
       " View project at <a href='https://wandb.ai/legendki/NLP-Summarization' target=\"_blank\">https://wandb.ai/legendki/NLP-Summarization</a>"
      ],
      "text/plain": [
       "<IPython.core.display.HTML object>"
      ]
     },
     "metadata": {},
     "output_type": "display_data"
    },
    {
     "data": {
      "text/html": [
       " View run at <a href='https://wandb.ai/legendki/NLP-Summarization/runs/rr39lmas' target=\"_blank\">https://wandb.ai/legendki/NLP-Summarization/runs/rr39lmas</a>"
      ],
      "text/plain": [
       "<IPython.core.display.HTML object>"
      ]
     },
     "metadata": {},
     "output_type": "display_data"
    },
    {
     "name": "stderr",
     "output_type": "stream",
     "text": [
      "Detected kernel version 5.4.0, which is below the recommended minimum of 5.5.0; this can cause the process to hang. It is recommended to upgrade the kernel to the minimum version or higher.\n"
     ]
    },
    {
     "name": "stdout",
     "output_type": "stream",
     "text": [
      "---------- Make training arguments complete ----------\n",
      "---------- Make trainer ----------\n",
      "---------- Make trainer complete ----------\n"
     ]
    },
    {
     "data": {
      "text/html": [
       "\n",
       "    <div>\n",
       "      \n",
       "      <progress value='6232' max='15580' style='width:300px; height:20px; vertical-align: middle;'></progress>\n",
       "      [ 6232/15580 35:55 < 53:54, 2.89 it/s, Epoch 4/10]\n",
       "    </div>\n",
       "    <table border=\"1\" class=\"dataframe\">\n",
       "  <thead>\n",
       " <tr style=\"text-align: left;\">\n",
       "      <th>Epoch</th>\n",
       "      <th>Training Loss</th>\n",
       "      <th>Validation Loss</th>\n",
       "      <th>Rouge-1</th>\n",
       "      <th>Rouge-2</th>\n",
       "      <th>Rouge-l</th>\n",
       "    </tr>\n",
       "  </thead>\n",
       "  <tbody>\n",
       "    <tr>\n",
       "      <td>1</td>\n",
       "      <td>1.496600</td>\n",
       "      <td>0.539684</td>\n",
       "      <td>0.496988</td>\n",
       "      <td>0.212763</td>\n",
       "      <td>0.462928</td>\n",
       "    </tr>\n",
       "    <tr>\n",
       "      <td>2</td>\n",
       "      <td>0.363500</td>\n",
       "      <td>0.540775</td>\n",
       "      <td>0.477699</td>\n",
       "      <td>0.186917</td>\n",
       "      <td>0.437490</td>\n",
       "    </tr>\n",
       "    <tr>\n",
       "      <td>3</td>\n",
       "      <td>0.288500</td>\n",
       "      <td>0.547872</td>\n",
       "      <td>0.476900</td>\n",
       "      <td>0.190649</td>\n",
       "      <td>0.442133</td>\n",
       "    </tr>\n",
       "    <tr>\n",
       "      <td>4</td>\n",
       "      <td>0.222300</td>\n",
       "      <td>0.556881</td>\n",
       "      <td>0.490751</td>\n",
       "      <td>0.199874</td>\n",
       "      <td>0.456069</td>\n",
       "    </tr>\n",
       "  </tbody>\n",
       "</table><p>"
      ],
      "text/plain": [
       "<IPython.core.display.HTML object>"
      ]
     },
     "metadata": {},
     "output_type": "display_data"
    },
    {
     "name": "stdout",
     "output_type": "stream",
     "text": [
      "------------------------------------------------------------------------------------------------------------------------------------------------------\n",
      "PRED:     #Person2# has been having trouble breathing lately. #Person1# is going to send #Person2# to a pulmonologist to check for asthma.                                                                      \n",
      "GOLD:  #Person2# has difficulty breathing. The doctor asks #Person1# about this, and will send #Person2# to a lung specialist.                                                            \n",
      "------------------------------------------------------------------------------------------------------------------------------------------------------\n",
      "PRED:     #Person1# suggests to Jimmy that they go to the gym to work out later. They will meet at the gym at 3:30 p.m. and work on arms and abs.                                                            \n",
      "GOLD:  #Person1# suggests to Jimmy that they go to the gym and convinces him to work out his arms and stomach.                                                             \n",
      "------------------------------------------------------------------------------------------------------------------------------------------------------\n",
      "PRED:     #Person1# needs to stop eating unhealthy food. #Person2# tells #Person1# that they eat fruit, vegetables, and chicken.                                                                         \n",
      "GOLD:  #Person1# is planning to stop eating unhealthy food, and #Person2# shares his healthy recipes with #Person1#.                                                               \n",
      "------------------------------------------------------------------------------------------------------------------------------------------------------\n",
      "PRED:     #Person2# has been having trouble breathing lately. #Person1# is going to send #Person2# to a pulmonologist to get checked for asthma.                                                                     \n",
      "GOLD:  #Person2# has difficulty breathing. The doctor asks #Person1# about this, and will send #Person2# to a lung specialist.                                                            \n",
      "------------------------------------------------------------------------------------------------------------------------------------------------------\n",
      "PRED:     #Person1# suggests to Jimmy that they work out later because #Person1#'s legs are sore from playing basketball. Jimmy agrees. They are going to meet at the gym at 3:30.                                                            \n",
      "GOLD:  #Person1# suggests to Jimmy that they go to the gym and convinces him to work out his arms and stomach.                                                             \n",
      "------------------------------------------------------------------------------------------------------------------------------------------------------\n",
      "PRED:     #Person2# tells #Person1# that #Person2# has started eating healthier food these days. #Person2# eats fruit, vegetables, and chicken. #Person1# thinks that sounds healthier.                                                                \n",
      "GOLD:  #Person1# is planning to stop eating unhealthy food, and #Person2# shares his healthy recipes with #Person1#.                                                               \n",
      "------------------------------------------------------------------------------------------------------------------------------------------------------\n",
      "PRED:     #Person2# tells #Person1# that he has been having trouble breathing lately. #Person1# will send #Person2# to a pulmonologist to check for asthma.                                                                   \n",
      "GOLD:  #Person2# has difficulty breathing. The doctor asks #Person1# about this, and will send #Person2# to a lung specialist.                                                            \n",
      "------------------------------------------------------------------------------------------------------------------------------------------------------\n",
      "PRED:     #Person1# suggests to Jimmy that they work out later because #Person1#'s legs are sore, but Jimmy is following a weekly schedule. They decide to work out on Friday instead.                                                              \n",
      "GOLD:  #Person1# suggests to Jimmy that they go to the gym and convinces him to work out his arms and stomach.                                                             \n",
      "------------------------------------------------------------------------------------------------------------------------------------------------------\n",
      "PRED:     #Person2# tells #Person1# that they have started eating healthier food. #Person2# mainly eats fruit, vegetables, and chicken. #Person1# thinks that sounds healthier.                                                                  \n",
      "GOLD:  #Person1# is planning to stop eating unhealthy food, and #Person2# shares his healthy recipes with #Person1#.                                                               \n",
      "------------------------------------------------------------------------------------------------------------------------------------------------------\n",
      "PRED:  #Person2# has been having trouble breathing lately. #Person1# will send #Person2# to a pulmonologist to check for asthma.                                                                           \n",
      "GOLD:  #Person2# has difficulty breathing. The doctor asks #Person1# about this, and will send #Person2# to a lung specialist.                                                            \n",
      "------------------------------------------------------------------------------------------------------------------------------------------------------\n",
      "PRED:     #Person1# suggests to Jimmy that they work out later, but Jimmy is following a weekly schedule, so #Person1# changes the schedule to work out on Friday.                                                                  \n",
      "GOLD:  #Person1# suggests to Jimmy that they go to the gym and convinces him to work out his arms and stomach.                                                             \n",
      "------------------------------------------------------------------------------------------------------------------------------------------------------\n",
      "PRED:     #Person1# wants to eat healthier food. #Person2# tells #Person1# that #Person2# eats mostly fruits, vegetables, and chicken.                                                                        \n",
      "GOLD:  #Person1# is planning to stop eating unhealthy food, and #Person2# shares his healthy recipes with #Person1#.                                                               \n"
     ]
    },
    {
     "name": "stderr",
     "output_type": "stream",
     "text": [
      "There were missing keys in the checkpoint model loaded: ['model.encoder.embed_tokens.weight', 'model.decoder.embed_tokens.weight', 'lm_head.weight'].\n",
      "Detected kernel version 5.4.0, which is below the recommended minimum of 5.5.0; this can cause the process to hang. It is recommended to upgrade the kernel to the minimum version or higher.\n"
     ]
    },
    {
     "data": {
      "text/html": [
       "\n",
       "    <div>\n",
       "      \n",
       "      <progress value='63' max='63' style='width:300px; height:20px; vertical-align: middle;'></progress>\n",
       "      [63/63 01:22]\n",
       "    </div>\n",
       "    "
      ],
      "text/plain": [
       "<IPython.core.display.HTML object>"
      ]
     },
     "metadata": {},
     "output_type": "display_data"
    },
    {
     "name": "stdout",
     "output_type": "stream",
     "text": [
      "------------------------------------------------------------------------------------------------------------------------------------------------------\n",
      "PRED:     #Person2# has been having trouble breathing lately. #Person1# is going to send #Person2# to a pulmonologist to check for asthma.                                                                      \n",
      "GOLD:  #Person2# has difficulty breathing. The doctor asks #Person1# about this, and will send #Person2# to a lung specialist.                                                            \n",
      "------------------------------------------------------------------------------------------------------------------------------------------------------\n",
      "PRED:     #Person1# suggests to Jimmy that they go to the gym to work out later. They will meet at the gym at 3:30 p.m. and work on arms and abs.                                                            \n",
      "GOLD:  #Person1# suggests to Jimmy that they go to the gym and convinces him to work out his arms and stomach.                                                             \n",
      "------------------------------------------------------------------------------------------------------------------------------------------------------\n",
      "PRED:     #Person1# needs to stop eating unhealthy food. #Person2# tells #Person1# that they eat fruit, vegetables, and chicken.                                                                         \n",
      "GOLD:  #Person1# is planning to stop eating unhealthy food, and #Person2# shares his healthy recipes with #Person1#.                                                               \n"
     ]
    },
    {
     "name": "stderr",
     "output_type": "stream",
     "text": [
      "[I 2024-09-06 12:01:23,878] Trial 9 finished with value: 0.0 and parameters: {'learning_rate': 1.8616690452076175e-05, 'per_device_train_batch_size': 8, 'num_train_epochs': 10, 'warmup_ratio': 0.147831780070348, 'optim': 'adafactor', 'gradient_accumulation_steps': 1, 'lr_scheduler_type': 'linear', 'fp16': False}. Best is trial 0 with value: 0.0.\n"
     ]
    },
    {
     "name": "stdout",
     "output_type": "stream",
     "text": [
      "Best trial: 0.0\n",
      "Best parameters: {'learning_rate': 2.7239932412675317e-05, 'per_device_train_batch_size': 4, 'num_train_epochs': 12, 'warmup_ratio': 0.2534231630584237, 'optim': 'adamw_hf', 'gradient_accumulation_steps': 1, 'lr_scheduler_type': 'linear', 'fp16': True}\n"
     ]
    }
   ],
   "source": [
    "import optuna\n",
    "\n",
    "def objective(trial):\n",
    "    config_data['training']['learning_rate'] = trial.suggest_loguniform('learning_rate', 1e-5, 1e-4)\n",
    "    config_data['training']['per_device_train_batch_size'] = trial.suggest_categorical('per_device_train_batch_size', [4, 8, 16])\n",
    "    config_data['training']['num_train_epochs'] = trial.suggest_int('num_train_epochs', 10, 30)\n",
    "    config_data['training']['warmup_ratio'] = trial.suggest_float('warmup_ratio', 0.0, 0.3)\n",
    "    config_data['training']['optim'] = trial.suggest_categorical('optim', ['adamw_torch', 'adamw_hf', 'adafactor'])\n",
    "    config_data['training']['gradient_accumulation_steps'] = trial.suggest_int('gradient_accumulation_steps', 1, 4)\n",
    "    config_data['training']['lr_scheduler_type'] = trial.suggest_categorical('lr_scheduler_type', ['linear', 'cosine'])\n",
    "    config_data['training']['fp16'] = trial.suggest_categorical('fp16', [True, False])\n",
    "\n",
    "    device = torch.device('cuda:0' if torch.cuda.is_available() else 'cpu')\n",
    "    print(f\"Running on: {device}\")\n",
    "\n",
    "    generate_model, tokenizer = load_tokenizer_and_model_for_train(config_data, device)\n",
    "    print(\"Model and Tokenizer Loaded.\")\n",
    "\n",
    "    preprocessor = Preprocess(config_data['tokenizer']['bos_token'], config_data['tokenizer']['eos_token'])\n",
    "    train_inputs_dataset, val_inputs_dataset = prepare_train_dataset(config_data, preprocessor, config_data['general']['data_path'], tokenizer)\n",
    "\n",
    "    trainer = load_trainer_for_train(config_data, generate_model, tokenizer, train_inputs_dataset, val_inputs_dataset)\n",
    "\n",
    "    trainer.train()\n",
    "\n",
    "    eval_metrics = trainer.evaluate(eval_dataset=val_inputs_dataset)\n",
    "    rougeL = eval_metrics.get('rougeL', 0.0)\n",
    "\n",
    "    return rougeL\n",
    "study = optuna.create_study(direction='maximize')\n",
    "study.optimize(objective, n_trials=10)\n",
    "\n",
    "print(f\"Best trial: {study.best_trial.value}\")\n",
    "print(f\"Best parameters: {study.best_trial.params}\")\n"
   ]
  }
 ],
 "metadata": {
  "kernelspec": {
   "display_name": "base",
   "language": "python",
   "name": "python3"
  },
  "language_info": {
   "codemirror_mode": {
    "name": "ipython",
    "version": 3
   },
   "file_extension": ".py",
   "mimetype": "text/x-python",
   "name": "python",
   "nbconvert_exporter": "python",
   "pygments_lexer": "ipython3",
   "version": "3.10.13"
  }
 },
 "nbformat": 4,
 "nbformat_minor": 2
}
