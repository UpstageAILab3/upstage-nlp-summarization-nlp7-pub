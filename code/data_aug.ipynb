{
 "cells": [
  {
   "cell_type": "code",
   "execution_count": 1,
   "metadata": {},
   "outputs": [],
   "source": [
    "from openai import OpenAI  \n",
    "import pandas as pd"
   ]
  },
  {
   "cell_type": "code",
   "execution_count": null,
   "metadata": {},
   "outputs": [],
   "source": [
    "client = OpenAI(\n",
    "    api_key=\"API_KEY\", \n",
    "    base_url=\"https://api.upstage.ai/v1/solar\"\n",
    ")\n",
    "\n",
    "def augment_text(text):\n",
    "    try:\n",
    "        response = client.chat.completions.create(\n",
    "            model=\"solar-1-mini-chat\",\n",
    "            messages=[\n",
    "                {\n",
    "                    \"role\": \"system\",\n",
    "                    \"content\": \"다음 대화를 바탕으로 자연스러운 한국어 대화를 다양하게 변형해 주세요. summary는 대화의 가장 중요한 정보를 전달하고 대화 길이의 20% 이내로 간략하게 요약되어야하며 대화 내에서 중요한 명명된 개체를 보존하고 관찰자의 관점에서 작성되어야하고 은어나 약어 없이 공식적으로 사용되는 언어로 작성 되어야 합니다.\"\n",
    "                },\n",
    "                {\n",
    "                    \"role\": \"user\",\n",
    "                    \"content\": text\n",
    "                }\n",
    "            ],\n",
    "            max_tokens=150,  \n",
    "            n=1,  \n",
    "            temperature=0.7,\n",
    "        )\n",
    "        augmented_text = response.choices[0].message.content.strip()\n",
    "        return augmented_text\n",
    "    except Exception as e:\n",
    "        print(f\"Error augmenting text: {e}\")\n",
    "        return None\n",
    "\n",
    "df = pd.read_csv(\"../data/train.csv\")\n",
    "\n",
    "augmented_data = []\n",
    "\n",
    "for index, row in df.iterrows():\n",
    "    original_dialogue = row['dialogue']\n",
    "    augmented_dialogue = augment_text(original_dialogue)\n",
    "    \n",
    "    if augmented_dialogue:\n",
    "        new_row = {\n",
    "            'fname': row['fname'],\n",
    "            'dialogue': augmented_dialogue,\n",
    "            'summary': row['summary'], \n",
    "            'topic': row['topic']\n",
    "        }\n",
    "        augmented_data.append(new_row)\n",
    "\n",
    "augmented_df = pd.DataFrame(augmented_data)\n",
    "\n",
    "augmented_df.to_csv('augmented_train.csv', index=False)\n",
    "\n",
    "print(\"데이터 증강 및 저장이 완료되었습니다.\")"
   ]
  },
  {
   "cell_type": "code",
   "execution_count": null,
   "metadata": {},
   "outputs": [],
   "source": []
  }
 ],
 "metadata": {
  "kernelspec": {
   "display_name": "base",
   "language": "python",
   "name": "python3"
  },
  "language_info": {
   "codemirror_mode": {
    "name": "ipython",
    "version": 3
   },
   "file_extension": ".py",
   "mimetype": "text/x-python",
   "name": "python",
   "nbconvert_exporter": "python",
   "pygments_lexer": "ipython3",
   "version": "3.10.13"
  }
 },
 "nbformat": 4,
 "nbformat_minor": 2
}
